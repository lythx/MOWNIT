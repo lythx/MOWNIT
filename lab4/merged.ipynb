{
 "cells": [
  {
   "cell_type": "markdown",
   "id": "d737a97920aa40ba",
   "metadata": {},
   "source": [
    "# Laboratorium 04 - Efekt Rungego\n",
    "## Błażej Naziemiec i Szymon Żuk\n",
    "### 30 marca 2025\n",
    "## Wstęp\n",
    "Celem laboratorium było zapoznanie się z efektrm Rungego, czyli pogarszaniu się interpolacji wraz z zwiększaniem liczby węzłów. Aby to zaprezentować, należało zaimplementować interpolację wielomianową w kilku wariantach: wielomianów Lagrange'a z równoodległymi węzłami, kubicznymi funkcjami sklejanymi z równoodległymi węzłami oraz wielomianów Lagrange'a z węzłąmi Czebyszewa. Dodatkowo dla przedziału $[-1, 1]$ należało wygenerować punkty: Czebyszewa, Legrendre'a oraz równomiernie rozłożone dla $n=10, 20, 50$. "
   ]
  },
  {
   "cell_type": "code",
   "execution_count": null,
   "id": "29943165e93bf94a",
   "metadata": {
    "ExecuteTime": {
     "end_time": "2025-03-30T20:15:44.152657Z",
     "start_time": "2025-03-30T20:15:44.132658Z"
    }
   },
   "outputs": [],
   "source": [
    "import numpy as np\n",
    "import matplotlib.pyplot as plt\n",
    "from scipy.interpolate import CubicSpline, lagrange\n",
    "\n",
    "\n",
    "def generate_chebyshev_nodes(n):\n",
    "    i = np.arange(n)\n",
    "    return -np.cos(i * np.pi / n)\n",
    "\n",
    "\n",
    "def generate_legendre_nodes(n):\n",
    "    return np.polynomial.legendre.leggauss(n)[0]\n",
    "\n",
    "\n",
    "def generate_uniform_nodes(n):\n",
    "    return np.linspace(-1, 1, n)\n",
    "\n",
    "\n",
    "def calculate_distance_geometric_mean(x_vec, index):\n",
    "    x = x_vec[index]\n",
    "    distances = np.array([abs(xi - x) for xi in x_vec if xi != x])\n",
    "    return np.prod(distances) ** (1 / len(distances))"
   ]
  },
  {
   "cell_type": "markdown",
   "id": "3cb926204ff5cf0b",
   "metadata": {},
   "source": [
    "Najpierw używając wzoru na punkty Czebyszewa: $$t_i = -\\cos\\left(\\frac{i}{n}\\pi\\right), \\quad i = 0, \\ldots, n$$ funkcji `np.polynomial.legendre.leggauss(n)` i `np.linspace(-1, 1, n)` wyznaczyliśmy odpowiednio punkty Czybyszewa, Legendre'a i równomiernie rozmieszczone. Następnie dla każdego zbioru punktów i dla $n=10, 20, 50$ wyznaczyliśmy wykresy średniej geometrycznej odległości od pozostałych punktów."
   ]
  },
  {
   "cell_type": "code",
   "execution_count": null,
   "id": "373c69f2d8d0f2ee",
   "metadata": {
    "ExecuteTime": {
     "end_time": "2025-03-30T20:15:44.214656Z",
     "start_time": "2025-03-30T20:15:44.198658Z"
    }
   },
   "outputs": [],
   "source": [
    "def plot_points(x_vec_list, labels, title):\n",
    "    for x_vec, label in zip(x_vec_list, labels):\n",
    "        y_vec = [calculate_distance_geometric_mean(x_vec, i) for i in range(len(x_vec))]\n",
    "        plt.plot(x_vec, y_vec, label=label)\n",
    "    plt.title(title)\n",
    "    plt.legend()\n",
    "    plt.grid(True)\n",
    "    plt.show()"
   ]
  },
  {
   "cell_type": "code",
   "execution_count": null,
   "id": "9385d974397971ad",
   "metadata": {
    "ExecuteTime": {
     "end_time": "2025-03-30T20:15:44.770682Z",
     "start_time": "2025-03-30T20:15:44.323660Z"
    }
   },
   "outputs": [],
   "source": [
    "n = 10\n",
    "plot_points([generate_chebyshev_nodes(n),\n",
    "                 generate_legendre_nodes(n),\n",
    "                 generate_uniform_nodes(n)],\n",
    "                [\"Czebyszew\", \"Legendre\", \"Równomierne\"],\n",
    "                f\"Wykres średniej geometrycznej odległości dla n={n}\")"
   ]
  },
  {
   "cell_type": "markdown",
   "id": "89948e401173e833",
   "metadata": {},
   "source": [
    "*Wykres 1. Średnia geometryczna odległości dla n=10*"
   ]
  },
  {
   "cell_type": "code",
   "execution_count": null,
   "id": "43ddbe9f4dba61b3",
   "metadata": {
    "ExecuteTime": {
     "end_time": "2025-03-30T20:15:45.114758Z",
     "start_time": "2025-03-30T20:15:44.866681Z"
    }
   },
   "outputs": [],
   "source": [
    "n = 20\n",
    "plot_points([generate_chebyshev_nodes(n),\n",
    "                 generate_legendre_nodes(n),\n",
    "                 generate_uniform_nodes(n)],\n",
    "                [\"Czebyszew\", \"Legendre\", \"Równomierne\"],\n",
    "                f\"Wykres średniej geometrycznej odległości dla n={n}\")"
   ]
  },
  {
   "cell_type": "markdown",
   "id": "cf30c2c21665943c",
   "metadata": {},
   "source": [
    "*Wykres 2. Średnia geometryczna odległości dla n=20*"
   ]
  },
  {
   "cell_type": "code",
   "execution_count": null,
   "id": "initial_id",
   "metadata": {
    "ExecuteTime": {
     "end_time": "2025-03-30T20:15:45.315731Z",
     "start_time": "2025-03-30T20:15:45.128678Z"
    },
    "collapsed": true
   },
   "outputs": [],
   "source": [
    "n = 50\n",
    "plot_points([generate_chebyshev_nodes(n),\n",
    "                 generate_legendre_nodes(n),\n",
    "                 generate_uniform_nodes(n)],\n",
    "                [\"Czebyszew\", \"Legendre\", \"Równomierne\"],\n",
    "                f\"Wykres średniej geometrycznej odległości dla n={n}\")\n"
   ]
  },
  {
   "cell_type": "markdown",
   "id": "254d5c542373ba69",
   "metadata": {},
   "source": [
    "*Wykres 3. Średnia geometryczna odległości dla n=50*\n",
    "\n",
    "Jak widać na wykresach 1-3, średnia geometryczna odległości jest bardzo zbliżona dla wszystkich punktów Czebyszewa i Legendre'a, a dla punktów równomiernie rozłożonych rośnie w zależności od odległości punktu od 0. Im większe $n$ tym gładszy wykres i w przypadku punktów Legendre i Czebyszewa mniejsza średnia dla wartości brzegowych.\n",
    "\n",
    "W następnej części zadania mieliśmy wyznaczyć wielomiany interpolujące funkcje\n",
    "\n",
    "$$f_1(x) = \\frac{1}{1 + 25x^2} \\text{ na przedziale } [-1, 1]\\,,$$\n",
    "\n",
    "$$f_2(x) = \\exp(\\cos(x)) \\text{ na przedziale } [0, 2\\pi]\\,,$$\n",
    "\n",
    "za pomocą \n",
    "\n",
    "- wielomianów Lagrange'a z równoodległymi węzłami \n",
    "\n",
    "- kubicznych funkcji sklejanych z równoodległymi węzłami \n",
    "\n",
    "- wielomianów Lagrange'a z węzłami Czebyszewa\n",
    "\n",
    "Używając funkcji `np.linspace(a, b, n)` i wzoru na węzły Czebyszewa: $$x_j = -\\cos(\\theta_j) \\ \\ \\ \\theta_j = \\frac{2j - 1}{2n}\\pi, \\; 1 \\leq j \\leq n\\,.$$ wyznaczyliśmy odpowiednio węzły równoodległe i Czebyszewa dla $n=12$ oraz zbiór punktów do próbkowania dla $n=120$ (10 razy gęstszy zbiór). Następnie obliczyliśmy wartości funkcji Rungego dla węzłów. Potem używając funkcji `scipy.interpolate.lagrange(x_vec, y_vec)` i `scipy.interpolate.CubicSpline(x_vec, y_vec)` otrzymaliśmy wielomiany interpolacyjne Lagrange'a z równoogległumi węzłami, kubiczną funkcję sklejaną z równoogległumi węzłami i wielomiany interpolacyjne Lagrange'a z węzłami Czebyszewa."
   ]
  },
  {
   "cell_type": "code",
   "execution_count": null,
   "id": "70e0ac5b6d460b08",
   "metadata": {
    "ExecuteTime": {
     "end_time": "2025-03-30T20:15:45.568762Z",
     "start_time": "2025-03-30T20:15:45.364732Z"
    }
   },
   "outputs": [],
   "source": [
    "f1 = lambda x: 1 / (1 + 25 * x ** 2)\n",
    "range1 = (-1, 1)\n",
    "f2 = lambda x: np.exp(np.cos(x))\n",
    "range2 = (0, 2 * np.pi)\n",
    "\n",
    "\n",
    "def generate_uniform_nodes(n: int, range_: (float, float)):\n",
    "    a, b = range_\n",
    "    return np.linspace(a, b, n)\n",
    "\n",
    "\n",
    "def generate_chebyshev_nodes(n: int, range_: (float, float)):\n",
    "    a, b = range_\n",
    "    i = np.arange(1, n + 1)\n",
    "    return (a + b) / 2 + (b - a) / 2 * -np.cos((2 * i - 1) * np.pi / (2 * n))\n",
    "\n",
    "\n",
    "n = 12\n",
    "\n",
    "uniform_x = generate_uniform_nodes(n, range1)\n",
    "uniform_f1 = f1(uniform_x)\n",
    "chebyshev_x = generate_chebyshev_nodes(n, range1)\n",
    "chebyshev_f1 = f1(chebyshev_x)\n",
    "\n",
    "uniform_x_plot = generate_uniform_nodes(n * 10, range1)\n",
    "chebyshev_x_plot = generate_chebyshev_nodes(n * 10, range1)\n",
    "\n",
    "uniform_lagrange_polynomial = lagrange(uniform_x, uniform_f1)\n",
    "uniform_cubic_spline = CubicSpline(uniform_x, uniform_f1)\n",
    "chebyshev_lagrange_polynomial = lagrange(chebyshev_x, chebyshev_f1)\n",
    "\n",
    "plt.figure(figsize=(12, 6))\n",
    "\n",
    "plt.plot(uniform_x_plot, f1(uniform_x_plot), label='f1(x)')\n",
    "plt.plot(uniform_x_plot, uniform_lagrange_polynomial(uniform_x_plot), label='Lagrange, równoodległe węzły')\n",
    "plt.plot(uniform_x_plot, uniform_cubic_spline(uniform_x_plot), label='kubiczna funkcja sklejana, równoodległe węzły')\n",
    "plt.plot(chebyshev_x_plot, chebyshev_lagrange_polynomial(chebyshev_x_plot), label='Lagrange, węzły Czebyszewa')\n",
    "\n",
    "plt.xlabel('x')\n",
    "plt.ylabel('y')\n",
    "plt.title(f'Interpolacja funkcji Rungego')\n",
    "plt.legend()\n",
    "plt.grid(True)\n",
    "plt.show()"
   ]
  },
  {
   "cell_type": "markdown",
   "id": "e7304baf926733b2",
   "metadata": {},
   "source": [
    "*Wykres 4. Interpolacja funkcji Rungego*\n",
    "\n",
    "Jak widać funkcje interpolacyjne są w większości punktów bardzo zbliżone do funkcji Rungego. W pobliżu $x=0$ funkcje interpolacyjne przyjmują trochę za małe wartości, w szczególności wielomian Lagrange'a z węzłami Czebyszewa. Dla $abs(x)>0.6$ wielomian interpolacyjny Lagrange'a z równoodległymi węzłami ma wartości znacznie odbiegające od interpolowanej funkcji. Najlepszym przybliżeniem jest zatem kubiczna funkcja sklejana.\n",
    "\n",
    "Następnie przeprowadziliśmy interpolację funkcji $f_1$ i $f_2$ z $n = 4, 5, ..., 50$ korzystając z poprzednio użytych 3 metod. Wygenerowaliśmy zbiory 500 losowych punktów na dziedzinach funkcji, po czym obliczyliśmy wartości funkcji interpolacyjnych dla tych punktów. Następnie wyznaczyliśmy normę wektora błędu dla każdego $n$ i poszczególnych metod."
   ]
  },
  {
   "cell_type": "code",
   "execution_count": null,
   "id": "305ff7d8dab500c",
   "metadata": {
    "ExecuteTime": {
     "end_time": "2025-03-30T20:15:49.764487Z",
     "start_time": "2025-03-30T20:15:45.601732Z"
    }
   },
   "outputs": [],
   "source": [
    "def generate_500_rand_points(range_: (float, float)):\n",
    "    a, b = range_\n",
    "    points = np.random.uniform(low=a, high=b, size=500)\n",
    "    points.sort()\n",
    "    return points\n",
    "\n",
    "\n",
    "def generate_interpolated_y_vec(x_nodes, x_vec, func, interpolation_method):\n",
    "    y_nodes = func(x_nodes)\n",
    "    interpolated_func = interpolation_method(x_nodes, y_nodes)\n",
    "    return interpolated_func(x_vec)\n",
    "\n",
    "\n",
    "n_range = range(4, 51)\n",
    "x_vec_range1 = generate_500_rand_points(range1)\n",
    "x_vec_range2 = generate_500_rand_points(range2)\n",
    "y_vec_range1 = f1(x_vec_range1)\n",
    "y_vec_range2 = f2(x_vec_range2)\n",
    "\n",
    "f1_lagrange_uniform = [generate_interpolated_y_vec(\n",
    "    generate_uniform_nodes(n, range1),\n",
    "    x_vec_range1,\n",
    "    f1, lagrange\n",
    ") for n in n_range]\n",
    "f2_lagrange_uniform = [generate_interpolated_y_vec(\n",
    "    generate_uniform_nodes(n, range2),\n",
    "    x_vec_range2,\n",
    "    f2, lagrange\n",
    ") for n in n_range]\n",
    "\n",
    "f1_cubic_spline_uniform = [generate_interpolated_y_vec(\n",
    "    generate_uniform_nodes(n, range1),\n",
    "    x_vec_range1,\n",
    "    f1, CubicSpline\n",
    ") for n in n_range]\n",
    "f2_cubic_spline_uniform = [generate_interpolated_y_vec(\n",
    "    generate_uniform_nodes(n, range2),\n",
    "    x_vec_range2,\n",
    "    f2, CubicSpline\n",
    ") for n in n_range]\n",
    "\n",
    "f1_lagrange_chebyshev = [generate_interpolated_y_vec(\n",
    "    generate_chebyshev_nodes(n, range1),\n",
    "    x_vec_range1,\n",
    "    f1, lagrange\n",
    ") for n in n_range]\n",
    "f2_lagrange_chebyshev = [generate_interpolated_y_vec(\n",
    "    generate_chebyshev_nodes(n, range2),\n",
    "    x_vec_range2,\n",
    "    f2, lagrange\n",
    ") for n in n_range]\n",
    "\n",
    "\n",
    "def get_norms(vectors):\n",
    "    return [np.linalg.norm(vec) for vec in vectors]\n",
    "\n",
    "\n",
    "f1_lagrange_uniform_err = get_norms(abs(f1_lagrange_uniform - y_vec_range1))\n",
    "f2_lagrange_uniform_err = get_norms(abs(f2_lagrange_uniform - y_vec_range2))\n",
    "f1_cubic_spline_uniform_err = get_norms(abs(f1_cubic_spline_uniform - y_vec_range1))\n",
    "f2_cubic_spline_uniform_err = get_norms(abs(f2_cubic_spline_uniform - y_vec_range2))\n",
    "f1_lagrange_chebyshev_err = get_norms(abs(f1_lagrange_chebyshev - y_vec_range1))\n",
    "f2_lagrange_chebyshev_err = get_norms(abs(f2_lagrange_chebyshev - y_vec_range2))\n",
    "plt.figure(figsize=(12, 6))\n",
    "\n",
    "plt.semilogy(n_range, f1_lagrange_uniform_err, label='Lagrange, równoodległe węzły')\n",
    "plt.semilogy(n_range, f1_cubic_spline_uniform_err, label='kubiczna funkcja sklejana, równoodległe węzły')\n",
    "plt.semilogy(n_range, f1_lagrange_chebyshev_err, label=f'Lagrange, węzły Czebyszewa')\n",
    "\n",
    "plt.xlabel('n')\n",
    "plt.ylabel('norma wektora błędów')\n",
    "plt.title('Normy wektorów błędów dla funkcji f1 (funkcji Rungego)')\n",
    "plt.legend()\n",
    "plt.grid(True)\n",
    "plt.show()"
   ]
  },
  {
   "cell_type": "markdown",
   "id": "ba3ddce70b8348a7",
   "metadata": {},
   "source": [
    "*Wykres 5. Normy wektorów błędów dla funkcji f1*\n",
    "\n",
    "Jak widać na wykresie zdecydowanie najlepszą metodą interpolacji jest kubiczna funkcja sklejana z równoodległymi węzłami. Wielomian Lagrange'a z węzłami Czybyszewa zaczyna tracić dokładność około $n=33$, a z równoodległymi węzłami jest niedokładny nawet dla małych n. Dla wielomianów Lagrange'a widać tutaj efekt Rungego - dla dużych $n$ interpolacja jest niedokładna."
   ]
  },
  {
   "cell_type": "code",
   "execution_count": null,
   "id": "da0e3ba26543dff",
   "metadata": {
    "ExecuteTime": {
     "end_time": "2025-03-30T20:15:50.120761Z",
     "start_time": "2025-03-30T20:15:49.859456Z"
    }
   },
   "outputs": [],
   "source": [
    "\n",
    "\n",
    "plt.figure(figsize=(12, 6))\n",
    "\n",
    "plt.semilogy(n_range, f2_lagrange_uniform_err, label='Lagrange, równoodległe węzły')\n",
    "plt.semilogy(n_range, f2_cubic_spline_uniform_err, label='kubiczna funkcja sklejana, równoodległe węzły')\n",
    "plt.semilogy(n_range, f2_lagrange_chebyshev_err, label=f'Lagrange, węzły Czebyszewa')\n",
    "\n",
    "plt.xlabel('n')\n",
    "plt.ylabel('norma wektora błędów')\n",
    "plt.title('Normy wektorów błędów dla funkcji f2')\n",
    "plt.legend()\n",
    "plt.grid(True)\n",
    "plt.show()"
   ]
  },
  {
   "cell_type": "markdown",
   "id": "e922b187619b281c",
   "metadata": {},
   "source": [
    "*Wykres 6. Normy wektorów błędów dla funkcji f2*\n",
    "\n",
    "Jak widać na wykresie najlepszą metodą interpolacji jest znowu kubiczna funkcja sklejana z równoodległymi węzłami. Tym razem wielomian Lagrange'a zaczyna tracić dokładność około $n = 20$ i traci ją niezależnie od użytych węzłów. Dla wielomianów Lagrange'a znów widać tutaj efekt Rungego - dla dużych $n$ interpolacja jest niedokładna.\n",
    "\n",
    "Podsumowając w każdym przypadku kubiczna funkcja sklejana z węzłami równoodległymi okazała się być najlepszą metodą interpolacji, a wielomian Lagrange'a z węzłami równoodległymi najgorszą i podatną na efekt Rungego.\n",
    "\n",
    "## Bibliografia\n",
    "\n",
    " - Materiały zamieszczone na platformie Microsoft Teams w zespole $\\textit{MOwNiT 2025}$ w zakładce $\\textit{Materiały z zajęć/lab04/lab-intro04.pdf}$"
   ]
  }
 ],
 "metadata": {
  "kernelspec": {
   "display_name": "base",
   "language": "python",
   "name": "python3"
  },
  "language_info": {
   "codemirror_mode": {
    "name": "ipython",
    "version": 3
   },
   "file_extension": ".py",
   "mimetype": "text/x-python",
   "name": "python",
   "nbconvert_exporter": "python",
   "pygments_lexer": "ipython3",
   "version": "3.12.7"
  }
 },
 "nbformat": 4,
 "nbformat_minor": 5
}
