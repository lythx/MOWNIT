{
 "cells": [
  {
   "metadata": {},
   "cell_type": "code",
   "source": [
    "import numpy as np\n",
    "import matplotlib.pyplot as plt"
   ],
   "id": "7a611abfd7c163ba",
   "outputs": [],
   "execution_count": null
  },
  {
   "metadata": {},
   "cell_type": "code",
   "source": [
    "f1 = lambda x: 1 / (1 + 25 * x**2)\n",
    "range1 = (-1, 1)\n",
    "f2 = lambda x: np.exp(np.cos(x))\n",
    "range2 = (0, 2 * np.pi)"
   ],
   "id": "51364ec860dd31b",
   "outputs": [],
   "execution_count": null
  },
  {
   "metadata": {},
   "cell_type": "code",
   "source": [
    "def generate_chebyshev_nodes(n: int, range_: (int, int)):\n",
    "    a, b = range_\n",
    "    i = np.arange(n)\n",
    "    return (a + b) / 2 + (b - a) / 2 * -np.cos((2 * i - 1) * np.pi / (2 * n))\n",
    "\n",
    "generate_chebyshev_nodes(10, (0, 2 * np.pi))"
   ],
   "id": "72aa5e7f1413e81a",
   "outputs": [],
   "execution_count": null
  },
  {
   "metadata": {},
   "cell_type": "code",
   "source": [
    "def generate_uniform_nodes(n: int, range_: (int, int)):\n",
    "    a, b = range_\n",
    "    return np.linspace(a, b, n)"
   ],
   "id": "d8d6d50a2d86ded6",
   "outputs": [],
   "execution_count": null
  },
  {
   "metadata": {},
   "cell_type": "markdown",
   "source": "",
   "id": "f85a5ca7e91a03b2"
  }
 ],
 "metadata": {
  "kernelspec": {
   "name": "python3",
   "language": "python",
   "display_name": "Python 3 (ipykernel)"
  }
 },
 "nbformat": 5,
 "nbformat_minor": 9
}
