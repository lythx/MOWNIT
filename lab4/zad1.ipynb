{
 "cells": [
  {
   "metadata": {},
   "cell_type": "code",
   "source": [
    "import numpy as np\n",
    "import matplotlib.pyplot as plt"
   ],
   "id": "da8feded46329c15",
   "outputs": [],
   "execution_count": null
  },
  {
   "metadata": {},
   "cell_type": "code",
   "source": [
    "def generate_chebyshev_nodes(n: int):\n",
    "    i = np.arange(n)\n",
    "    return -np.cos(i * np.pi / n)"
   ],
   "id": "75189f56969aabda",
   "outputs": [],
   "execution_count": null
  },
  {
   "metadata": {},
   "cell_type": "code",
   "source": [
    "def generate_legendre_nodes(n: int):\n",
    "    return np.polynomial.legendre.leggauss(n)[0]"
   ],
   "id": "ba786a90f037c6c8",
   "outputs": [],
   "execution_count": null
  },
  {
   "metadata": {},
   "cell_type": "code",
   "source": [
    "def generate_uniform_nodes(n: int):\n",
    "    return np.linspace(-1, 1, n)"
   ],
   "id": "88e504a1573ff74a",
   "outputs": [],
   "execution_count": null
  },
  {
   "metadata": {},
   "cell_type": "code",
   "source": [
    "def plot_points(x_vec_list, labels, title):\n",
    "    for x_vec, label in zip(x_vec_list, labels):\n",
    "      y_vec = [np.power(np.prod(np.abs(np.array([xj for xj in x_vec if xj != xi]) - xi)), 1 / (x_vec.shape[0] - 1)) for xi in x_vec]\n",
    "      plt.plot(x_vec, y_vec, label=label)\n",
    "    plt.title(title)\n",
    "    plt.legend()\n",
    "    plt.grid(True)\n",
    "    plt.show()\n",
    "\n",
    "for n in (10, 20, 50):\n",
    "  plot_points([generate_chebyshev_nodes(n),\n",
    "               generate_legendre_nodes(n),\n",
    "               generate_uniform_nodes(n)],\n",
    "              [\"Chebyshev\", \"Legendre\", \"Równomierne\"],\n",
    "              f\"Wykres dla n={n}\")"
   ],
   "id": "6d9731fdb96c33a1",
   "outputs": [],
   "execution_count": null
  }
 ],
 "metadata": {
  "kernelspec": {
   "name": "python3",
   "language": "python",
   "display_name": "Python 3 (ipykernel)"
  }
 },
 "nbformat": 5,
 "nbformat_minor": 9
}
