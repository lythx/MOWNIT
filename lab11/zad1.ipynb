{
 "cells": [
  {
   "metadata": {
    "ExecuteTime": {
     "end_time": "2025-06-11T09:13:47.738657Z",
     "start_time": "2025-06-11T09:13:47.734348Z"
    }
   },
   "cell_type": "code",
   "source": [
    "import pandas as pd\n",
    "import numpy as np\n",
    "import matplotlib.pyplot as plt\n",
    "import scipy"
   ],
   "id": "3731dee7f7d87ccb",
   "outputs": [],
   "execution_count": 84
  },
  {
   "metadata": {
    "ExecuteTime": {
     "end_time": "2025-06-11T09:13:47.763353Z",
     "start_time": "2025-06-11T09:13:47.748670Z"
    }
   },
   "cell_type": "code",
   "source": [
    "with open(\"dataset/breast-cancer.labels\", \"r\") as f:\n",
    "    labels = [line.strip() for line in f.readlines()]\n",
    "train_data = pd.io.parsers.read_csv(\"dataset/breast-cancer-train.dat\", names=labels)\n",
    "validate_data = pd.io.parsers.read_csv(\"dataset/breast-cancer-validate.dat\", names=labels)\n",
    "train_data_malignant = train_data[train_data[\"Malignant/Benign\"] == \"M\"]\n",
    "train_data_benign = train_data[train_data[\"Malignant/Benign\"] == \"B\"]"
   ],
   "id": "f274d7d5fe6058ea",
   "outputs": [],
   "execution_count": 85
  },
  {
   "metadata": {
    "ExecuteTime": {
     "end_time": "2025-06-11T09:13:47.807650Z",
     "start_time": "2025-06-11T09:13:47.797732Z"
    }
   },
   "cell_type": "code",
   "source": [
    "def least_square():\n",
    "    linear_train = train_data.drop([\"patient ID\", \"Malignant/Benign\"], axis=1).values\n",
    "    linear_validate = validate_data.drop([\"patient ID\", \"Malignant/Benign\"], axis=1).values\n",
    "\n",
    "    def create_quadratic_representation(data):\n",
    "        df = data.copy()\n",
    "        for i in range(len(quad_columns)):\n",
    "            df[f\"{i}^2\"] = data[quad_columns[i]] ** 2\n",
    "        for i in range(len(quad_columns)):\n",
    "            for j in range(i + 1, len(quad_columns)):\n",
    "                df[f\"{i}_{j}\"] = data[quad_columns[i]] * data[quad_columns[j]]\n",
    "        return df.values\n",
    "\n",
    "    quad_columns = [\"radius (mean)\", \"perimeter (mean)\", \"area (mean)\", \"symmetry (mean)\"]\n",
    "    quadratic_train = create_quadratic_representation(train_data[quad_columns])\n",
    "    quadratic_validate = create_quadratic_representation(validate_data[quad_columns])\n",
    "\n",
    "    b_training = np.where(train_data[['Malignant/Benign']] == \"M\", 1, -1)\n",
    "    b_validate = np.where(validate_data[['Malignant/Benign']] == \"M\", 1, -1)\n",
    "\n",
    "    cov_mat_lin = linear_train.T @ linear_train\n",
    "    cov_mat_quad = quadratic_train.T @ quadratic_train\n",
    "\n",
    "    weights_linear = np.linalg.solve(cov_mat_lin, linear_train.T @ b_training)\n",
    "    weights_quadratic = np.linalg.solve(cov_mat_quad, quadratic_train.T @ b_training)\n",
    "\n",
    "    λ = 0.01\n",
    "    svd = scipy.linalg.lstsq(cov_mat_lin + λ * np.eye(cov_mat_lin.shape[0]), linear_train.T @ b_training)\n",
    "\n",
    "    p_lin = linear_validate @ weights_linear\n",
    "    p_quad = quadratic_validate @ weights_quadratic\n",
    "    p_lambda = linear_validate @ weights_linear\n",
    "    p_svd = linear_validate @ svd[0]\n",
    "    def calc_acc(p_vec, b_vec):\n",
    "        tp = np.sum([1 for p, b in zip(p_vec, b_vec) if p > 0 and b > 0])\n",
    "        tn = np.sum([1 for p, b in zip(p_vec, b_vec) if p <= 0 and b < 0])\n",
    "        fp = np.sum([1 for p, b in zip(p_vec, b_vec) if p > 0 and b <= 0])\n",
    "        fn = np.sum([1 for p, b in zip(p_vec, b_vec) if p <= 0 and b > 0])\n",
    "        return int(tp), int(tn), int(fp), int(fn), float((tp + tn) / (tp + tn + fp + fn))\n",
    "\n",
    "    tp_lin, tn_lin, fp_lin, fn_lin, acc_lin = calc_acc(p_lin, b_validate)\n",
    "    tp_quad, tn_quad, fp_quad, fn_quad, acc_quad = calc_acc(p_quad, b_validate)\n",
    "    tp_lambda, tn_lambda, fp_lambda, fn_lambda, acc_lambda = calc_acc(p_lambda, b_validate)\n",
    "    tp_svd, tn_svd, fp_svd, fn_svd, acc_svd = calc_acc(p_svd, b_validate)\n",
    "    return (tp_lin, tn_lin, fp_lin, fn_lin, acc_lin), (tp_quad, tn_quad, fp_quad, fn_quad, acc_quad), (tp_lambda, tn_lambda, fp_lambda, fn_lambda, acc_lambda),(tp_svd, tn_svd, fp_svd, fn_svd, acc_svd)"
   ],
   "id": "2509cf50e8b5921",
   "outputs": [],
   "execution_count": 86
  },
  {
   "metadata": {
    "ExecuteTime": {
     "end_time": "2025-06-11T09:13:47.849381Z",
     "start_time": "2025-06-11T09:13:47.840766Z"
    }
   },
   "cell_type": "code",
   "source": [
    "def gradient_descent(n_iterations=100000):\n",
    "    A = train_data.drop([\"patient ID\", \"Malignant/Benign\"], axis=1).values\n",
    "    A = np.c_[np.ones(A.shape[0]), A]\n",
    "\n",
    "    A_validate = validate_data.drop([\"patient ID\", \"Malignant/Benign\"], axis=1).values\n",
    "    A_validate = np.c_[np.ones(A_validate.shape[0]), A_validate]\n",
    "\n",
    "    b = np.where(train_data[['Malignant/Benign']] == \"M\", 1, -1)\n",
    "    b_validate = np.where(validate_data[['Malignant/Benign']] == \"M\", 1, -1)\n",
    "\n",
    "    AtA = A.T @ A\n",
    "\n",
    "    eigv = scipy.linalg.eigvals(AtA)\n",
    "    real_eigv = np.real(eigv)\n",
    "\n",
    "    lambda_max = np.max(real_eigv)\n",
    "    lambda_min = np.min(real_eigv)\n",
    "\n",
    "    alpha = 1 / (lambda_max + lambda_min)\n",
    "\n",
    "    n_samples, n_features = A.shape\n",
    "    theta = np.zeros(n_features) * 1\n",
    "    costs = []\n",
    "\n",
    "    for iteration in range(n_iterations):\n",
    "        predictions = A @ theta\n",
    "        error = predictions - b.flatten()\n",
    "\n",
    "        gradient = (2/n_samples) * A.T @ error\n",
    "\n",
    "        theta = theta - alpha * gradient\n",
    "\n",
    "        cost = np.mean(error**2) # MSE\n",
    "        costs.append(cost)\n",
    "\n",
    "    p = A_validate @ theta\n",
    "\n",
    "    def calc_acc(p_vec, b_vec):\n",
    "        tp = np.sum([1 for p, b in zip(p_vec, b_vec) if p > 0 and b > 0])\n",
    "        tn = np.sum([1 for p, b in zip(p_vec, b_vec) if p <= 0 and b < 0])\n",
    "        fp = np.sum([1 for p, b in zip(p_vec, b_vec) if p > 0 and b <= 0])\n",
    "        fn = np.sum([1 for p, b in zip(p_vec, b_vec) if p <= 0 and b > 0])\n",
    "        total = tp + tn + fp + fn\n",
    "        accuracy = float((tp + tn) / total) if total > 0 else 0.0\n",
    "        return int(tp), int(tn), int(fp), int(fn), accuracy\n",
    "\n",
    "    tp, tn, fp, fn, accuracy = calc_acc(p, b_validate.flatten())\n",
    "\n",
    "    return tp, tn, fp, fn, accuracy"
   ],
   "id": "c7f477997e683942",
   "outputs": [],
   "execution_count": 87
  },
  {
   "metadata": {
    "ExecuteTime": {
     "end_time": "2025-06-11T09:13:47.936029Z",
     "start_time": "2025-06-11T09:13:47.905130Z"
    }
   },
   "cell_type": "code",
   "source": "least_square()",
   "id": "ff3520a4ec743d60",
   "outputs": [
    {
     "data": {
      "text/plain": [
       "((58, 194, 6, 2, 0.9692307692307692),\n",
       " (55, 185, 15, 5, 0.9230769230769231),\n",
       " (58, 194, 6, 2, 0.9692307692307692),\n",
       " (55, 199, 1, 5, 0.9769230769230769))"
      ]
     },
     "execution_count": 88,
     "metadata": {},
     "output_type": "execute_result"
    }
   ],
   "execution_count": 88
  },
  {
   "metadata": {
    "ExecuteTime": {
     "end_time": "2025-06-11T09:13:51.956661Z",
     "start_time": "2025-06-11T09:13:47.980220Z"
    }
   },
   "cell_type": "code",
   "source": "gradient_descent()",
   "id": "4895ed2c5e3124bc",
   "outputs": [
    {
     "data": {
      "text/plain": [
       "(49, 193, 7, 11, 0.9307692307692308)"
      ]
     },
     "execution_count": 89,
     "metadata": {},
     "output_type": "execute_result"
    }
   ],
   "execution_count": 89
  }
 ],
 "metadata": {
  "kernelspec": {
   "name": "python3",
   "language": "python",
   "display_name": "Python 3 (ipykernel)"
  }
 },
 "nbformat": 5,
 "nbformat_minor": 9
}
