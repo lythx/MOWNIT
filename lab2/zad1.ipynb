{
 "cells": [
  {
   "metadata": {},
   "cell_type": "code",
   "outputs": [],
   "execution_count": null,
   "source": "import pandas as pd",
   "id": "678ec2f760ece654"
  }
 ],
 "metadata": {},
 "nbformat": 5,
 "nbformat_minor": 9
}
