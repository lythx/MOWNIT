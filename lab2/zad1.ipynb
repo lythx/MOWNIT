{
 "cells": [
  {
   "cell_type": "code",
   "id": "a376482fefa05e03",
   "metadata": {},
   "source": [
    "\n",
    "import pandas as pd\n",
    "import numpy as np\n",
    "import matplotlib.pyplot as plt\n",
    "import scipy\n",
    "from pprint import pprint\n",
    "\n",
    "from pandas.core.interchange.dataframe_protocol import DataFrame"
   ],
   "outputs": [],
   "execution_count": null
  },
  {
   "cell_type": "code",
   "id": "cc306e51135344ff",
   "metadata": {},
   "source": [
    "with open(\"dataset/breast-cancer.labels\", \"r\") as f:\n",
    "    labels = [line.strip() for line in f.readlines()]\n",
    "train_data = pd.io.parsers.read_csv(\"dataset/breast-cancer-train.dat\", names=labels)\n",
    "validate_data = pd.io.parsers.read_csv(\"dataset/breast-cancer-validate.dat\", names=labels)\n",
    "train_data_malignant = train_data[train_data[\"Malignant/Benign\"] == \"M\"]\n",
    "train_data_benign = train_data[train_data[\"Malignant/Benign\"] == \"B\"]"
   ],
   "outputs": [],
   "execution_count": null
  },
  {
   "metadata": {},
   "cell_type": "code",
   "source": [
    "test_column = 2\n",
    "test_column_name = labels[test_column]\n",
    "plt.figure(dpi=300)\n",
    "plt.hist(train_data_malignant[labels[test_column]], alpha=0.8, label='Malignant')\n",
    "plt.hist(train_data_benign[labels[test_column]], alpha=0.8, label='Benign')\n",
    "plt.xlabel(test_column_name)\n",
    "plt.ylabel(\"Ilość\")\n",
    "plt.title(f\"Histogram dla kolumny {test_column_name}\")\n",
    "plt.legend()\n",
    "plt.show()"
   ],
   "id": "c5a761b32138b985",
   "outputs": [],
   "execution_count": null
  },
  {
   "cell_type": "code",
   "id": "5a1fdf192a53a1a2",
   "metadata": {},
   "source": [
    "sorted_train_data_malignant = train_data_malignant[labels[test_column]].sort_values().reset_index(drop=True)\n",
    "sorted_train_data_benign = train_data_benign[labels[test_column]].sort_values().reset_index(drop=True)"
   ],
   "outputs": [],
   "execution_count": null
  },
  {
   "metadata": {},
   "cell_type": "code",
   "source": [
    "test_column = 10\n",
    "test_column_name = labels[test_column]\n",
    "plt.plot(range(len(sorted_train_data_malignant)), sorted_train_data_malignant.values, 'o', label='Malignant')\n",
    "plt.plot(range(len(sorted_train_data_benign)), sorted_train_data_benign.values, 'o', label='Benign')\n",
    "plt.xlabel(test_column_name)\n",
    "plt.ylabel(\"Ilość\")\n",
    "plt.title(f\"Wykres dla posortowanej kolumny {test_column_name}\")\n",
    "plt.legend()\n",
    "plt.show()"
   ],
   "id": "4e3b9d59ac1edb96",
   "outputs": [],
   "execution_count": null
  },
  {
   "metadata": {},
   "cell_type": "code",
   "source": [
    "linear_train = train_data.drop([\"patient ID\", \"Malignant/Benign\"], axis=1).values\n",
    "linear_validate = validate_data.drop([\"patient ID\", \"Malignant/Benign\"], axis=1).values\n",
    "\n",
    "def create_quadratic_representation(data):\n",
    "    df = data.copy()\n",
    "    for i in range(len(quad_columns)):\n",
    "        df[f\"{i}^2\"] = data[quad_columns[i]] ** 2\n",
    "    for i in range(len(quad_columns)):\n",
    "        for j in range(i + 1, len(quad_columns)):\n",
    "            df[f\"{i}_{j}\"] = data[quad_columns[i]] * data[quad_columns[j]]\n",
    "    return df.values\n",
    "\n",
    "quad_columns = [\"radius (mean)\", \"perimeter (mean)\", \"area (mean)\", \"symmetry (mean)\"]\n",
    "quadratic_train = create_quadratic_representation(train_data[quad_columns])\n",
    "quadratic_validate = create_quadratic_representation(validate_data[quad_columns])"
   ],
   "id": "c70d5b91859ed8f6",
   "outputs": [],
   "execution_count": null
  },
  {
   "metadata": {},
   "cell_type": "code",
   "source": [
    "b_training = np.where(train_data[['Malignant/Benign']] == \"M\", 1, -1)\n",
    "b_validate = np.where(validate_data[['Malignant/Benign']] == \"M\", 1, -1)"
   ],
   "id": "c1e75d49a1ab9541",
   "outputs": [],
   "execution_count": null
  },
  {
   "metadata": {},
   "cell_type": "code",
   "source": [
    "cov_mat_lin = linear_train.T @ linear_train\n",
    "cov_mat_quad = quadratic_train.T @ quadratic_train"
   ],
   "id": "afeda8903bfea07f",
   "outputs": [],
   "execution_count": null
  },
  {
   "metadata": {},
   "cell_type": "code",
   "source": [
    "weights_linear = np.linalg.solve(cov_mat_lin, linear_train.T @ b_training)\n",
    "weights_quadratic = np.linalg.solve(cov_mat_quad, quadratic_train.T @ b_training)"
   ],
   "id": "c1ee38d663db5eac",
   "outputs": [],
   "execution_count": null
  },
  {
   "metadata": {},
   "cell_type": "code",
   "source": [
    "λ = 0.01\n",
    "scipy.linalg.lstsq(cov_mat_lin + λ * np.eye(cov_mat_lin.shape[0]), linear_train.T @ b_training);"
   ],
   "id": "5ff2a747038568c9",
   "outputs": [],
   "execution_count": null
  },
  {
   "metadata": {},
   "cell_type": "code",
   "source": [
    "cond_lin = np.linalg.cond(cov_mat_lin)\n",
    "cond_quad = np.linalg.cond(cov_mat_quad)"
   ],
   "id": "57c5294279ee65e6",
   "outputs": [],
   "execution_count": null
  },
  {
   "metadata": {},
   "cell_type": "code",
   "source": [
    "p_lin = linear_validate @ weights_linear\n",
    "p_quad = quadratic_validate @ weights_quadratic"
   ],
   "id": "9ae231276711c6d0",
   "outputs": [],
   "execution_count": null
  },
  {
   "metadata": {},
   "cell_type": "code",
   "source": [
    "def calc_acc(p_vec, b_vec):\n",
    "    tp = np.sum([1 for p, b in zip(p_vec, b_vec) if p > 0 and b > 0])\n",
    "    tn = np.sum([1 for p, b in zip(p_vec, b_vec) if p <= 0 and b < 0])\n",
    "    fp = np.sum([1 for p, b in zip(p_vec, b_vec) if p > 0 and b <= 0])\n",
    "    fn = np.sum([1 for p, b in zip(p_vec, b_vec) if p <= 0 and b > 0])\n",
    "    return int(tp), int(tn), int(fp), int(fn), float((tp + tn) / (tp + tn + fp + fn))\n",
    "\n",
    "tp_lin, tn_lin, fp_lin, fn_lin, acc_lin = calc_acc(p_lin, b_validate)\n",
    "tp_quad, tn_quad, fp_quad, fn_quad, acc_quad = calc_acc(p_quad, b_validate)\n",
    "print(f\"{tp_lin=} {tn_lin=} {fp_lin=} {fn_lin=} {acc_lin=}\")\n",
    "print(f\"{tp_quad=} {tn_quad=} {fp_quad=} {fn_quad=} {acc_quad=}\")"
   ],
   "id": "af89cb7f",
   "outputs": [],
   "execution_count": null
  },
  {
   "metadata": {},
   "cell_type": "markdown",
   "source": "$$ x=10 $$",
   "id": "fc003af70c534ee3"
  }
 ],
 "metadata": {
  "kernelspec": {
   "display_name": "Python 3 (ipykernel)",
   "language": "python",
   "name": "python3"
  }
 },
 "nbformat": 5,
 "nbformat_minor": 9
}
