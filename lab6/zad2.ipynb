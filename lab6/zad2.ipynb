{
 "cells": [
  {
   "cell_type": "code",
   "execution_count": null,
   "id": "f3e6e1cf",
   "metadata": {},
   "outputs": [],
   "source": [
    "import numpy as np\n",
    "from matplotlib import pyplot as plt\n"
   ]
  },
  {
   "cell_type": "code",
   "execution_count": null,
   "id": "00282252",
   "metadata": {},
   "outputs": [],
   "source": [
    "real_integral_val = np.pi\n",
    "m_vec_gauss = np.arange(1, 14)\n",
    "n_vec_gauss = 2**m_vec_gauss + 1\n",
    "leggaus_vals = [np.polynomial.legendre.leggauss(m) for m in n_vec_gauss]\n",
    "x_vec_gauss = [x_vec * 0.5 + 0.5 for (x_vec, _) in leggaus_vals]\n",
    "w_vec_gauss = [y for (_, y) in leggaus_vals]\n",
    "vals_gauss = np.array([np.sum(f(x) * 0.5 * w) for (x, w) in zip(x_vec_gauss, w_vec_gauss)])\n",
    "gaus_err = np.abs((vals_gauss - real_integral_val) / real_integral_val)"
   ]
  },
  {
   "cell_type": "code",
   "execution_count": null,
   "id": "6b4bd114",
   "metadata": {},
   "outputs": [],
   "source": [
    "plt.figure(figsize=(12, 6))\n",
    "plt.title(\"Błędy bezwzględne poszczególnych kwadratur\")\n",
    "plt.loglog(n_vec, quad_err, label=\"Kwadratura prostokątów\")\n",
    "plt.loglog(n_vec, trap_err, label=\"Kwadratura trapezów\")\n",
    "plt.loglog(n_vec, simps_err, label=\"Kwadratura Simpsona\")\n",
    "plt.loglog(n_vec_gauss, gaus_err, label=\"Kwadratura Gaussa-Legendre’a\")\n",
    "plt.xlabel('n')\n",
    "plt.ylabel('Błąd bezwzględny')\n",
    "plt.legend()\n",
    "plt.grid(True)\n",
    "plt.show()"
   ]
  }
 ],
 "metadata": {
  "language_info": {
   "name": "python"
  }
 },
 "nbformat": 4,
 "nbformat_minor": 5
}
