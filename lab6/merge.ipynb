{
 "cells": [
  {
   "cell_type": "markdown",
   "id": "138722a7",
   "metadata": {},
   "source": [
    "# Laboratorium 06 - Kwadratury\n",
    "## Błażej Naziemiec i Szymon Żuk\n",
    "### 22 kwietnia 2025\n",
    "## Wstęp\n",
    "Celem laboratorium było zapoznanie się z czterema wersjami algorytmu kwadratury: prostokątów, trapezów, Simpsona oraz Gaussa-Legendre'a. W zadaniu 1 obliczaliśmy dokłaność metod prostokątów, trapezów oraz Simpsona na wyrażenia $\\int_{0}^{1}\\frac{4}{1+x{2}}=\\pi$ w zależności od liczby podziałów. W zadaniu 2 wykorzystaliśmy metodę Gaussa-Legendre'a do wyznaczenia wartości $\\int_{0}^{1}\\frac{4}{1+x{2}}$ oraz bezwzględnej wartości błędu względnego w zależności od liczby ewaluacji funkcji podcałkowej."
   ]
  },
  {
   "cell_type": "markdown",
   "id": "faf8554c",
   "metadata": {},
   "source": [
    "## Zadanie 1\n",
    "Na początku zdefiniowaliśmy funkcję podcałkową $\\frac{4}{1+x^{2}}$ oraz trzy funkcje odpowiadające za obliczenie wartości całki. Funkcje te odpowiadały metodą prostokątów, trapezów oraz Simpsona. W następnym kroku dla każdej z metod obliczyliśmy bezwzględną wartość błędu względnego w zależności od liczby ewaluacji. Przedział $[0,1]$ dzieliliśmy na $2^m + 1$ węzłów, gdzie $m$ to liczby całkowite z przedziału od 1 do 25. Otrzymane wyniki przedstawiliśmy na poniższym wykresie 1.  "
   ]
  },
  {
   "cell_type": "code",
   "execution_count": null,
   "id": "2fed3d9605b542f4",
   "metadata": {
    "ExecuteTime": {
     "end_time": "2025-04-21T15:47:43.568195Z",
     "start_time": "2025-04-21T15:47:42.168284Z"
    }
   },
   "outputs": [],
   "source": [
    "import numpy as np\n",
    "from matplotlib import pyplot as plt\n",
    "from scipy.integrate import trapezoid, simpson\n",
    "import sys"
   ]
  },
  {
   "cell_type": "code",
   "execution_count": null,
   "id": "9d93c96eb0922806",
   "metadata": {
    "ExecuteTime": {
     "end_time": "2025-04-21T15:47:43.584195Z",
     "start_time": "2025-04-21T15:47:43.572201Z"
    }
   },
   "outputs": [],
   "source": [
    "def f(x):\n",
    "    return 4 / (1 + x ** 2)\n",
    "\n",
    "eps = sys.float_info.epsilon\n",
    "real_integral_val = np.pi\n",
    "a = 0\n",
    "b = 1\n",
    "width = b - a"
   ]
  },
  {
   "cell_type": "code",
   "execution_count": null,
   "id": "2206287a2d1f679d",
   "metadata": {
    "ExecuteTime": {
     "end_time": "2025-04-21T15:47:43.614196Z",
     "start_time": "2025-04-21T15:47:43.600197Z"
    }
   },
   "outputs": [],
   "source": [
    "def rect_integral(xs):\n",
    "    s = 0\n",
    "    for i in range(len(xs) - 1):\n",
    "        dx = xs[i + 1] - xs[i]\n",
    "        x = (xs[i] + xs[i + 1]) / 2\n",
    "        s += f(x) * dx\n",
    "    return s\n",
    "\n",
    "def trap_integral(xs):\n",
    "    return trapezoid(f(xs), xs)\n",
    "\n",
    "def simps_integral(xs):\n",
    "    return simpson(f(xs), xs)"
   ]
  },
  {
   "cell_type": "code",
   "execution_count": null,
   "id": "8158bab376870419",
   "metadata": {
    "ExecuteTime": {
     "end_time": "2025-04-21T15:48:43.775536Z",
     "start_time": "2025-04-21T15:47:43.630228Z"
    }
   },
   "outputs": [],
   "source": [
    "m_vec = np.arange(1, 26)\n",
    "n_vec = 2**m_vec + 1\n",
    "h_vec = width / n_vec\n",
    "\n",
    "def calc_err(integral_fun, n):\n",
    "    xs = np.linspace(a, b, n, dtype=np.double)\n",
    "    vals = integral_fun(xs)\n",
    "    return np.abs((vals - real_integral_val) / real_integral_val)\n",
    "\n",
    "quad_err = np.array([calc_err(rect_integral, n) for n in n_vec])\n",
    "trap_err = np.array([calc_err(trap_integral, n) for n in n_vec])\n",
    "simps_err = np.array([calc_err(simps_integral, n) for n in n_vec])"
   ]
  },
  {
   "cell_type": "code",
   "execution_count": null,
   "id": "cf1cb28c688b52ce",
   "metadata": {
    "ExecuteTime": {
     "end_time": "2025-04-21T15:48:44.415506Z",
     "start_time": "2025-04-21T15:48:43.793508Z"
    }
   },
   "outputs": [],
   "source": [
    "plt.figure(figsize=(12, 6))\n",
    "plt.title(\"Błędy bezwzględne poszczególnych kwadratur\")\n",
    "plt.loglog(n_vec, quad_err, label=\"Kwadratura prostokątów\")\n",
    "plt.loglog(n_vec, trap_err, label=\"Kwadratura trapezów\")\n",
    "plt.loglog(n_vec, simps_err, label=\"Kwadratura Simpsona\")\n",
    "plt.xlabel('n')\n",
    "plt.ylabel('Błąd bezwzględny')\n",
    "plt.legend()\n",
    "plt.grid(True)\n",
    "plt.show()"
   ]
  },
  {
   "cell_type": "markdown",
   "id": "f9c57c92",
   "metadata": {},
   "source": [
    "*Wykres 1.* Bezwzględne wartości błędu względnego dla kwadratur prostokątów, trapezów oraz Simpsona w zależności od liczby ewaluacji funkcji podcałkowej."
   ]
  },
  {
   "cell_type": "markdown",
   "id": "3c4339bc",
   "metadata": {},
   "source": [
    "Jak można zauważyć na powyższym wykresie, metoda prostokątów oraz trapezów osiągają niemal taki sam błąd względny niezależnie od liczby ewaluacji. Metoda Simpsona osiąga najmniejszy błąd, jednakże zarówno dla początkowej liczby punktów, jak i dla około $10^6$ punktów, błąd ten zaczyna być zbliżony do błędów metod prostokątów oraz trapezów. Warto również nadmienić, że dla metody Simpsona, można zauważyć efekt Rungego, gdzie dla około $n=10^6$ błąd przestaje być zerowy. "
   ]
  },
  {
   "cell_type": "markdown",
   "id": "2fcf44e7",
   "metadata": {},
   "source": [
    "Następnym krokiem było wyznaczenie takiej wartości skoku $h$ pomiędzy dwoma węzłami, dla których uzyskany błąd był najmniejszy. Otrzymane wartości znajdują się w poniższej tabeli 1.\n",
    "| Metoda        | Wartość skoku $h$ |\n",
    "|--------------|----------------|\n",
    "| Prostokątów  | $9.54*10^{-7}$ | \n",
    "| Trapezów  | $1.19*10^{-7}$ | \n",
    "| Simpsona  | $3.89*10^{-3}$ | \n",
    "\n",
    "*Tabela 1.* Wartości skoku $h$ dla metod prostokątów, trapezów oraz Simpsona.\n",
    "\n",
    "Tabela 1 pokazuje, że dla metody prostokątów oraz trapezów wartość $h$ jest bardzo podobna, co jest w pełni zgodne z wykresem 1, gdzie obie metody posiadały podobne wartości błędu. Wartość skoku dla metody Simpsona jest znacznie większa od dwóch poozstałych metod, co również znajduje potwierdzenie w wykresie 1. Dzięki temu, iż błąd tej metody bardzo szybko zbiega do zera pokazuje, że jest bardzo efektywna, a stosunkowo duża wartość skoku z najmniejszą różnicą umożliwia przy niewielkiej liczbie podziałó uzyskać bardzo dokładny wynik. Dodatkowo wartość $h$ dla metod prostokątów oraz trapezów jest zbliżona do $h_{min}$ wyznaczonego podczas pierwszego laboratorium, które wynosiło $h_{min} = 9.12*10^{-9}$."
   ]
  },
  {
   "cell_type": "code",
   "execution_count": null,
   "id": "ad72b93b6d898982",
   "metadata": {
    "ExecuteTime": {
     "end_time": "2025-04-21T15:48:44.446539Z",
     "start_time": "2025-04-21T15:48:44.434509Z"
    }
   },
   "outputs": [],
   "source": [
    "quad_n_min = min((err, n) for n, err in zip(n_vec, quad_err))[1]\n",
    "trap_n_min = min((err, n) for n, err in zip(n_vec, trap_err))[1]\n",
    "simps_n_min = min((err, n) for n, err in zip(n_vec, simps_err))[1]\n",
    "\n",
    "quad_h_min = width / quad_n_min\n",
    "trap_h_min = width / trap_n_min\n",
    "simps_h_min = width / simps_n_min"
   ]
  },
  {
   "cell_type": "code",
   "execution_count": null,
   "id": "d8b57d577a341dbe",
   "metadata": {
    "ExecuteTime": {
     "end_time": "2025-04-21T15:48:44.477536Z",
     "start_time": "2025-04-21T15:48:44.463550Z"
    }
   },
   "outputs": [],
   "source": [
    "h_min_lab1 = 1e-8\n",
    "h_min_lab1_theor = 9.1237e-9"
   ]
  },
  {
   "cell_type": "code",
   "execution_count": null,
   "id": "5f40459e4f13be98",
   "metadata": {
    "ExecuteTime": {
     "end_time": "2025-04-21T15:48:44.508540Z",
     "start_time": "2025-04-21T15:48:44.495508Z"
    }
   },
   "outputs": [],
   "source": [
    "p_quad_theor = 2\n",
    "p_trap_theor = 2\n",
    "p_simps_theor = 4"
   ]
  },
  {
   "cell_type": "markdown",
   "id": "32c159fd",
   "metadata": {},
   "source": [
    "Na sam koniec tego zadania dla każdej z trzech metod wyznaczyliśmy empiryczny rząd zbieżności i porównaliśmy go z teoretycznym. Wartości te przedstawione są w tabeli 2, 3 oraz 4."
   ]
  },
  {
   "cell_type": "markdown",
   "id": "d8effd45",
   "metadata": {},
   "source": [
    "| $m$ | Rząd zbieżności    |\n",
    "| ------ | ----------- |\n",
    "| 1      | 2.70713116 |\n",
    "| 2      | 2.35835570 |\n",
    "| 3      | 2.17973831 |\n",
    "| 4      | 2.09001374 |\n",
    "| 5      | 2.04504475 |\n",
    "| 6      | 2.02253213 |\n",
    "| 7      | 2.01126855 |\n",
    "| 8      | 2.00563490 |\n",
    "| 9      | 2.00281761 |\n",
    "| 10     | 2.00140892 |\n",
    "| 11     | 2.00070495 |\n",
    "| 12     | 2.00035093 |\n",
    "| 13     | 2.00022152 |\n",
    "| 14     | 2.00000756 |\n",
    "\n",
    "*Tabela 2.* Empiryczny rząd zbieżności dla metody prostokątów."
   ]
  },
  {
   "cell_type": "markdown",
   "id": "2a94a8b2",
   "metadata": {},
   "source": [
    "| $m$ | Rząd zbieżności    |\n",
    "| ------ | ----------- |\n",
    "| 1      | 2.71044136 |\n",
    "| 2      | 2.35842512 |\n",
    "| 3      | 2.17974233 |\n",
    "| 4      | 2.09001399 |\n",
    "| 5      | 2.04504477 |\n",
    "| 6      | 2.02253213 |\n",
    "| 7      | 2.01126855 |\n",
    "| 8      | 2.00563490 |\n",
    "| 9      | 2.00281761 |\n",
    "| 10     | 2.00140885 |\n",
    "| 11     | 2.00070451 |\n",
    "| 12     | 2.00035196 |\n",
    "| 13     | 2.00017663 |\n",
    "| 14     | 2.00008496 |\n",
    "\n",
    "*Tabela 3.* Empiryczny rząd zbieżności dla metody trapezów."
   ]
  },
  {
   "cell_type": "markdown",
   "id": "bf899e11",
   "metadata": {},
   "source": [
    "| $m$ | Rząd zbieżności     |\n",
    "| ------ | ----------- |\n",
    "| 1      | 11.43238503 |\n",
    "| 2      | 8.62345193  |\n",
    "| 3      | 6.53687911  |\n",
    "| 4      | 6.26986212  |\n",
    "| 5      | 6.13548892  |\n",
    "\n",
    "*Tabela 4.* Empiryczny rząd zbieżności dla metody Simpsona."
   ]
  },
  {
   "cell_type": "markdown",
   "id": "2598c7ee",
   "metadata": {},
   "source": [
    "Jak widać na powyższych tabelach 2 oraz 3, empiryczny rząd zbieżności dla metd prostokątów oraz trapezów zbiega do 2, co jest zgodne z teoretycznym rzędem zbieżności. Wartość dla metody Simpsona wynosi około 6, co nie jest zgodne z teoretyczną wartością."
   ]
  },
  {
   "cell_type": "code",
   "execution_count": null,
   "id": "81a591f52eed7970",
   "metadata": {
    "ExecuteTime": {
     "end_time": "2025-04-21T15:48:44.540545Z",
     "start_time": "2025-04-21T15:48:44.527510Z"
    }
   },
   "outputs": [],
   "source": [
    "num_errs = n_vec * np.finfo(np.float64).eps * 2\n",
    "\n",
    "def order_of_convergence(errs):\n",
    "    return [(k + 1, np.log(errs[k + 1] / errs[k]) / np.log(h_vec[k + 1] / h_vec[k])) for k in range(len(errs) - 1) if errs[k] > num_errs[k] and errs[k + 1] > num_errs[k + 1]]\n",
    "\n",
    "p_quad = order_of_convergence(quad_err)\n",
    "p_trap = order_of_convergence(trap_err)\n",
    "p_simps = order_of_convergence(simps_err)"
   ]
  },
  {
   "cell_type": "markdown",
   "id": "7154d87ebbe9d3fc",
   "metadata": {
    "ExecuteTime": {
     "end_time": "2025-04-21T15:48:44.572135Z",
     "start_time": "2025-04-21T15:48:44.559509Z"
    }
   },
   "source": [
    "## ZADANIE 2\n",
    "W tym zadaniu mieliśmy wyznaczyć wartość całki $\\int_{0}^{1}\\frac{4}{1+x^{2}}$ oraz bezwzględną wartość błędu względnego w zależności od liczby ewaluacji funkcji podcałkowej przy użyciu kwadratury Gaussa-Legendre'a. W tym celu wykorzystaliśmy funkcję $\\texttt{np.polynomial.legendre.leggauss(n)}$, która zwraca punkty oraz wagi dla tej kwadratury n-tego stopnia. Potem każdy punkt pomnożyliśmy $*0.5$ oraz dodaliśmy $0.5$, aby wszystkie punkty znajdowały się w przedziale $[0, 1]$ (granice całkowania). Następnie obliczyliśmy całki oraz wyznaczliśmy błędy względne dla poszczególnej liczby punktów. Przedział dzieliliśmy na $2^m + 1$ węzłów, gdzie $m=1..14$, ponieważ dla większych wartości algorytm wykonywał się długo. Otrzymane wyniki przedstawiliśmy na poniższym wykresie 2."
   ]
  },
  {
   "cell_type": "code",
   "execution_count": null,
   "id": "60877ee47a9b488f",
   "metadata": {
    "ExecuteTime": {
     "end_time": "2025-04-21T15:49:49.982887Z",
     "start_time": "2025-04-21T15:48:56.858870Z"
    }
   },
   "outputs": [],
   "source": [
    "m_vec_gauss = np.arange(1, 14)\n",
    "n_vec_gauss = 2**m_vec_gauss + 1\n",
    "leggaus_vals = [np.polynomial.legendre.leggauss(m) for m in n_vec_gauss]\n",
    "x_vec_gauss = [x_vec * 0.5 + 0.5 for (x_vec, _) in leggaus_vals]\n",
    "w_vec_gauss = [y for (_, y) in leggaus_vals]\n",
    "vals_gauss = np.array([np.sum(f(x) * 0.5 * w) for (x, w) in zip(x_vec_gauss, w_vec_gauss)])\n",
    "gaus_err = np.abs((vals_gauss - real_integral_val) / real_integral_val)"
   ]
  },
  {
   "cell_type": "code",
   "execution_count": null,
   "id": "960cdbc14053993a",
   "metadata": {
    "ExecuteTime": {
     "end_time": "2025-04-21T15:48:46.300673Z",
     "start_time": "2025-04-21T15:48:45.803652Z"
    }
   },
   "outputs": [],
   "source": [
    "plt.figure(figsize=(12, 6))\n",
    "plt.title(\"Błędy bezwzględne poszczególnych kwadratur\")\n",
    "plt.loglog(n_vec, quad_err, label=\"Kwadratura prostokątów\")\n",
    "plt.loglog(n_vec, trap_err, label=\"Kwadratura trapezów\")\n",
    "plt.loglog(n_vec, simps_err, label=\"Kwadratura Simpsona\")\n",
    "plt.loglog(n_vec_gauss, gaus_err, label=\"Kwadratura Gaussa-Legendre’a\")\n",
    "plt.xlabel('n')\n",
    "plt.ylabel('Błąd bezwzględny')\n",
    "plt.legend()\n",
    "plt.grid(True)\n",
    "plt.show()"
   ]
  },
  {
   "cell_type": "markdown",
   "id": "c8154bee",
   "metadata": {},
   "source": [
    "*Wykres 2.* Bezwzględne wartości błędu względnego dla kwadratury prostokątów, trapezów, Simpsona oraz Gaussa-Legendre'a w zależności od liczby ewaluacji funkcji podcałkowej."
   ]
  },
  {
   "cell_type": "markdown",
   "id": "91336247",
   "metadata": {},
   "source": [
    "Analizując powyższy wykres 2 można zauważyć, że metoda Gaussa-Legendre'a osiąga najmniejszy błąd względny ze wszystkich sprawdzanych metod. Widać jednak, że jest ona podatna na efekt Rungego, co można zauważyć dla około powyżej $n=10^{2}$, gdzie wartości błędów są wyższe niż wcześniej oraz dodatkowo większe niż dla metody Simpsona."
   ]
  },
  {
   "cell_type": "markdown",
   "id": "7d75665b",
   "metadata": {},
   "source": []
  }
 ],
 "metadata": {
  "kernelspec": {
   "display_name": "base",
   "language": "python",
   "name": "python3"
  },
  "language_info": {
   "codemirror_mode": {
    "name": "ipython",
    "version": 3
   },
   "file_extension": ".py",
   "mimetype": "text/x-python",
   "name": "python",
   "nbconvert_exporter": "python",
   "pygments_lexer": "ipython3",
   "version": "3.12.7"
  }
 },
 "nbformat": 5,
 "nbformat_minor": 9
}
