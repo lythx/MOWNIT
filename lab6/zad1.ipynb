{
 "cells": [
  {
   "cell_type": "code",
   "execution_count": null,
   "id": "c31eca76",
   "metadata": {},
   "outputs": [],
   "source": [
    "import numpy as np\n",
    "from matplotlib import pyplot as plt\n",
    "from scipy.integrate import trapezoid, simpson\n",
    "import sys"
   ]
  },
  {
   "cell_type": "code",
   "execution_count": null,
   "id": "89c312db",
   "metadata": {},
   "outputs": [],
   "source": [
    "def f(x):\n",
    "    return 4 / (1 + x ** 2)\n",
    "\n",
    "eps = sys.float_info.epsilon\n",
    "real_integral_val = np.pi\n",
    "a = 0\n",
    "b = 1\n",
    "width = b - a"
   ]
  },
  {
   "cell_type": "code",
   "execution_count": null,
   "id": "5d3c266e",
   "metadata": {},
   "outputs": [],
   "source": [
    "def rect_integral(xs):\n",
    "    s = 0\n",
    "    for i in range(len(xs) - 1):\n",
    "        dx = xs[i + 1] - xs[i]\n",
    "        x = (xs[i] + xs[i + 1]) / 2\n",
    "        s += f(x) * dx\n",
    "    return s\n",
    "\n",
    "def trap_integral(xs):\n",
    "    return trapezoid(f(xs), xs)\n",
    "\n",
    "def simps_integral(xs):\n",
    "    return simpson(f(xs), xs)"
   ]
  },
  {
   "cell_type": "code",
   "execution_count": null,
   "id": "fac32bbd",
   "metadata": {},
   "outputs": [],
   "source": [
    "m_vec = np.arange(1, 26)\n",
    "n_vec = 2**m_vec + 1\n",
    "h_vec = width / n_vec\n",
    "\n",
    "def calc_err(integral_fun, n):\n",
    "    xs = np.linspace(a, b, n, dtype=np.double)\n",
    "    vals = integral_fun(xs)\n",
    "    return np.abs((vals - real_integral_val) / real_integral_val)\n",
    "\n",
    "quad_err = np.array([calc_err(rect_integral, n) for n in n_vec])\n",
    "trap_err = np.array([calc_err(trap_integral, n) for n in n_vec])\n",
    "simps_err = np.array([calc_err(simps_integral, n) for n in n_vec])"
   ]
  },
  {
   "cell_type": "code",
   "execution_count": null,
   "id": "81983e4a",
   "metadata": {},
   "outputs": [],
   "source": [
    "plt.figure(figsize=(12, 6))\n",
    "plt.title(\"Błędy bezwzględne poszczególnych kwadratur\")\n",
    "plt.loglog(n_vec, quad_err, label=\"Kwadratura prostokątów\")\n",
    "plt.loglog(n_vec, trap_err, label=\"Kwadratura trapezów\")\n",
    "plt.loglog(n_vec, simps_err, label=\"Kwadratura Simpsona\")\n",
    "plt.xlabel('n')\n",
    "plt.ylabel('Błąd bezwzględny')\n",
    "plt.legend()\n",
    "plt.grid(True)\n",
    "plt.show()"
   ]
  },
  {
   "cell_type": "code",
   "execution_count": null,
   "id": "fa71c0ed",
   "metadata": {},
   "outputs": [],
   "source": [
    "quad_n_min = min((err, n) for n, err in zip(n_vec, quad_err))[1]\n",
    "trap_n_min = min((err, n) for n, err in zip(n_vec, trap_err))[1]\n",
    "simps_n_min = min((err, n) for n, err in zip(n_vec, simps_err))[1]\n",
    "\n",
    "quad_h_min = width / quad_n_min\n",
    "trap_h_min = width / trap_n_min\n",
    "simps_h_min = width / simps_n_min"
   ]
  },
  {
   "cell_type": "code",
   "execution_count": null,
   "id": "ccd46611",
   "metadata": {},
   "outputs": [],
   "source": [
    "num_errs = n_vec * np.finfo(np.float64).eps * 2\n",
    "\n",
    "def order_of_convergence(errs):\n",
    "    return [(k + 1, np.log(errs[k + 1] / errs[k]) / np.log(h_vec[k + 1] / h_vec[k])) for k in range(len(errs) - 1) if errs[k] > num_errs[k] and errs[k + 1] > num_errs[k + 1]]\n",
    "\n",
    "p_quad = order_of_convergence(quad_err)\n",
    "p_trap = order_of_convergence(trap_err)\n",
    "p_simps = order_of_convergence(simps_err)"
   ]
  }
 ],
 "metadata": {
  "language_info": {
   "name": "python"
  }
 },
 "nbformat": 4,
 "nbformat_minor": 5
}
