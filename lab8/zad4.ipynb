{
 "cells": [
  {
   "cell_type": "code",
   "id": "90023e4bda03ec4c",
   "metadata": {
    "ExecuteTime": {
     "end_time": "2025-05-12T19:33:09.843016Z",
     "start_time": "2025-05-12T19:33:09.829016Z"
    }
   },
   "source": [
    "from scipy.differentiate import jacobian\n",
    "import numpy as np"
   ],
   "outputs": [],
   "execution_count": 20
  },
  {
   "metadata": {
    "ExecuteTime": {
     "end_time": "2025-05-12T19:33:09.890091Z",
     "start_time": "2025-05-12T19:33:09.876091Z"
    }
   },
   "cell_type": "code",
   "source": [
    "def F(x):\n",
    "    return np.array([x[0]**2 + x[1]**2 - 1,\n",
    "                     x[0]**2 - x[1]])\n",
    "\n",
    "def solve_iter_2d(x, tolerance=1e-9, max_iterations=100):\n",
    "    for i in range(max_iterations):\n",
    "        fx = F(x)\n",
    "        jx = jacobian(F, x).df\n",
    "        delta_x = np.linalg.solve(jx, -fx)\n",
    "        x = x + delta_x\n",
    "        if np.linalg.norm(delta_x) < tolerance:\n",
    "            return x\n",
    "    return x\n",
    "\n",
    "real_x1 = np.sqrt((np.sqrt(5) - 1) / 2)\n",
    "real_x2 = (np.sqrt(5) - 1) / 2\n",
    "real_solution = np.array([real_x1, real_x2])\n",
    "\n",
    "x0 = np.array([1.0, 1.0], dtype=np.double)\n",
    "\n",
    "solution = solve_iter_2d(x0)\n",
    "\n",
    "print(f\"Dokładne rozwiązanie: x1 = {real_solution[0]:.8f}, x2 = {real_solution[1]:.8f}\")\n",
    "print(f\"Rozwiązanie znalezione metodą Newtona: x1 = {solution[0]:.8f}, x2 = {solution[1]:.8f}\")\n",
    "\n",
    "err = np.abs((solution - real_solution) / real_solution)\n",
    "\n",
    "print(f\"Błąd względny dla x1: {err[0]:.8e}\")\n",
    "print(f\"Błąd względny dla x2: {err[1]:.8e}\")"
   ],
   "id": "93606472586fc378",
   "outputs": [
    {
     "name": "stdout",
     "output_type": "stream",
     "text": [
      "Dokładne rozwiązanie: x1 = 0.78615138, x2 = 0.61803399\n",
      "Rozwiązanie znalezione metodą Newtona: x1 = 0.78615138, x2 = 0.61803399\n",
      "Błąd względny dla x1: 0.00000000e+00\n",
      "Błąd względny dla x2: 1.79637859e-16\n"
     ]
    }
   ],
   "execution_count": 21
  }
 ],
 "metadata": {
  "kernelspec": {
   "display_name": "Python 3",
   "language": "python",
   "name": "python3"
  },
  "language_info": {
   "codemirror_mode": {
    "name": "ipython",
    "version": 2
   },
   "file_extension": ".py",
   "mimetype": "text/x-python",
   "name": "python",
   "nbconvert_exporter": "python",
   "pygments_lexer": "ipython2",
   "version": "2.7.6"
  }
 },
 "nbformat": 4,
 "nbformat_minor": 5
}
