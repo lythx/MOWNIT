{
 "cells": [
  {
   "metadata": {},
   "cell_type": "markdown",
   "source": [
    "### Zadanie 4\n",
    "W tym zadaniu mieliśmy napisać schemat iteracji wg metody Newtona dla układu równań nieliniowych: $$ \\begin{aligned}\n",
    "x_1^2 + x_2^2 &= 1 \\\\\n",
    "x_1^2 - x_2 &= 0.\n",
    "\\end{aligned}$$ Korzystając z podanych wzorów na rozwiązania tego układu równań: $$ \\begin{aligned}\n",
    "x_1 &= \\pm \\sqrt{\\frac{\\sqrt{5}}{2} - \\frac{1}{2}} \\\\\n",
    "x_2 &= \\frac{\\sqrt{5}}{2} - \\frac{1}{2}\n",
    "\\end{aligned} $$ oraz obliczyć błąd względny rozwiązania znalezionego metodą Newtona."
   ],
   "id": "1536db4c3ef64f56"
  },
  {
   "cell_type": "code",
   "id": "90023e4bda03ec4c",
   "metadata": {
    "ExecuteTime": {
     "end_time": "2025-05-12T20:21:04.602858Z",
     "start_time": "2025-05-12T20:21:04.588868Z"
    }
   },
   "source": [
    "from scipy.differentiate import jacobian\n",
    "import numpy as np"
   ],
   "outputs": [],
   "execution_count": 25
  },
  {
   "metadata": {},
   "cell_type": "markdown",
   "source": "Najpierw zdefiniowaliśmy funkcje $ f_1(x_1, x_2) = x_1^2 + x_2^2 - 1 $, $ f_2(x_1, x_2)=x_1^2 - x_2 $ oraz obliczyliśmy wartości rozwiązań podanych w treści zadania. Nastepnie skorzystaliśmy z Wikipedii, aby znaleźć wzór na wielowymiarowy schemat iteracyjny Newtona: $$ J_{\\mathbf{F}}(\\mathbf{x}_n)(\\mathbf{x}_{n+1} - \\mathbf{x}_n) = -\\mathbf{F}(\\mathbf{x}_n) $$ gdzie $ \\mathbf{x}_k $ jest wektorem przybliżającym rozwiązanie $ (x_1, x_2) $ w k-tej iteracji, $ \\mathbf{F}(x_1, x_2) = (f_1(x_1, x_2), f_2(x_1, x_2)) $, $ J_{\\mathbf{F}} $ to jakobian funkcji $ \\mathbf{F} $. Do wyznaczenia jakobianu wykorzystaliśmy funkcję `scipy.differentiate.jacobian`. Otrzymaliśmy następujące wyniki:",
   "id": "7ea6fe8572a212cf"
  },
  {
   "metadata": {
    "ExecuteTime": {
     "end_time": "2025-05-12T20:21:04.805859Z",
     "start_time": "2025-05-12T20:21:04.649859Z"
    }
   },
   "cell_type": "code",
   "source": [
    "def f1(x):\n",
    "    return x[0]**2 + x[1]**2 - 1\n",
    "def f2(x):\n",
    "    return x[0]**2 - x[1]\n",
    "\n",
    "def F(x):\n",
    "    return np.array([f1(x), f2(x)])\n",
    "\n",
    "def solve_iter_2d(x, max_iterations=100):\n",
    "    for i in range(max_iterations):\n",
    "        fx = F(x)\n",
    "        jx = jacobian(F, x).df\n",
    "        delta_x = np.linalg.solve(jx, -fx)\n",
    "        x = x + delta_x\n",
    "    return x\n",
    "\n",
    "real_x1 = np.sqrt((np.sqrt(5) - 1) / 2)\n",
    "real_x2 = (np.sqrt(5) - 1) / 2\n",
    "real_solution = np.array([real_x1, real_x2])\n",
    "\n",
    "x0 = np.array([1.0, 1.0], dtype=np.double)\n",
    "\n",
    "solution = solve_iter_2d(x0)\n",
    "\n",
    "print(f\"Dokładne rozwiązanie: x1 = {real_solution[0]:.8f}, x2 = {real_solution[1]:.8f}\")\n",
    "print(f\"Rozwiązanie znalezione metodą Newtona: x1 = {solution[0]:.8f}, x2 = {solution[1]:.8f}\")\n",
    "\n",
    "err = np.abs((solution - real_solution) / real_solution)\n",
    "\n",
    "print(f\"Błąd względny dla x1: {err[0]:.8e}\")\n",
    "print(f\"Błąd względny dla x2: {err[1]:.8e}\")"
   ],
   "id": "ce9875972d7814b4",
   "outputs": [
    {
     "name": "stdout",
     "output_type": "stream",
     "text": [
      "Dokładne rozwiązanie: x1 = 0.78615138, x2 = 0.61803399\n",
      "Rozwiązanie znalezione metodą Newtona: x1 = 0.78615138, x2 = 0.61803399\n",
      "Błąd względny dla x1: 0.00000000e+00\n",
      "Błąd względny dla x2: 1.79637859e-16\n"
     ]
    }
   ],
   "execution_count": 26
  },
  {
   "metadata": {},
   "cell_type": "markdown",
   "source": "Rozwiązanie znalezione metodą Newtona dało dokładny wynik dla $ x1 $ i bardzo zbliżony wynik dla $ x2 $. Metoda Newtona jest więc skuteczna w przypadku problemów wielowymiarowych.",
   "id": "717ee6744a418e03"
  }
 ],
 "metadata": {
  "kernelspec": {
   "display_name": "Python 3",
   "language": "python",
   "name": "python3"
  },
  "language_info": {
   "codemirror_mode": {
    "name": "ipython",
    "version": 2
   },
   "file_extension": ".py",
   "mimetype": "text/x-python",
   "name": "python",
   "nbconvert_exporter": "python",
   "pygments_lexer": "ipython2",
   "version": "2.7.6"
  }
 },
 "nbformat": 4,
 "nbformat_minor": 5
}
