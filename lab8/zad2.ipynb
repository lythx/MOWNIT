{
 "cells": [
  {
   "metadata": {
    "ExecuteTime": {
     "end_time": "2025-05-11T21:30:37.661309Z",
     "start_time": "2025-05-11T21:30:37.657308Z"
    }
   },
   "cell_type": "code",
   "source": [
    "import numpy as np\n",
    "from matplotlib import pyplot as plt\n",
    "from scipy.optimize import newton, bisect\n",
    "from scipy.differentiate import derivative"
   ],
   "id": "a508bca6ed2a4ce3",
   "outputs": [],
   "execution_count": 6
  },
  {
   "metadata": {
    "ExecuteTime": {
     "end_time": "2025-05-11T21:30:37.709307Z",
     "start_time": "2025-05-11T21:30:37.684308Z"
    }
   },
   "cell_type": "code",
   "source": [
    "f = lambda x: x**2 - 3*x + 2\n",
    "alpha = 2\n",
    "\n",
    "fi1 = lambda x: (x**2 + 2) / 3\n",
    "fi2 = lambda x: np.sqrt(3*x - 2)\n",
    "fi3 = lambda x: 3 - (2 / x)\n",
    "fi4 = lambda x: (x**2 - 2) / (2*x - 3)\n",
    "\n",
    "dfi1_2 = derivative(fi1, alpha).df\n",
    "dfi2_2 = derivative(fi2, alpha).df\n",
    "dfi3_2 = derivative(fi3, alpha).df\n",
    "dfi4_2 = derivative(fi4, alpha, initial_step=0.3).df\n",
    "[dfi1_2, dfi2_2, dfi3_2, dfi4_2]"
   ],
   "id": "f53fabc858be0f6d",
   "outputs": [
    {
     "data": {
      "text/plain": [
       "[np.float64(1.3333333333333286),\n",
       " np.float64(0.7499999999936833),\n",
       " np.float64(0.4999999999925677),\n",
       " np.float64(0.0)]"
      ]
     },
     "execution_count": 7,
     "metadata": {},
     "output_type": "execute_result"
    }
   ],
   "execution_count": 7
  },
  {
   "metadata": {
    "ExecuteTime": {
     "end_time": "2025-05-11T21:30:37.833860Z",
     "start_time": "2025-05-11T21:30:37.821864Z"
    }
   },
   "cell_type": "code",
   "source": [
    "def test_convergence(x, fi, remaining_iter=10):\n",
    "    return test_convergence(fi(x), fi, remaining_iter-1) if remaining_iter != 0 else x\n",
    "\n",
    "[test_convergence(alpha, fi1), test_convergence(alpha, fi2), test_convergence(alpha, fi3), test_convergence(alpha, fi4)]"
   ],
   "id": "84d70aef76de0944",
   "outputs": [
    {
     "data": {
      "text/plain": [
       "[2.0, np.float64(2.0), 2.0, 2.0]"
      ]
     },
     "execution_count": 8,
     "metadata": {},
     "output_type": "execute_result"
    }
   ],
   "execution_count": 8
  },
  {
   "metadata": {
    "ExecuteTime": {
     "end_time": "2025-05-11T21:30:37.943888Z",
     "start_time": "2025-05-11T21:30:37.936860Z"
    }
   },
   "cell_type": "code",
   "source": [
    "eps_k = lambda fi, k: test_convergence(alpha, fi, k)\n",
    "\n",
    "ra = np.log(eps_k(fi1, 9) / eps_k(fi1, 10)) / np.log(eps_k(fi1, 8) / eps_k(fi1, 9))"
   ],
   "id": "c33184909a97c59b",
   "outputs": [
    {
     "name": "stderr",
     "output_type": "stream",
     "text": [
      "C:\\Users\\zerok\\AppData\\Local\\Temp\\ipykernel_20484\\4167409767.py:3: RuntimeWarning: invalid value encountered in scalar divide\n",
      "  ra = np.log(eps_k(fi1, 9) / eps_k(fi1, 10)) / np.log(eps_k(fi1, 8) / eps_k(fi1, 9))\n"
     ]
    }
   ],
   "execution_count": 9
  }
 ],
 "metadata": {
  "kernelspec": {
   "name": "python3",
   "language": "python",
   "display_name": "Python 3 (ipykernel)"
  }
 },
 "nbformat": 5,
 "nbformat_minor": 9
}
