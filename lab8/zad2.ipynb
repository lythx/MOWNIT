{
 "cells": [
  {
   "metadata": {
    "ExecuteTime": {
     "end_time": "2025-05-07T09:09:10.898216Z",
     "start_time": "2025-05-07T09:09:09.698607Z"
    }
   },
   "cell_type": "code",
   "source": [
    "import numpy as np\n",
    "from matplotlib import pyplot as plt\n",
    "from scipy.optimize import newton, bisect\n",
    "from scipy.differentiate import derivative"
   ],
   "id": "a508bca6ed2a4ce3",
   "outputs": [],
   "execution_count": 1
  },
  {
   "metadata": {
    "ExecuteTime": {
     "end_time": "2025-05-07T09:12:46.878587Z",
     "start_time": "2025-05-07T09:12:46.863777Z"
    }
   },
   "cell_type": "code",
   "source": [
    "f = lambda x: x**2 - 3*x + 2\n",
    "\n",
    "fi1 = lambda x: (x**2 + 2) / 3\n",
    "fi2 = lambda x: np.sqrt(3*x - 2)\n",
    "fi3 = lambda x: 3 - (2 / x)\n",
    "fi4 = lambda x: (x**2 - 2) / (2*x - 3)\n",
    "\n",
    "dfi1_2 = derivative(fi1, 2)\n",
    "dfi2_2 = derivative(fi2, 2)\n",
    "dfi3_2 = derivative(fi3, 2)\n",
    "dfi4_2 = derivative(fi4, 2)\n",
    "[dfi1_2.df, dfi2_2.df, dfi3_2.df, dfi4_2.df]"
   ],
   "id": "f53fabc858be0f6d",
   "outputs": [
    {
     "name": "stderr",
     "output_type": "stream",
     "text": [
      "C:\\Users\\Szymon\\AppData\\Local\\Temp\\ipykernel_16032\\276319913.py:6: RuntimeWarning: divide by zero encountered in divide\n",
      "  fi4 = lambda x: (x**2 - 2) / (2*x - 3)\n"
     ]
    },
    {
     "data": {
      "text/plain": [
       "[np.float64(1.3333333333333286),\n",
       " np.float64(0.7499999999936833),\n",
       " np.float64(0.4999999999925677),\n",
       " np.float64(nan)]"
      ]
     },
     "execution_count": 3,
     "metadata": {},
     "output_type": "execute_result"
    }
   ],
   "execution_count": 3
  },
  {
   "metadata": {},
   "cell_type": "code",
   "outputs": [],
   "execution_count": null,
   "source": "",
   "id": "84d70aef76de0944"
  }
 ],
 "metadata": {
  "kernelspec": {
   "name": "python3",
   "language": "python",
   "display_name": "Python 3 (ipykernel)"
  }
 },
 "nbformat": 5,
 "nbformat_minor": 9
}
