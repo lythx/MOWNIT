{
 "cells": [
  {
   "cell_type": "code",
   "id": "initial_id",
   "metadata": {
    "collapsed": true,
    "ExecuteTime": {
     "end_time": "2025-05-12T18:25:34.471368Z",
     "start_time": "2025-05-12T18:25:34.432446Z"
    }
   },
   "source": [
    "import pandas as pd\n",
    "from scipy.optimize import newton, bisect\n",
    "from scipy.differentiate import derivative"
   ],
   "outputs": [],
   "execution_count": 17
  },
  {
   "metadata": {
    "ExecuteTime": {
     "end_time": "2025-05-12T18:25:34.502954Z",
     "start_time": "2025-05-12T18:25:34.492955Z"
    }
   },
   "cell_type": "code",
   "source": [
    "fa = lambda x: x**3 - 5*x\n",
    "x0a = 1\n",
    "dfa = lambda x: derivative(fa, x).df\n",
    "\n",
    "fb = lambda x: x**3 - 3*x + 1\n",
    "x0b = 1\n",
    "dfb = lambda x: derivative(fb, x).df\n",
    "\n",
    "fc = lambda x: 2 - x**5\n",
    "x0c = 0.01\n",
    "dfc = lambda x: derivative(fc, x).df\n",
    "\n",
    "fd = lambda x: x**4 - 4.29*x**2 - 5.29\n",
    "x0d = 0.8\n",
    "dfd = lambda x: derivative(fd, x).df"
   ],
   "id": "937a4faf4420b8d8",
   "outputs": [],
   "execution_count": 18
  },
  {
   "metadata": {
    "ExecuteTime": {
     "end_time": "2025-05-12T18:25:34.533476Z",
     "start_time": "2025-05-12T18:25:34.524477Z"
    }
   },
   "cell_type": "code",
   "source": [
    "try:\n",
    "    newton(fb, x0b, fprime=dfb)\n",
    "except RuntimeError as err:\n",
    "    print(err)"
   ],
   "id": "2a60a7a0bf3220c7",
   "outputs": [
    {
     "name": "stdout",
     "output_type": "stream",
     "text": [
      "Derivative was zero. Failed to converge after 1 iterations, value is 1.0.\n"
     ]
    }
   ],
   "execution_count": 19
  },
  {
   "metadata": {
    "ExecuteTime": {
     "end_time": "2025-05-12T18:25:34.659030Z",
     "start_time": "2025-05-12T18:25:34.575995Z"
    }
   },
   "cell_type": "code",
   "source": [
    "try:\n",
    "    newton(fc, x0c, fprime=dfc)\n",
    "except RuntimeError as err:\n",
    "    print(err)"
   ],
   "id": "e2a324c3bba4a14",
   "outputs": [
    {
     "name": "stdout",
     "output_type": "stream",
     "text": [
      "Failed to converge after 50 iterations, value is 713.6177315300865.\n"
     ]
    }
   ],
   "execution_count": 20
  },
  {
   "metadata": {
    "ExecuteTime": {
     "end_time": "2025-05-12T18:25:34.943144Z",
     "start_time": "2025-05-12T18:25:34.760616Z"
    }
   },
   "cell_type": "code",
   "source": [
    "try:\n",
    "    newton(fd, x0d, fprime=dfd)\n",
    "except RuntimeError as err:\n",
    "    print(err)"
   ],
   "id": "bfb19d9074480190",
   "outputs": [
    {
     "name": "stdout",
     "output_type": "stream",
     "text": [
      "Failed to converge after 50 iterations, value is 0.7876130494100972.\n"
     ]
    }
   ],
   "execution_count": 21
  },
  {
   "metadata": {
    "ExecuteTime": {
     "end_time": "2025-05-12T18:25:35.068163Z",
     "start_time": "2025-05-12T18:25:35.013163Z"
    }
   },
   "cell_type": "code",
   "source": [
    "pd.DataFrame([[\"x**3 - 5*x\", 1, newton(fa, x0a, fprime=dfa)], \n",
    "              [\"x**3 - 3*x + 1\", 1, \"błąd\"], \n",
    "              [\"2 - x**5\", 0.01, \"błąd\"],\n",
    "              [\"x**4 - 4.29*x**2 - 5.29\", 0.8, \"błąd\"]], \n",
    "             [\"a\", \"b\", \"c\", \"d\"], \n",
    "             [\"f\", \"x0\", \"newton(f, x0)\"])"
   ],
   "id": "16a76cf86d09ecd6",
   "outputs": [
    {
     "data": {
      "text/plain": [
       "                         f    x0 newton(f, x0)\n",
       "a               x**3 - 5*x  1.00          -0.0\n",
       "b           x**3 - 3*x + 1  1.00          błąd\n",
       "c                 2 - x**5  0.01          błąd\n",
       "d  x**4 - 4.29*x**2 - 5.29  0.80          błąd"
      ],
      "text/html": [
       "<div>\n",
       "<style scoped>\n",
       "    .dataframe tbody tr th:only-of-type {\n",
       "        vertical-align: middle;\n",
       "    }\n",
       "\n",
       "    .dataframe tbody tr th {\n",
       "        vertical-align: top;\n",
       "    }\n",
       "\n",
       "    .dataframe thead th {\n",
       "        text-align: right;\n",
       "    }\n",
       "</style>\n",
       "<table border=\"1\" class=\"dataframe\">\n",
       "  <thead>\n",
       "    <tr style=\"text-align: right;\">\n",
       "      <th></th>\n",
       "      <th>f</th>\n",
       "      <th>x0</th>\n",
       "      <th>newton(f, x0)</th>\n",
       "    </tr>\n",
       "  </thead>\n",
       "  <tbody>\n",
       "    <tr>\n",
       "      <th>a</th>\n",
       "      <td>x**3 - 5*x</td>\n",
       "      <td>1.00</td>\n",
       "      <td>-0.0</td>\n",
       "    </tr>\n",
       "    <tr>\n",
       "      <th>b</th>\n",
       "      <td>x**3 - 3*x + 1</td>\n",
       "      <td>1.00</td>\n",
       "      <td>błąd</td>\n",
       "    </tr>\n",
       "    <tr>\n",
       "      <th>c</th>\n",
       "      <td>2 - x**5</td>\n",
       "      <td>0.01</td>\n",
       "      <td>błąd</td>\n",
       "    </tr>\n",
       "    <tr>\n",
       "      <th>d</th>\n",
       "      <td>x**4 - 4.29*x**2 - 5.29</td>\n",
       "      <td>0.80</td>\n",
       "      <td>błąd</td>\n",
       "    </tr>\n",
       "  </tbody>\n",
       "</table>\n",
       "</div>"
      ]
     },
     "execution_count": 22,
     "metadata": {},
     "output_type": "execute_result"
    }
   ],
   "execution_count": 22
  },
  {
   "metadata": {},
   "cell_type": "markdown",
   "source": [
    "a) flat spot\n",
    "b) flat spot\n",
    "c) flat spot\n",
    "d) cycle"
   ],
   "id": "ce19c203cbee46e2"
  },
  {
   "metadata": {
    "ExecuteTime": {
     "end_time": "2025-05-12T18:25:35.176201Z",
     "start_time": "2025-05-12T18:25:35.162200Z"
    }
   },
   "cell_type": "code",
   "source": [
    "pd.DataFrame([[\"x**3 - 5*x\", -1, 1, bisect(fa, -1, 1)], \n",
    "              [\"x**3 - 3*x + 1\", 0, 1, bisect(fb, 0, 1)], \n",
    "              [\"2 - x**5\", 0.01, 100, bisect(fc, 0.01, 100)],\n",
    "              [\"x**4 - 4.29*x**2 - 5.29\", 0.8, 100, bisect(fd, 0.8, 100)]], \n",
    "             [\"a\", \"b\", \"c\", \"d\"], \n",
    "             [\"f\", \"a\", \"b\", \"bisect(f, a, b)\"])"
   ],
   "id": "92e8825c1a28b5fb",
   "outputs": [
    {
     "data": {
      "text/plain": [
       "                         f     a    b  bisect(f, a, b)\n",
       "a               x**3 - 5*x -1.00    1         0.000000\n",
       "b           x**3 - 3*x + 1  0.00    1         0.347296\n",
       "c                 2 - x**5  0.01  100         1.148698\n",
       "d  x**4 - 4.29*x**2 - 5.29  0.80  100         2.300000"
      ],
      "text/html": [
       "<div>\n",
       "<style scoped>\n",
       "    .dataframe tbody tr th:only-of-type {\n",
       "        vertical-align: middle;\n",
       "    }\n",
       "\n",
       "    .dataframe tbody tr th {\n",
       "        vertical-align: top;\n",
       "    }\n",
       "\n",
       "    .dataframe thead th {\n",
       "        text-align: right;\n",
       "    }\n",
       "</style>\n",
       "<table border=\"1\" class=\"dataframe\">\n",
       "  <thead>\n",
       "    <tr style=\"text-align: right;\">\n",
       "      <th></th>\n",
       "      <th>f</th>\n",
       "      <th>a</th>\n",
       "      <th>b</th>\n",
       "      <th>bisect(f, a, b)</th>\n",
       "    </tr>\n",
       "  </thead>\n",
       "  <tbody>\n",
       "    <tr>\n",
       "      <th>a</th>\n",
       "      <td>x**3 - 5*x</td>\n",
       "      <td>-1.00</td>\n",
       "      <td>1</td>\n",
       "      <td>0.000000</td>\n",
       "    </tr>\n",
       "    <tr>\n",
       "      <th>b</th>\n",
       "      <td>x**3 - 3*x + 1</td>\n",
       "      <td>0.00</td>\n",
       "      <td>1</td>\n",
       "      <td>0.347296</td>\n",
       "    </tr>\n",
       "    <tr>\n",
       "      <th>c</th>\n",
       "      <td>2 - x**5</td>\n",
       "      <td>0.01</td>\n",
       "      <td>100</td>\n",
       "      <td>1.148698</td>\n",
       "    </tr>\n",
       "    <tr>\n",
       "      <th>d</th>\n",
       "      <td>x**4 - 4.29*x**2 - 5.29</td>\n",
       "      <td>0.80</td>\n",
       "      <td>100</td>\n",
       "      <td>2.300000</td>\n",
       "    </tr>\n",
       "  </tbody>\n",
       "</table>\n",
       "</div>"
      ]
     },
     "execution_count": 23,
     "metadata": {},
     "output_type": "execute_result"
    }
   ],
   "execution_count": 23
  },
  {
   "metadata": {
    "ExecuteTime": {
     "end_time": "2025-05-12T18:25:35.270230Z",
     "start_time": "2025-05-12T18:25:35.257229Z"
    }
   },
   "cell_type": "code",
   "source": "",
   "id": "c6e77571de951cce",
   "outputs": [],
   "execution_count": null
  }
 ],
 "metadata": {
  "kernelspec": {
   "display_name": "Python 3",
   "language": "python",
   "name": "python3"
  },
  "language_info": {
   "codemirror_mode": {
    "name": "ipython",
    "version": 2
   },
   "file_extension": ".py",
   "mimetype": "text/x-python",
   "name": "python",
   "nbconvert_exporter": "python",
   "pygments_lexer": "ipython2",
   "version": "2.7.6"
  }
 },
 "nbformat": 4,
 "nbformat_minor": 5
}
