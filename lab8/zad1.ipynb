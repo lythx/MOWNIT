{
 "cells": [
  {
   "cell_type": "code",
   "id": "initial_id",
   "metadata": {
    "collapsed": true,
    "ExecuteTime": {
     "end_time": "2025-05-11T20:52:10.159602Z",
     "start_time": "2025-05-11T20:52:10.146605Z"
    }
   },
   "source": [
    "import numpy as np\n",
    "import pandas as pd\n",
    "from matplotlib import pyplot as plt\n",
    "from scipy.optimize import newton, bisect\n",
    "from scipy.differentiate import derivative"
   ],
   "outputs": [],
   "execution_count": 32
  },
  {
   "metadata": {
    "ExecuteTime": {
     "end_time": "2025-05-11T20:52:10.234602Z",
     "start_time": "2025-05-11T20:52:10.221604Z"
    }
   },
   "cell_type": "code",
   "source": [
    "fa = lambda x: x**3 - 5*x\n",
    "x0a = 1\n",
    "dfa = lambda x: derivative(fa, x).df\n",
    "\n",
    "fb = lambda x: x**3 - 3*x + 1\n",
    "x0b = 1\n",
    "dfb = lambda x: derivative(fa, x).df\n",
    "\n",
    "fc = lambda x: 2 - x**5\n",
    "x0c = 0.01\n",
    "dfc = lambda x: derivative(fa, x).df\n",
    "\n",
    "fd = lambda x: x**4 - 4.29*x**2 - 5.29\n",
    "x0d = 0.8\n",
    "dfd = lambda x: derivative(fa, x).df"
   ],
   "id": "937a4faf4420b8d8",
   "outputs": [],
   "execution_count": 33
  },
  {
   "metadata": {
    "ExecuteTime": {
     "end_time": "2025-05-11T20:53:37.052221Z",
     "start_time": "2025-05-11T20:53:37.005187Z"
    }
   },
   "cell_type": "code",
   "source": "newton(fc, x0c, fprime=dfc)",
   "id": "e2a324c3bba4a14",
   "outputs": [
    {
     "ename": "RuntimeError",
     "evalue": "Derivative was zero. Failed to converge after 8 iterations, value is 61915222905316.26.",
     "output_type": "error",
     "traceback": [
      "\u001B[1;31m---------------------------------------------------------------------------\u001B[0m",
      "\u001B[1;31mRuntimeError\u001B[0m                              Traceback (most recent call last)",
      "Cell \u001B[1;32mIn[36], line 1\u001B[0m\n\u001B[1;32m----> 1\u001B[0m \u001B[43mnewton\u001B[49m\u001B[43m(\u001B[49m\u001B[43mfc\u001B[49m\u001B[43m,\u001B[49m\u001B[43m \u001B[49m\u001B[43mx0c\u001B[49m\u001B[43m,\u001B[49m\u001B[43m \u001B[49m\u001B[43mfprime\u001B[49m\u001B[38;5;241;43m=\u001B[39;49m\u001B[43mdfc\u001B[49m\u001B[43m)\u001B[49m\n",
      "File \u001B[1;32m~\\AppData\\Local\\Programs\\Python\\Python310\\lib\\site-packages\\scipy\\optimize\\_zeros_py.py:322\u001B[0m, in \u001B[0;36mnewton\u001B[1;34m(func, x0, fprime, args, tol, maxiter, fprime2, x1, rtol, full_output, disp)\u001B[0m\n\u001B[0;32m    318\u001B[0m \u001B[38;5;28;01mif\u001B[39;00m disp:\n\u001B[0;32m    319\u001B[0m     msg \u001B[38;5;241m+\u001B[39m\u001B[38;5;241m=\u001B[39m (\n\u001B[0;32m    320\u001B[0m         \u001B[38;5;124m\"\u001B[39m\u001B[38;5;124m Failed to converge after \u001B[39m\u001B[38;5;132;01m%d\u001B[39;00m\u001B[38;5;124m iterations, value is \u001B[39m\u001B[38;5;132;01m%s\u001B[39;00m\u001B[38;5;124m.\u001B[39m\u001B[38;5;124m\"\u001B[39m\n\u001B[0;32m    321\u001B[0m         \u001B[38;5;241m%\u001B[39m (itr \u001B[38;5;241m+\u001B[39m \u001B[38;5;241m1\u001B[39m, p0))\n\u001B[1;32m--> 322\u001B[0m     \u001B[38;5;28;01mraise\u001B[39;00m \u001B[38;5;167;01mRuntimeError\u001B[39;00m(msg)\n\u001B[0;32m    323\u001B[0m warnings\u001B[38;5;241m.\u001B[39mwarn(msg, \u001B[38;5;167;01mRuntimeWarning\u001B[39;00m, stacklevel\u001B[38;5;241m=\u001B[39m\u001B[38;5;241m2\u001B[39m)\n\u001B[0;32m    324\u001B[0m \u001B[38;5;28;01mreturn\u001B[39;00m _results_select(\n\u001B[0;32m    325\u001B[0m     full_output, (p0, funcalls, itr \u001B[38;5;241m+\u001B[39m \u001B[38;5;241m1\u001B[39m, _ECONVERR), method)\n",
      "\u001B[1;31mRuntimeError\u001B[0m: Derivative was zero. Failed to converge after 8 iterations, value is 61915222905316.26."
     ]
    }
   ],
   "execution_count": 36
  },
  {
   "metadata": {
    "ExecuteTime": {
     "end_time": "2025-05-11T20:53:38.878741Z",
     "start_time": "2025-05-11T20:53:38.819713Z"
    }
   },
   "cell_type": "code",
   "source": "newton(fd, x0d, fprime=dfc)",
   "id": "bfb19d9074480190",
   "outputs": [
    {
     "ename": "RuntimeError",
     "evalue": "Derivative was zero. Failed to converge after 10 iterations, value is -2.26471776099399e+21.",
     "output_type": "error",
     "traceback": [
      "\u001B[1;31m---------------------------------------------------------------------------\u001B[0m",
      "\u001B[1;31mRuntimeError\u001B[0m                              Traceback (most recent call last)",
      "Cell \u001B[1;32mIn[37], line 1\u001B[0m\n\u001B[1;32m----> 1\u001B[0m \u001B[43mnewton\u001B[49m\u001B[43m(\u001B[49m\u001B[43mfd\u001B[49m\u001B[43m,\u001B[49m\u001B[43m \u001B[49m\u001B[43mx0d\u001B[49m\u001B[43m,\u001B[49m\u001B[43m \u001B[49m\u001B[43mfprime\u001B[49m\u001B[38;5;241;43m=\u001B[39;49m\u001B[43mdfc\u001B[49m\u001B[43m)\u001B[49m\n",
      "File \u001B[1;32m~\\AppData\\Local\\Programs\\Python\\Python310\\lib\\site-packages\\scipy\\optimize\\_zeros_py.py:322\u001B[0m, in \u001B[0;36mnewton\u001B[1;34m(func, x0, fprime, args, tol, maxiter, fprime2, x1, rtol, full_output, disp)\u001B[0m\n\u001B[0;32m    318\u001B[0m \u001B[38;5;28;01mif\u001B[39;00m disp:\n\u001B[0;32m    319\u001B[0m     msg \u001B[38;5;241m+\u001B[39m\u001B[38;5;241m=\u001B[39m (\n\u001B[0;32m    320\u001B[0m         \u001B[38;5;124m\"\u001B[39m\u001B[38;5;124m Failed to converge after \u001B[39m\u001B[38;5;132;01m%d\u001B[39;00m\u001B[38;5;124m iterations, value is \u001B[39m\u001B[38;5;132;01m%s\u001B[39;00m\u001B[38;5;124m.\u001B[39m\u001B[38;5;124m\"\u001B[39m\n\u001B[0;32m    321\u001B[0m         \u001B[38;5;241m%\u001B[39m (itr \u001B[38;5;241m+\u001B[39m \u001B[38;5;241m1\u001B[39m, p0))\n\u001B[1;32m--> 322\u001B[0m     \u001B[38;5;28;01mraise\u001B[39;00m \u001B[38;5;167;01mRuntimeError\u001B[39;00m(msg)\n\u001B[0;32m    323\u001B[0m warnings\u001B[38;5;241m.\u001B[39mwarn(msg, \u001B[38;5;167;01mRuntimeWarning\u001B[39;00m, stacklevel\u001B[38;5;241m=\u001B[39m\u001B[38;5;241m2\u001B[39m)\n\u001B[0;32m    324\u001B[0m \u001B[38;5;28;01mreturn\u001B[39;00m _results_select(\n\u001B[0;32m    325\u001B[0m     full_output, (p0, funcalls, itr \u001B[38;5;241m+\u001B[39m \u001B[38;5;241m1\u001B[39m, _ECONVERR), method)\n",
      "\u001B[1;31mRuntimeError\u001B[0m: Derivative was zero. Failed to converge after 10 iterations, value is -2.26471776099399e+21."
     ]
    }
   ],
   "execution_count": 37
  },
  {
   "metadata": {
    "ExecuteTime": {
     "end_time": "2025-05-11T20:54:31.552744Z",
     "start_time": "2025-05-11T20:54:31.496746Z"
    }
   },
   "cell_type": "code",
   "source": [
    "pd.DataFrame([[\"x**3 - 5*x\", 1, newton(fa, x0a, fprime=dfa)], \n",
    "              [\"x**3 - 3*x + 1\", 1, newton(fb, x0b, fprime=dfb)], \n",
    "              [\"2 - x**5\", 0.01, \"Błąd: wartość pochodnej równa 0\"],\n",
    "              [\"x**4 - 4.29*x**2 - 5.29\", 0.8, \"Błąd: wartość pochodnej równa 0\"]], \n",
    "             [\"a\", \"b\", \"c\", \"d\"], \n",
    "             [\"f\", \"x0\", \"newton(f, x0)\"])"
   ],
   "id": "16a76cf86d09ecd6",
   "outputs": [
    {
     "data": {
      "text/plain": [
       "                         f    x0                    newton(f, x0)\n",
       "a               x**3 - 5*x  1.00                             -0.0\n",
       "b           x**3 - 3*x + 1  1.00                         0.347296\n",
       "c                 2 - x**5  0.01  Błąd: wartość pochodnej równa 0\n",
       "d  x**4 - 4.29*x**2 - 5.29  0.80  Błąd: wartość pochodnej równa 0"
      ],
      "text/html": [
       "<div>\n",
       "<style scoped>\n",
       "    .dataframe tbody tr th:only-of-type {\n",
       "        vertical-align: middle;\n",
       "    }\n",
       "\n",
       "    .dataframe tbody tr th {\n",
       "        vertical-align: top;\n",
       "    }\n",
       "\n",
       "    .dataframe thead th {\n",
       "        text-align: right;\n",
       "    }\n",
       "</style>\n",
       "<table border=\"1\" class=\"dataframe\">\n",
       "  <thead>\n",
       "    <tr style=\"text-align: right;\">\n",
       "      <th></th>\n",
       "      <th>f</th>\n",
       "      <th>x0</th>\n",
       "      <th>newton(f, x0)</th>\n",
       "    </tr>\n",
       "  </thead>\n",
       "  <tbody>\n",
       "    <tr>\n",
       "      <th>a</th>\n",
       "      <td>x**3 - 5*x</td>\n",
       "      <td>1.00</td>\n",
       "      <td>-0.0</td>\n",
       "    </tr>\n",
       "    <tr>\n",
       "      <th>b</th>\n",
       "      <td>x**3 - 3*x + 1</td>\n",
       "      <td>1.00</td>\n",
       "      <td>0.347296</td>\n",
       "    </tr>\n",
       "    <tr>\n",
       "      <th>c</th>\n",
       "      <td>2 - x**5</td>\n",
       "      <td>0.01</td>\n",
       "      <td>Błąd: wartość pochodnej równa 0</td>\n",
       "    </tr>\n",
       "    <tr>\n",
       "      <th>d</th>\n",
       "      <td>x**4 - 4.29*x**2 - 5.29</td>\n",
       "      <td>0.80</td>\n",
       "      <td>Błąd: wartość pochodnej równa 0</td>\n",
       "    </tr>\n",
       "  </tbody>\n",
       "</table>\n",
       "</div>"
      ]
     },
     "execution_count": 38,
     "metadata": {},
     "output_type": "execute_result"
    }
   ],
   "execution_count": 38
  },
  {
   "metadata": {},
   "cell_type": "markdown",
   "source": [
    "a) flat spot\n",
    "b) flat spot\n",
    "c) flat spot\n",
    "d) cycle"
   ],
   "id": "ce19c203cbee46e2"
  },
  {
   "metadata": {
    "ExecuteTime": {
     "end_time": "2025-05-11T20:52:10.455602800Z",
     "start_time": "2025-05-11T20:35:19.135898Z"
    }
   },
   "cell_type": "code",
   "source": [
    "[bisect(fa, x0a - 1000, x0a + 1000),\n",
    "bisect(fb, x0b - 1000, x0b + 1000),\n",
    "bisect(fc, x0c - 1000, x0c + 1000),\n",
    "bisect(fd, x0d, x0d + 1000)]"
   ],
   "id": "92e8825c1a28b5fb",
   "outputs": [
    {
     "data": {
      "text/plain": [
       "[2.236067977499644, 1.5320888862367923, 1.1486983549979044, 2.2999999999982803]"
      ]
     },
     "execution_count": 5,
     "metadata": {},
     "output_type": "execute_result"
    }
   ],
   "execution_count": 5
  },
  {
   "metadata": {
    "ExecuteTime": {
     "end_time": "2025-05-11T20:52:10.456605200Z",
     "start_time": "2025-05-11T20:35:19.244899Z"
    }
   },
   "cell_type": "code",
   "source": "",
   "id": "c6e77571de951cce",
   "outputs": [],
   "execution_count": null
  }
 ],
 "metadata": {
  "kernelspec": {
   "display_name": "Python 3",
   "language": "python",
   "name": "python3"
  },
  "language_info": {
   "codemirror_mode": {
    "name": "ipython",
    "version": 2
   },
   "file_extension": ".py",
   "mimetype": "text/x-python",
   "name": "python",
   "nbconvert_exporter": "python",
   "pygments_lexer": "ipython2",
   "version": "2.7.6"
  }
 },
 "nbformat": 4,
 "nbformat_minor": 5
}
