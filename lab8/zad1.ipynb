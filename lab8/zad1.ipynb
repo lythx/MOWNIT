{
 "cells": [
  {
   "cell_type": "code",
   "id": "initial_id",
   "metadata": {
    "collapsed": true,
    "ExecuteTime": {
     "end_time": "2025-05-07T09:01:36.524161Z",
     "start_time": "2025-05-07T09:01:36.507035Z"
    }
   },
   "source": [
    "import numpy as np\n",
    "from matplotlib import pyplot as plt\n",
    "from scipy.optimize import newton, bisect\n",
    "from scipy.differentiate import derivative"
   ],
   "outputs": [],
   "execution_count": 36
  },
  {
   "metadata": {
    "ExecuteTime": {
     "end_time": "2025-05-07T09:03:16.431153Z",
     "start_time": "2025-05-07T09:03:16.422357Z"
    }
   },
   "cell_type": "code",
   "source": [
    "fa = lambda x: x**3 - 5*x\n",
    "x0a = 1\n",
    "dfa = lambda x: derivative(fa, x).df\n",
    "\n",
    "fb = lambda x: x**3 - 3*x + 1\n",
    "x0b = 1\n",
    "dfb = lambda x: derivative(fb, x).df\n",
    "\n",
    "fc = lambda x: 2 - x**5\n",
    "x0c = 0.01\n",
    "\n",
    "fd = lambda x: x**4 - 4.29*x**2 - 5.29\n",
    "x0d = 0.8"
   ],
   "id": "937a4faf4420b8d8",
   "outputs": [],
   "execution_count": 43
  },
  {
   "metadata": {
    "ExecuteTime": {
     "end_time": "2025-05-07T09:03:17.641695Z",
     "start_time": "2025-05-07T09:03:17.526299Z"
    }
   },
   "cell_type": "code",
   "source": "newton(fb, x0b, fprime=dfb)",
   "id": "16a76cf86d09ecd6",
   "outputs": [
    {
     "ename": "RuntimeError",
     "evalue": "Derivative was zero. Failed to converge after 1 iterations, value is 1.0.",
     "output_type": "error",
     "traceback": [
      "\u001B[31m---------------------------------------------------------------------------\u001B[39m",
      "\u001B[31mRuntimeError\u001B[39m                              Traceback (most recent call last)",
      "\u001B[36mCell\u001B[39m\u001B[36m \u001B[39m\u001B[32mIn[44]\u001B[39m\u001B[32m, line 1\u001B[39m\n\u001B[32m----> \u001B[39m\u001B[32m1\u001B[39m \u001B[43mnewton\u001B[49m\u001B[43m(\u001B[49m\u001B[43mfb\u001B[49m\u001B[43m,\u001B[49m\u001B[43m \u001B[49m\u001B[43mx0b\u001B[49m\u001B[43m,\u001B[49m\u001B[43m \u001B[49m\u001B[43mfprime\u001B[49m\u001B[43m=\u001B[49m\u001B[43mdfb\u001B[49m\u001B[43m)\u001B[49m\n",
      "\u001B[36mFile \u001B[39m\u001B[32mC:\\agh\\MOWNIT\\.venv\\Lib\\site-packages\\scipy\\optimize\\_zeros_py.py:322\u001B[39m, in \u001B[36mnewton\u001B[39m\u001B[34m(func, x0, fprime, args, tol, maxiter, fprime2, x1, rtol, full_output, disp)\u001B[39m\n\u001B[32m    318\u001B[39m \u001B[38;5;28;01mif\u001B[39;00m disp:\n\u001B[32m    319\u001B[39m     msg += (\n\u001B[32m    320\u001B[39m         \u001B[33m\"\u001B[39m\u001B[33m Failed to converge after \u001B[39m\u001B[38;5;132;01m%d\u001B[39;00m\u001B[33m iterations, value is \u001B[39m\u001B[38;5;132;01m%s\u001B[39;00m\u001B[33m.\u001B[39m\u001B[33m\"\u001B[39m\n\u001B[32m    321\u001B[39m         % (itr + \u001B[32m1\u001B[39m, p0))\n\u001B[32m--> \u001B[39m\u001B[32m322\u001B[39m     \u001B[38;5;28;01mraise\u001B[39;00m \u001B[38;5;167;01mRuntimeError\u001B[39;00m(msg)\n\u001B[32m    323\u001B[39m warnings.warn(msg, \u001B[38;5;167;01mRuntimeWarning\u001B[39;00m, stacklevel=\u001B[32m2\u001B[39m)\n\u001B[32m    324\u001B[39m \u001B[38;5;28;01mreturn\u001B[39;00m _results_select(\n\u001B[32m    325\u001B[39m     full_output, (p0, funcalls, itr + \u001B[32m1\u001B[39m, _ECONVERR), method)\n",
      "\u001B[31mRuntimeError\u001B[39m: Derivative was zero. Failed to converge after 1 iterations, value is 1.0."
     ]
    }
   ],
   "execution_count": 44
  },
  {
   "metadata": {},
   "cell_type": "markdown",
   "source": [
    "a) flat spot\n",
    "b) flat spot\n",
    "c) flat spot\n",
    "d) cycle"
   ],
   "id": "ce19c203cbee46e2"
  },
  {
   "metadata": {
    "ExecuteTime": {
     "end_time": "2025-05-07T09:05:32.454682Z",
     "start_time": "2025-05-07T09:05:32.447596Z"
    }
   },
   "cell_type": "code",
   "source": [
    "[bisect(fa, x0a - 1000, x0a + 1000),\n",
    "bisect(fb, x0b - 1000, x0b + 1000),\n",
    "bisect(fc, x0c - 1000, x0c + 1000),\n",
    "bisect(fd, x0d, x0d + 1000)]"
   ],
   "id": "92e8825c1a28b5fb",
   "outputs": [
    {
     "data": {
      "text/plain": [
       "[2.236067977499644, 1.5320888862367923, 1.1486983549979044, 2.2999999999982803]"
      ]
     },
     "execution_count": 48,
     "metadata": {},
     "output_type": "execute_result"
    }
   ],
   "execution_count": 48
  },
  {
   "metadata": {},
   "cell_type": "code",
   "outputs": [],
   "execution_count": null,
   "source": "",
   "id": "c6e77571de951cce"
  }
 ],
 "metadata": {
  "kernelspec": {
   "display_name": "Python 3",
   "language": "python",
   "name": "python3"
  },
  "language_info": {
   "codemirror_mode": {
    "name": "ipython",
    "version": 2
   },
   "file_extension": ".py",
   "mimetype": "text/x-python",
   "name": "python",
   "nbconvert_exporter": "python",
   "pygments_lexer": "ipython2",
   "version": "2.7.6"
  }
 },
 "nbformat": 4,
 "nbformat_minor": 5
}
