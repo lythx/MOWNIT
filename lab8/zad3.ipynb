{
 "cells": [
  {
   "cell_type": "markdown",
   "id": "520f1a11d65ac712",
   "metadata": {},
   "source": [
    "### Zadanie 3\n",
    "W tym zadaniu mieliśmy napisać schematy iteracji wg metody Newtona dla równań nieliniowych: $$ \\begin{aligned}\n",
    "(a) \\quad & x^3 - 2x - 5 = 0 \\\\\n",
    "(b) \\quad & e^{-x} = x \\\\\n",
    "(c) \\quad & x \\sin(x) = 1.\n",
    "\\end{aligned} $$ Następnie trzeba było ustalić ile iteracji należy wykonać, aby osiągnąć 24 i 53-bitową dokładność wyniku, jeśli początkowe przybliżenie pierwiastka $ x_0 $ ma dokładność 4 bitów."
   ]
  },
  {
   "cell_type": "code",
   "execution_count": 65,
   "id": "initial_id",
   "metadata": {
    "ExecuteTime": {
     "end_time": "2025-05-12T19:53:29.849006Z",
     "start_time": "2025-05-12T19:53:29.832008Z"
    },
    "collapsed": true
   },
   "outputs": [],
   "source": [
    "import numpy as np\n",
    "import pandas as pd"
   ]
  },
  {
   "cell_type": "markdown",
   "id": "8a81b33a9a900613",
   "metadata": {},
   "source": [
    "Na początku zdefiniowaliśmy funkcje $ f_1(x) = x^3 - 2x - 5 $, $ f_2(x) = e^{-x} - x $, $ f_3(x) = xsin(x) - 1 $ oraz ich pochodne. Następnie stworzyliśmy schematy iteracyjne metody Newtona dla każdej z funkcji, zgodnie ze wzorem: $$ x_{k+1} = x_k - \\frac{f(x_k)}{f'(x_k)} $$ Za pomocą tych schematów wyznaczyliśmy najpierw pierwiastki z dokładnością 4 bitów. W celu ustalenia dokładności porównywaliśmy różnicę wartości $ x $ w kolejnych iteracjach z $ \\epsilon=2^{-4} $:"
   ]
  },
  {
   "cell_type": "code",
   "execution_count": 66,
   "id": "49a8d40a2c862d97",
   "metadata": {
    "ExecuteTime": {
     "end_time": "2025-05-12T19:53:29.864005Z",
     "start_time": "2025-05-12T19:53:29.855006Z"
    }
   },
   "outputs": [],
   "source": [
    "fa = lambda x: x**3 - 2*x - 5\n",
    "dfa = lambda x: 3*x**2 - 2\n",
    "\n",
    "fb = lambda x: np.exp(-x) - x\n",
    "dfb = lambda x: -np.exp(-x) - 1\n",
    "\n",
    "fc = lambda x: x * np.sin(x) - 1\n",
    "dfc = lambda x: np.sin(x) + x * np.cos(x)"
   ]
  },
  {
   "cell_type": "code",
   "execution_count": 67,
   "id": "b6e0cd5d3f3035d",
   "metadata": {
    "ExecuteTime": {
     "end_time": "2025-05-12T19:53:29.896006Z",
     "start_time": "2025-05-12T19:53:29.880005Z"
    }
   },
   "outputs": [
    {
     "data": {
      "text/html": [
       "<div>\n",
       "<style scoped>\n",
       "    .dataframe tbody tr th:only-of-type {\n",
       "        vertical-align: middle;\n",
       "    }\n",
       "\n",
       "    .dataframe tbody tr th {\n",
       "        vertical-align: top;\n",
       "    }\n",
       "\n",
       "    .dataframe thead th {\n",
       "        text-align: right;\n",
       "    }\n",
       "</style>\n",
       "<table border=\"1\" class=\"dataframe\">\n",
       "  <thead>\n",
       "    <tr style=\"text-align: right;\">\n",
       "      <th></th>\n",
       "      <th>x0 4bit</th>\n",
       "    </tr>\n",
       "  </thead>\n",
       "  <tbody>\n",
       "    <tr>\n",
       "      <th>f1</th>\n",
       "      <td>2.094568</td>\n",
       "    </tr>\n",
       "    <tr>\n",
       "      <th>f2</th>\n",
       "      <td>0.567143</td>\n",
       "    </tr>\n",
       "    <tr>\n",
       "      <th>f3</th>\n",
       "      <td>1.114157</td>\n",
       "    </tr>\n",
       "  </tbody>\n",
       "</table>\n",
       "</div>"
      ],
      "text/plain": [
       "     x0 4bit\n",
       "f1  2.094568\n",
       "f2  0.567143\n",
       "f3  1.114157"
      ]
     },
     "execution_count": 67,
     "metadata": {},
     "output_type": "execute_result"
    }
   ],
   "source": [
    "iter_a = lambda x: x - fa(x) / dfa(x)\n",
    "iter_b = lambda x: x - fb(x) / dfb(x)\n",
    "iter_c = lambda x: x - fc(x) / dfc(x)\n",
    "\n",
    "def solve_iter_with_precision(iter_fun, x0, tolerance=1e-7, max_iter=1000):\n",
    "    x_prev = x0\n",
    "    x_curr = iter_fun(x_prev)\n",
    "    iteration = 1\n",
    "    while abs(x_curr - x_prev) > tolerance and iteration < max_iter:\n",
    "        x_prev = x_curr\n",
    "        x_curr = iter_fun(x_prev)\n",
    "        iteration += 1\n",
    "    return x_curr, iteration\n",
    "\n",
    "solutions4bit = [solve_iter_with_precision(iter_a, np.double(2), np.pow(1/2, 4))[0], \n",
    "    solve_iter_with_precision(iter_b, np.double(0.5), np.pow(1/2, 4))[0],\n",
    "    solve_iter_with_precision(iter_c, np.double(1), np.pow(1/2, 4))[0]]\n",
    "pd.DataFrame(solutions4bit, [\"f1\", \"f2\", \"f3\"], columns=['x0 4bit'])"
   ]
  },
  {
   "cell_type": "markdown",
   "id": "7c298597cb4475df",
   "metadata": {},
   "source": [
    "Następnie wyznaczyliśmy przybliżenia z 24-bitową dokładnością:"
   ]
  },
  {
   "cell_type": "code",
   "execution_count": 68,
   "id": "642a2ba7fc00468a",
   "metadata": {
    "ExecuteTime": {
     "end_time": "2025-05-12T19:53:29.989007Z",
     "start_time": "2025-05-12T19:53:29.975006Z"
    }
   },
   "outputs": [
    {
     "data": {
      "text/html": [
       "<div>\n",
       "<style scoped>\n",
       "    .dataframe tbody tr th:only-of-type {\n",
       "        vertical-align: middle;\n",
       "    }\n",
       "\n",
       "    .dataframe tbody tr th {\n",
       "        vertical-align: top;\n",
       "    }\n",
       "\n",
       "    .dataframe thead th {\n",
       "        text-align: right;\n",
       "    }\n",
       "</style>\n",
       "<table border=\"1\" class=\"dataframe\">\n",
       "  <thead>\n",
       "    <tr style=\"text-align: right;\">\n",
       "      <th></th>\n",
       "      <th>x0 24bit</th>\n",
       "      <th>Liczba iteracji</th>\n",
       "    </tr>\n",
       "  </thead>\n",
       "  <tbody>\n",
       "    <tr>\n",
       "      <th>f1</th>\n",
       "      <td>2.094551</td>\n",
       "      <td>2</td>\n",
       "    </tr>\n",
       "    <tr>\n",
       "      <th>f2</th>\n",
       "      <td>0.567143</td>\n",
       "      <td>2</td>\n",
       "    </tr>\n",
       "    <tr>\n",
       "      <th>f3</th>\n",
       "      <td>1.114157</td>\n",
       "      <td>1</td>\n",
       "    </tr>\n",
       "  </tbody>\n",
       "</table>\n",
       "</div>"
      ],
      "text/plain": [
       "    x0 24bit  Liczba iteracji\n",
       "f1  2.094551                2\n",
       "f2  0.567143                2\n",
       "f3  1.114157                1"
      ]
     },
     "execution_count": 68,
     "metadata": {},
     "output_type": "execute_result"
    }
   ],
   "source": [
    "solutions24bit = pd.DataFrame(\n",
    "    [solve_iter_with_precision(iter_a, solutions4bit[0], np.pow(1/2, 24)), \n",
    "    solve_iter_with_precision(iter_b, solutions4bit[1], np.pow(1/2, 24)),\n",
    "    solve_iter_with_precision(iter_c, solutions4bit[2], np.pow(1/2, 24))],\n",
    "    [\"f1\", \"f2\", \"f3\"], columns=['x0 24bit', 'Liczba iteracji']\n",
    ")\n",
    "\n",
    "solutions24bit"
   ]
  },
  {
   "cell_type": "markdown",
   "id": "d616e38d58e12aa0",
   "metadata": {},
   "source": [
    "Jak widać w zamieszczonej powyżej tabelce, schematy iteracyjne Newtona bardzo szybko otrzymują wynik z wymaganą dokładnością, co pokazuje skuteczność tej metody.\n",
    "\n",
    "Potem wyznaczyliśmy przybliżenia z 53-bitową dokładnością: "
   ]
  },
  {
   "cell_type": "code",
   "execution_count": 69,
   "id": "89705449ddc89595",
   "metadata": {
    "ExecuteTime": {
     "end_time": "2025-05-12T19:53:30.132008Z",
     "start_time": "2025-05-12T19:53:30.108006Z"
    }
   },
   "outputs": [
    {
     "data": {
      "text/html": [
       "<div>\n",
       "<style scoped>\n",
       "    .dataframe tbody tr th:only-of-type {\n",
       "        vertical-align: middle;\n",
       "    }\n",
       "\n",
       "    .dataframe tbody tr th {\n",
       "        vertical-align: top;\n",
       "    }\n",
       "\n",
       "    .dataframe thead th {\n",
       "        text-align: right;\n",
       "    }\n",
       "</style>\n",
       "<table border=\"1\" class=\"dataframe\">\n",
       "  <thead>\n",
       "    <tr style=\"text-align: right;\">\n",
       "      <th></th>\n",
       "      <th>x0 53bit</th>\n",
       "      <th>Liczba iteracji</th>\n",
       "    </tr>\n",
       "  </thead>\n",
       "  <tbody>\n",
       "    <tr>\n",
       "      <th>f1</th>\n",
       "      <td>2.094551</td>\n",
       "      <td>3</td>\n",
       "    </tr>\n",
       "    <tr>\n",
       "      <th>f2</th>\n",
       "      <td>0.567143</td>\n",
       "      <td>3</td>\n",
       "    </tr>\n",
       "    <tr>\n",
       "      <th>f3</th>\n",
       "      <td>1.114157</td>\n",
       "      <td>1000</td>\n",
       "    </tr>\n",
       "  </tbody>\n",
       "</table>\n",
       "</div>"
      ],
      "text/plain": [
       "    x0 53bit  Liczba iteracji\n",
       "f1  2.094551                3\n",
       "f2  0.567143                3\n",
       "f3  1.114157             1000"
      ]
     },
     "execution_count": 69,
     "metadata": {},
     "output_type": "execute_result"
    }
   ],
   "source": [
    "solutions53bit = pd.DataFrame(\n",
    "    [solve_iter_with_precision(iter_a, solutions4bit[0], np.pow(1/2, 53)), \n",
    "    solve_iter_with_precision(iter_b, solutions4bit[1], np.pow(1/2, 53)),\n",
    "    solve_iter_with_precision(iter_c, solutions4bit[2], np.pow(1/2, 53))],\n",
    "    [\"f1\", \"f2\", \"f3\"], columns=['x0 53bit', 'Liczba iteracji']\n",
    ")\n",
    "\n",
    "solutions53bit"
   ]
  },
  {
   "cell_type": "markdown",
   "id": "87d652e6c6c992ad",
   "metadata": {},
   "source": [
    "W tym przypadku liczba iteracji jest wciąż bardzo niska dla funkcji $ f1 $ i $ f2 $, ale w przypadku $ f3 $ nie udało się uzyskać wymaganej dokładności. Funkcja ta prawdopodobnie nie spełnia warunków zbieżności dla metody Newtona."
   ]
  }
 ],
 "metadata": {
  "kernelspec": {
   "display_name": "Python 3",
   "language": "python",
   "name": "python3"
  },
  "language_info": {
   "codemirror_mode": {
    "name": "ipython",
    "version": 2
   },
   "file_extension": ".py",
   "mimetype": "text/x-python",
   "name": "python",
   "nbconvert_exporter": "python",
   "pygments_lexer": "ipython2",
   "version": "2.7.6"
  }
 },
 "nbformat": 4,
 "nbformat_minor": 5
}
