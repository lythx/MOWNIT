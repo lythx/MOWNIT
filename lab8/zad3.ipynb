{
 "cells": [
  {
   "cell_type": "code",
   "id": "initial_id",
   "metadata": {
    "collapsed": true,
    "ExecuteTime": {
     "end_time": "2025-05-12T18:51:47.847145Z",
     "start_time": "2025-05-12T18:51:47.841150Z"
    }
   },
   "source": [
    "import numpy as np\n",
    "import pandas as pd"
   ],
   "outputs": [],
   "execution_count": 17
  },
  {
   "metadata": {
    "ExecuteTime": {
     "end_time": "2025-05-12T18:51:47.863176Z",
     "start_time": "2025-05-12T18:51:47.852220Z"
    }
   },
   "cell_type": "code",
   "source": [
    "fa = lambda x: x**3 - 2*x - 5\n",
    "dfa = lambda x: 3*x**2 - 2\n",
    "\n",
    "fb = lambda x: np.exp(-x) - x\n",
    "dfb = lambda x: -np.exp(-x) - 1\n",
    "\n",
    "fc = lambda x: x * np.sin(x) - 1\n",
    "dfc = lambda x: np.sin(x) + x * np.cos(x)"
   ],
   "id": "49a8d40a2c862d97",
   "outputs": [],
   "execution_count": 18
  },
  {
   "metadata": {},
   "cell_type": "code",
   "source": [
    "iter_a = lambda x: x - fa(x) / dfa(x)\n",
    "iter_b = lambda x: x - fb(x) / dfb(x)\n",
    "iter_c = lambda x: x - fc(x) / dfc(x)\n",
    "\n",
    "def solve_iter(iter_fun, x, max_iter=30, cur_iter=0):\n",
    "    if cur_iter == max_iter:\n",
    "        return x\n",
    "    return solve_iter(iter_fun, iter_fun(x), max_iter, cur_iter + 1)\n",
    "\n",
    "solutions = pd.DataFrame([solve_iter(iter_a, 2), solve_iter(iter_b, 0.5), solve_iter(iter_c, 1)])\n",
    "\n",
    "real_solutions = np.array([2.0945514815423, 0.56714352628852, 1.1141571379514], dtype=np.double)\n",
    "\n",
    "def solve_iter_with_precision(iter_fun, x0, tolerance=1e-7, max_iter=100):\n",
    "    x_prev = x0\n",
    "    x_curr = iter_fun(x_prev)\n",
    "    iteration = 1\n",
    "    while abs(x_curr - x_prev) > tolerance and iteration < max_iter:\n",
    "        x_prev = x_curr\n",
    "        x_curr = iter_fun(x_prev)\n",
    "        iteration += 1\n",
    "    return x_curr, iteration\n",
    "\n",
    "solutions4bit = [solve_iter_with_precision(iter_a, np.double(2), np.pow(1/2, 4)), \n",
    "    solve_iter_with_precision(iter_b, np.double(0.5), np.pow(1/2, 4)),\n",
    "    solve_iter_with_precision(iter_c, np.double(1), np.pow(1/2, 4))]"
   ],
   "id": "b6e0cd5d3f3035d",
   "outputs": [],
   "execution_count": null
  },
  {
   "metadata": {
    "ExecuteTime": {
     "end_time": "2025-05-12T19:05:19.008172Z",
     "start_time": "2025-05-12T19:05:18.992175Z"
    }
   },
   "cell_type": "code",
   "outputs": [
    {
     "data": {
      "text/plain": [
       "          0  1\n",
       "0  2.094551  2\n",
       "1  0.567143  2\n",
       "2  1.114157  1"
      ],
      "text/html": [
       "<div>\n",
       "<style scoped>\n",
       "    .dataframe tbody tr th:only-of-type {\n",
       "        vertical-align: middle;\n",
       "    }\n",
       "\n",
       "    .dataframe tbody tr th {\n",
       "        vertical-align: top;\n",
       "    }\n",
       "\n",
       "    .dataframe thead th {\n",
       "        text-align: right;\n",
       "    }\n",
       "</style>\n",
       "<table border=\"1\" class=\"dataframe\">\n",
       "  <thead>\n",
       "    <tr style=\"text-align: right;\">\n",
       "      <th></th>\n",
       "      <th>0</th>\n",
       "      <th>1</th>\n",
       "    </tr>\n",
       "  </thead>\n",
       "  <tbody>\n",
       "    <tr>\n",
       "      <th>0</th>\n",
       "      <td>2.094551</td>\n",
       "      <td>2</td>\n",
       "    </tr>\n",
       "    <tr>\n",
       "      <th>1</th>\n",
       "      <td>0.567143</td>\n",
       "      <td>2</td>\n",
       "    </tr>\n",
       "    <tr>\n",
       "      <th>2</th>\n",
       "      <td>1.114157</td>\n",
       "      <td>1</td>\n",
       "    </tr>\n",
       "  </tbody>\n",
       "</table>\n",
       "</div>"
      ]
     },
     "execution_count": 37,
     "metadata": {},
     "output_type": "execute_result"
    }
   ],
   "execution_count": 37,
   "source": [
    "solutions24bit = pd.DataFrame(\n",
    "    [solve_iter_with_precision(iter_a, solutions4bit[0][0], np.pow(1/2, 24)), \n",
    "    solve_iter_with_precision(iter_b, solutions4bit[1][0], np.pow(1/2, 24)),\n",
    "    solve_iter_with_precision(iter_c, solutions4bit[2][0], np.pow(1/2, 24))]\n",
    ")\n",
    "\n",
    "solutions24bit"
   ],
   "id": "642a2ba7fc00468a"
  },
  {
   "metadata": {
    "ExecuteTime": {
     "end_time": "2025-05-12T19:06:58.187421Z",
     "start_time": "2025-05-12T19:06:58.168028Z"
    }
   },
   "cell_type": "code",
   "source": [
    "solutions53bit = pd.DataFrame(\n",
    "    [solve_iter_with_precision(iter_a, solutions4bit[0][0], np.pow(1/2, 53)), \n",
    "    solve_iter_with_precision(iter_b, solutions4bit[1][0], np.pow(1/2, 53)),\n",
    "    solve_iter_with_precision(iter_c, solutions4bit[2][0], np.pow(1/2, 53))]\n",
    ")\n",
    "\n",
    "solutions53bit"
   ],
   "id": "89705449ddc89595",
   "outputs": [
    {
     "data": {
      "text/plain": [
       "          0    1\n",
       "0  2.094551    3\n",
       "1  0.567143    3\n",
       "2  1.114157  100"
      ],
      "text/html": [
       "<div>\n",
       "<style scoped>\n",
       "    .dataframe tbody tr th:only-of-type {\n",
       "        vertical-align: middle;\n",
       "    }\n",
       "\n",
       "    .dataframe tbody tr th {\n",
       "        vertical-align: top;\n",
       "    }\n",
       "\n",
       "    .dataframe thead th {\n",
       "        text-align: right;\n",
       "    }\n",
       "</style>\n",
       "<table border=\"1\" class=\"dataframe\">\n",
       "  <thead>\n",
       "    <tr style=\"text-align: right;\">\n",
       "      <th></th>\n",
       "      <th>0</th>\n",
       "      <th>1</th>\n",
       "    </tr>\n",
       "  </thead>\n",
       "  <tbody>\n",
       "    <tr>\n",
       "      <th>0</th>\n",
       "      <td>2.094551</td>\n",
       "      <td>3</td>\n",
       "    </tr>\n",
       "    <tr>\n",
       "      <th>1</th>\n",
       "      <td>0.567143</td>\n",
       "      <td>3</td>\n",
       "    </tr>\n",
       "    <tr>\n",
       "      <th>2</th>\n",
       "      <td>1.114157</td>\n",
       "      <td>100</td>\n",
       "    </tr>\n",
       "  </tbody>\n",
       "</table>\n",
       "</div>"
      ]
     },
     "execution_count": 38,
     "metadata": {},
     "output_type": "execute_result"
    }
   ],
   "execution_count": 38
  }
 ],
 "metadata": {
  "kernelspec": {
   "display_name": "Python 3",
   "language": "python",
   "name": "python3"
  },
  "language_info": {
   "codemirror_mode": {
    "name": "ipython",
    "version": 2
   },
   "file_extension": ".py",
   "mimetype": "text/x-python",
   "name": "python",
   "nbconvert_exporter": "python",
   "pygments_lexer": "ipython2",
   "version": "2.7.6"
  }
 },
 "nbformat": 4,
 "nbformat_minor": 5
}
