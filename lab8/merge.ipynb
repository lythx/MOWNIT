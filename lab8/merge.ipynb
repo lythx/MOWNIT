{
 "cells": [
  {
   "cell_type": "markdown",
   "id": "initial_id",
   "metadata": {
    "ExecuteTime": {
     "end_time": "2025-05-12T20:54:15.462921Z",
     "start_time": "2025-05-12T20:54:15.454889Z"
    },
    "collapsed": true
   },
   "source": [
    "# Laboratorium 08 - Rozwiązywanie równań nieliniowych\n",
    "## Błażej Naziemiec i Szymon Żuk\n",
    "### 12 maja 2025\n",
    "## Wstęp\n",
    "Celem laboratorium jest zapoznanie się z różnymi metodami rozwiązywania równań nieliniowych z użyciem metod iteracyjnych. "
   ]
  },
  {
   "cell_type": "markdown",
   "id": "6008ddb0c2581bf9",
   "metadata": {},
   "source": [
    "## Zadanie 1\n",
    "Celem tego zadania jest znalezienie miejsc zerowych opisanych poniżej funkcji nie wykorzystując metody Newtona."
   ]
  },
  {
   "cell_type": "code",
   "id": "b3d8d36b4e2c13a5",
   "metadata": {
    "collapsed": true,
    "ExecuteTime": {
     "end_time": "2025-05-20T18:07:08.505344Z",
     "start_time": "2025-05-20T18:07:03.160735Z"
    }
   },
   "source": [
    "import pandas as pd\n",
    "from scipy.optimize import newton, bisect"
   ],
   "outputs": [],
   "execution_count": 2
  },
  {
   "cell_type": "markdown",
   "id": "864fa7ccc5b53000",
   "metadata": {},
   "source": [
    "Na początku zdefiniowaliśmy funkcje oraz estymację, gdzie przewidujemy, że funkcja ma jendo ze swoich miejsc zerowych:\n",
    "$$\n",
    "f_a(x) = x^3 - 5x, x_0 = 1\n",
    "$$\n",
    "$$\n",
    "f_b(x) = x^3 - 3x + 1, x_0 = 1\n",
    "$$\n",
    "$$\n",
    "f_c(x) = 2 - x^5, x_0 = 0.01\n",
    "$$\n",
    "$$\n",
    "f_d(x) = x^4 - 4.28x^2 - 5.29, x_0 = 0.8\n",
    "$$\n",
    "oraz ich pochodne pierwszego stopnia:\n",
    "$$\n",
    "f`_a(x) = 3x^2 - 5\n",
    "$$\n",
    "$$\n",
    "f`_b(x) = 3x^2 - 3\n",
    "$$\n",
    "$$\n",
    "f`_c(x) = -5x^4\n",
    "$$\n",
    "$$\n",
    "f`_d(x) = 4x^3 - 8.56x\n",
    "$$\n",
    "Wyznaczyliśmy je, ponieważ sądziliśmy, że pozwolą one na wyznaczenie miejsc zerowych tych funkcji metodą Newtona. Jednakże, w przypadku każdej z tych funkcji otrzymaliśmy błędy, które zostały wypisane dla każdej z funkcji.\n"
   ]
  },
  {
   "cell_type": "code",
   "id": "b103da5acdbe3cef",
   "metadata": {
    "ExecuteTime": {
     "end_time": "2025-05-20T18:07:08.520344Z",
     "start_time": "2025-05-20T18:07:08.510348Z"
    }
   },
   "source": [
    "fa = lambda x: x**3 - 5*x\n",
    "x0a = 1\n",
    "dfa = lambda x: 3*x**2 - 5\n",
    "\n",
    "fb = lambda x: x**3 - 3*x + 1\n",
    "x0b = 1\n",
    "dfb = lambda x: 3*x**2 - 3\n",
    "\n",
    "fc = lambda x: 2 - x**5\n",
    "x0c = 0.01\n",
    "dfc = lambda x: -5*x**4\n",
    "\n",
    "fd = lambda x: x**4 - 4.29*x**2 - 5.29\n",
    "x0d = 0.8\n",
    "dfd = lambda x: 4*x**3 - 2*4.29*x"
   ],
   "outputs": [],
   "execution_count": 3
  },
  {
   "cell_type": "markdown",
   "id": "3dc2da7e6a63ab8d",
   "metadata": {},
   "source": [
    "Metoda Newtona dla $f_a(x)$:"
   ]
  },
  {
   "cell_type": "code",
   "id": "4e5854600acd11a9",
   "metadata": {
    "ExecuteTime": {
     "end_time": "2025-05-20T18:07:08.583483Z",
     "start_time": "2025-05-20T18:07:08.569345Z"
    }
   },
   "source": [
    "try:\n",
    "    newton(fa, x0a, fprime=dfa)\n",
    "except RuntimeError as err:\n",
    "    print(err)"
   ],
   "outputs": [
    {
     "name": "stdout",
     "output_type": "stream",
     "text": [
      "Failed to converge after 50 iterations, value is 1.0.\n"
     ]
    }
   ],
   "execution_count": 4
  },
  {
   "cell_type": "markdown",
   "id": "2a893a98d28ab81f",
   "metadata": {},
   "source": [
    "Metoda Newtona dla $f_b(x)$:"
   ]
  },
  {
   "cell_type": "code",
   "id": "3436fafc13303a1f",
   "metadata": {
    "ExecuteTime": {
     "end_time": "2025-05-20T18:07:08.631483Z",
     "start_time": "2025-05-20T18:07:08.619485Z"
    }
   },
   "source": [
    "try:\n",
    "    newton(fb, x0b, fprime=dfb)\n",
    "except RuntimeError as err:\n",
    "    print(err)"
   ],
   "outputs": [
    {
     "name": "stdout",
     "output_type": "stream",
     "text": [
      "Derivative was zero. Failed to converge after 1 iterations, value is 1.0.\n"
     ]
    }
   ],
   "execution_count": 5
  },
  {
   "cell_type": "markdown",
   "id": "d0ad529b76b9be19",
   "metadata": {},
   "source": [
    "Metoda Newtona dla $f_c(x)$:"
   ]
  },
  {
   "cell_type": "code",
   "id": "cda02089900d079",
   "metadata": {
    "ExecuteTime": {
     "end_time": "2025-05-20T18:07:08.710792Z",
     "start_time": "2025-05-20T18:07:08.696793Z"
    }
   },
   "source": [
    "try:\n",
    "    newton(fc, x0c, fprime=dfc)\n",
    "except RuntimeError as err:\n",
    "    print(err)"
   ],
   "outputs": [
    {
     "name": "stdout",
     "output_type": "stream",
     "text": [
      "Failed to converge after 50 iterations, value is 713.6238464957056.\n"
     ]
    }
   ],
   "execution_count": 6
  },
  {
   "cell_type": "markdown",
   "id": "366126bdcced512f",
   "metadata": {},
   "source": [
    "Metoda Newtona dla $f_d(x)$:"
   ]
  },
  {
   "cell_type": "code",
   "id": "77408f5676922c75",
   "metadata": {
    "ExecuteTime": {
     "end_time": "2025-05-20T18:07:08.805974Z",
     "start_time": "2025-05-20T18:07:08.787951Z"
    }
   },
   "source": [
    "try:\n",
    "    newton(fd, x0d, fprime=dfd)\n",
    "except RuntimeError as err:\n",
    "    print(err)"
   ],
   "outputs": [
    {
     "name": "stdout",
     "output_type": "stream",
     "text": [
      "Failed to converge after 50 iterations, value is 0.7876130494100906.\n"
     ]
    }
   ],
   "execution_count": 7
  },
  {
   "cell_type": "markdown",
   "id": "982d68f2cca12c68",
   "metadata": {},
   "source": [
    "Analizując otrzymane wyniki, wykresy funkcji wygenerowane z pomocą programu `Geogebra` (zamieszczone niżej) oraz slajd z intro do labolatorium z przypadkami, dla których metoda Newtona nie działa, do każdej z funkcji przypisaliśmy jeden z przypadków:\n",
    "\n",
    "$f_a ->$ flat spot\n",
    "\n",
    "$f_b ->$ flat spot\n",
    "\n",
    "$f_c ->$ flat spot\n",
    "\n",
    "$f_d ->$ cycle\n",
    "\n",
    "Aby znaleźć miejsca zerowe tych funkcji, wykorzystaliśmy metodę bisekcji. W tym celu użyliśmy funkcję `bisect` z biblioteki `scipy.optimize`. W tym celu wyznaczyliśmy dla każdej funkcji przedziały, w których dana funkcja posiada miejsca zerowe. Następnie, otrzymane wyniki przedstawiliśmy w poniższej tabeli:"
   ]
  },
  {
   "metadata": {
    "ExecuteTime": {
     "end_time": "2025-05-20T18:07:08.900279Z",
     "start_time": "2025-05-20T18:07:08.863252Z"
    }
   },
   "cell_type": "code",
   "source": [
    "pd.DataFrame([[\"x**3 - 5*x\", -1, 1, bisect(fa, -1, 1)], \n",
    "              [\"x**3 - 3*x + 1\", 0, 1, bisect(fb, 0, 1)], \n",
    "              [\"2 - x**5\", 0.01, 100, bisect(fc, 0.01, 100)],\n",
    "              [\"x**4 - 4.29*x**2 - 5.29\", 0.8, 100, bisect(fd, 0.8, 100)]], \n",
    "             [\"a\", \"b\", \"c\", \"d\"], \n",
    "             [\"f\", \"a\", \"b\", \"bisect(f, a, b)\"])"
   ],
   "id": "8cabece3d42bc623",
   "outputs": [
    {
     "data": {
      "text/plain": [
       "                         f     a    b  bisect(f, a, b)\n",
       "a               x**3 - 5*x -1.00    1         0.000000\n",
       "b           x**3 - 3*x + 1  0.00    1         0.347296\n",
       "c                 2 - x**5  0.01  100         1.148698\n",
       "d  x**4 - 4.29*x**2 - 5.29  0.80  100         2.300000"
      ],
      "text/html": [
       "<div>\n",
       "<style scoped>\n",
       "    .dataframe tbody tr th:only-of-type {\n",
       "        vertical-align: middle;\n",
       "    }\n",
       "\n",
       "    .dataframe tbody tr th {\n",
       "        vertical-align: top;\n",
       "    }\n",
       "\n",
       "    .dataframe thead th {\n",
       "        text-align: right;\n",
       "    }\n",
       "</style>\n",
       "<table border=\"1\" class=\"dataframe\">\n",
       "  <thead>\n",
       "    <tr style=\"text-align: right;\">\n",
       "      <th></th>\n",
       "      <th>f</th>\n",
       "      <th>a</th>\n",
       "      <th>b</th>\n",
       "      <th>bisect(f, a, b)</th>\n",
       "    </tr>\n",
       "  </thead>\n",
       "  <tbody>\n",
       "    <tr>\n",
       "      <th>a</th>\n",
       "      <td>x**3 - 5*x</td>\n",
       "      <td>-1.00</td>\n",
       "      <td>1</td>\n",
       "      <td>0.000000</td>\n",
       "    </tr>\n",
       "    <tr>\n",
       "      <th>b</th>\n",
       "      <td>x**3 - 3*x + 1</td>\n",
       "      <td>0.00</td>\n",
       "      <td>1</td>\n",
       "      <td>0.347296</td>\n",
       "    </tr>\n",
       "    <tr>\n",
       "      <th>c</th>\n",
       "      <td>2 - x**5</td>\n",
       "      <td>0.01</td>\n",
       "      <td>100</td>\n",
       "      <td>1.148698</td>\n",
       "    </tr>\n",
       "    <tr>\n",
       "      <th>d</th>\n",
       "      <td>x**4 - 4.29*x**2 - 5.29</td>\n",
       "      <td>0.80</td>\n",
       "      <td>100</td>\n",
       "      <td>2.300000</td>\n",
       "    </tr>\n",
       "  </tbody>\n",
       "</table>\n",
       "</div>"
      ]
     },
     "execution_count": 8,
     "metadata": {},
     "output_type": "execute_result"
    }
   ],
   "execution_count": 8
  },
  {
   "cell_type": "markdown",
   "id": "604dabbb21686c23",
   "metadata": {},
   "source": [
    "*Tabela 1. Miejsca zerowe wyliczone metodą bisekcji*\n",
    "\n",
    "Zgodnie z wytycznymi jakie dostaliśmy podczas konsultacji na zajęciach, dodaliśmy też rozwiązanie za pomocą metody Newtona. Wybraliśmy nowe punkty startowe, które były bliżej faktycznych miejsc zerowych. Otrzymane wyniki przedstawiliśmy w poniższej tabeli:"
   ]
  },
  {
   "cell_type": "code",
   "id": "9056108eb2d52e3c",
   "metadata": {
    "ExecuteTime": {
     "end_time": "2025-05-20T18:07:08.994250Z",
     "start_time": "2025-05-20T18:07:08.980251Z"
    }
   },
   "source": [
    "x0a_corrected = 0.1\n",
    "x0b_corrected = 0.4\n",
    "x0c_corrected = 1.2\n",
    "x0d_corrected = 2.1\n",
    "\n",
    "pd.DataFrame([[\"x**3 - 5*x\", x0a_corrected, newton(fa, x0a_corrected, fprime=dfa)], \n",
    "              [\"x**3 - 3*x + 1\", x0b_corrected, newton(fb, x0b_corrected, fprime=dfb)], \n",
    "              [\"2 - x**5\", x0c_corrected, newton(fc, x0c_corrected, fprime=dfc)],\n",
    "              [\"x**4 - 4.29*x**2 - 5.29\", x0d_corrected, newton(fd, x0d_corrected, fprime=dfd)]], \n",
    "             [\"a\", \"b\", \"c\", \"d\"], \n",
    "             [\"f\", \"x0\", \"newton(f, x0, df)\"])"
   ],
   "outputs": [
    {
     "data": {
      "text/plain": [
       "                         f   x0  newton(f, x0, df)\n",
       "a               x**3 - 5*x  0.1           0.000000\n",
       "b           x**3 - 3*x + 1  0.4           0.347296\n",
       "c                 2 - x**5  1.2           1.148698\n",
       "d  x**4 - 4.29*x**2 - 5.29  2.1           2.300000"
      ],
      "text/html": [
       "<div>\n",
       "<style scoped>\n",
       "    .dataframe tbody tr th:only-of-type {\n",
       "        vertical-align: middle;\n",
       "    }\n",
       "\n",
       "    .dataframe tbody tr th {\n",
       "        vertical-align: top;\n",
       "    }\n",
       "\n",
       "    .dataframe thead th {\n",
       "        text-align: right;\n",
       "    }\n",
       "</style>\n",
       "<table border=\"1\" class=\"dataframe\">\n",
       "  <thead>\n",
       "    <tr style=\"text-align: right;\">\n",
       "      <th></th>\n",
       "      <th>f</th>\n",
       "      <th>x0</th>\n",
       "      <th>newton(f, x0, df)</th>\n",
       "    </tr>\n",
       "  </thead>\n",
       "  <tbody>\n",
       "    <tr>\n",
       "      <th>a</th>\n",
       "      <td>x**3 - 5*x</td>\n",
       "      <td>0.1</td>\n",
       "      <td>0.000000</td>\n",
       "    </tr>\n",
       "    <tr>\n",
       "      <th>b</th>\n",
       "      <td>x**3 - 3*x + 1</td>\n",
       "      <td>0.4</td>\n",
       "      <td>0.347296</td>\n",
       "    </tr>\n",
       "    <tr>\n",
       "      <th>c</th>\n",
       "      <td>2 - x**5</td>\n",
       "      <td>1.2</td>\n",
       "      <td>1.148698</td>\n",
       "    </tr>\n",
       "    <tr>\n",
       "      <th>d</th>\n",
       "      <td>x**4 - 4.29*x**2 - 5.29</td>\n",
       "      <td>2.1</td>\n",
       "      <td>2.300000</td>\n",
       "    </tr>\n",
       "  </tbody>\n",
       "</table>\n",
       "</div>"
      ]
     },
     "execution_count": 9,
     "metadata": {},
     "output_type": "execute_result"
    }
   ],
   "execution_count": 9
  },
  {
   "metadata": {},
   "cell_type": "markdown",
   "source": [
    "*Tabela 2. Miejsca zerowe wyliczone metodą Newtona*\n",
    "\n",
    "W celu sprawdzenia poprawności otrzymanych wyników, porównaliśmy je z wykresami funkcji narysowanych w programie `Geogebra`.\n",
    "\n",
    "![image.png](attachment:image.png)\n",
    "\n",
    "*Wykres 1. Wykres funkcji $f_a(x)$*\n",
    "\n",
    "![image-2.png](attachment:image-2.png)\n",
    "\n",
    "*Wykres 2. Wykres funkcji $f_b(x)$*\n",
    "\n",
    "![image-3.png](attachment:image-3.png)\n",
    "\n",
    "*Wykres 3. Wykres funkcji $f_c(x)$*\n",
    "\n",
    "![image-4.png](attachment:image-4.png)\n",
    "\n",
    "*Wykres 4. Wykres funkcji $f_d(x)$*\n",
    "\n",
    "Analizując wykresy, zauważamy, że otrzymane metodą biskecji miejsca zerowe są zgodne z miejscami zerowymi funkcji wyznaczonymi w programie `Geogebra`. W związku z tym, możemy stwierdzić, że otrzymane wyniki są poprawne.\n",
    "\n",
    "Podsumowując, metoda Newtona nie była w stanie znaleźć miejsc zerowych zgodnie z przewidywaniami. Metoda bisekcji bez problemów znalazła miejsca zerowe, które są poprawne."
   ],
   "id": "5321bfee3ba9a59"
  },
  {
   "cell_type": "markdown",
   "id": "8c28ffa8fb3f9407",
   "metadata": {},
   "source": [
    "## Zadanie 2"
   ]
  },
  {
   "cell_type": "code",
   "id": "286b2a667dc611b3",
   "metadata": {
    "ExecuteTime": {
     "end_time": "2025-05-20T18:07:10.495605Z",
     "start_time": "2025-05-20T18:07:09.075252Z"
    }
   },
   "source": [
    "import numpy as np\n",
    "from scipy.differentiate import derivative\n",
    "import pandas as pd\n",
    "import matplotlib.pyplot as plt"
   ],
   "outputs": [],
   "execution_count": 10
  },
  {
   "cell_type": "markdown",
   "id": "7c314b58ec8fc3ae",
   "metadata": {},
   "source": [
    "Na początku zdefiniowaliśmy funkcję\n",
    "$$\n",
    "f(x) = x^2 - 3x + 2 = 0\n",
    "$$\n",
    "oraz funkcje definujące rówanoważny schemat iteracyjny\n",
    "$$\n",
    "\\phi _1(x) = \\frac{x^2 + 2}{3}\n",
    "$$\n",
    "$$\n",
    "\\phi _2(x) = \\sqrt{3x - 2}\n",
    "$$\n",
    "$$\n",
    "\\phi _3(x) = 3 - \\frac{2}{x}\n",
    "$$\n",
    "$$\n",
    "\\phi _4(x) = \\frac{x^2 - 2}{2x - 3}\n",
    "$$\n",
    "\n",
    "Następnie przeanalizowaliśmy zbieżność oraz rząd zbieżności schematów iteracyjnych odpowiadających funkcjom $\\phi _i(x)$ dla pierwiastka $\\alpha = 2$ badając wartości $|\\phi` _i(2)|$. Otrzymane wyniki przedstawiliśmy w tabeli poniżej."
   ]
  },
  {
   "cell_type": "code",
   "id": "339eb6e44742bef6",
   "metadata": {
    "ExecuteTime": {
     "end_time": "2025-05-20T18:07:10.575093Z",
     "start_time": "2025-05-20T18:07:10.544885Z"
    }
   },
   "source": [
    "f = lambda x: x**2 - 3*x + 2\n",
    "alpha = 2\n",
    "\n",
    "phi1 = lambda x: (x**2 + 2) / 3\n",
    "phi2 = lambda x: np.sqrt(3*x - 2)\n",
    "phi3 = lambda x: 3 - (2 / x)\n",
    "phi4 = lambda x: (x**2 - 2) / (2*x - 3)\n",
    "\n",
    "dphi1_2 = derivative(phi1, alpha).df\n",
    "dphi2_2 = derivative(phi2, alpha).df\n",
    "dphi3_2 = derivative(phi3, alpha).df\n",
    "dphi4_2 = derivative(phi4, alpha, initial_step=0.3).df\n",
    "\n",
    "pd.DataFrame([dphi1_2, dphi2_2, dphi3_2, dphi4_2], index=['ϕ1', 'ϕ2', 'ϕ3', \"ϕ4\"], columns=[\"|ϕi(2)|\"])"
   ],
   "outputs": [
    {
     "data": {
      "text/plain": [
       "     |ϕi(2)|\n",
       "ϕ1  1.333333\n",
       "ϕ2  0.750000\n",
       "ϕ3  0.500000\n",
       "ϕ4  0.000000"
      ],
      "text/html": [
       "<div>\n",
       "<style scoped>\n",
       "    .dataframe tbody tr th:only-of-type {\n",
       "        vertical-align: middle;\n",
       "    }\n",
       "\n",
       "    .dataframe tbody tr th {\n",
       "        vertical-align: top;\n",
       "    }\n",
       "\n",
       "    .dataframe thead th {\n",
       "        text-align: right;\n",
       "    }\n",
       "</style>\n",
       "<table border=\"1\" class=\"dataframe\">\n",
       "  <thead>\n",
       "    <tr style=\"text-align: right;\">\n",
       "      <th></th>\n",
       "      <th>|ϕi(2)|</th>\n",
       "    </tr>\n",
       "  </thead>\n",
       "  <tbody>\n",
       "    <tr>\n",
       "      <th>ϕ1</th>\n",
       "      <td>1.333333</td>\n",
       "    </tr>\n",
       "    <tr>\n",
       "      <th>ϕ2</th>\n",
       "      <td>0.750000</td>\n",
       "    </tr>\n",
       "    <tr>\n",
       "      <th>ϕ3</th>\n",
       "      <td>0.500000</td>\n",
       "    </tr>\n",
       "    <tr>\n",
       "      <th>ϕ4</th>\n",
       "      <td>0.000000</td>\n",
       "    </tr>\n",
       "  </tbody>\n",
       "</table>\n",
       "</div>"
      ]
     },
     "execution_count": 11,
     "metadata": {},
     "output_type": "execute_result"
    }
   ],
   "execution_count": 11
  },
  {
   "cell_type": "markdown",
   "id": "1c15e3a4e1922ccf",
   "metadata": {},
   "source": [
    "*Tabela 3. Wartości $|ϕi(2)|$ dla poszczególnych schematów iteracyjnych*\n",
    "\n",
    "Można zauważyć, że tylko dla schematu $\\phi _1(x)$ mamy $|\\phi` _i(2)| > 1$, co oznacza, że schemat ten nie jest zbieżny w punkcie. Wszystkie pozostałe schematy są zbieżne. Następnie, potwierdziliśmy to obliczając wartość miejsca zerowego funkcji $f(x)$ dla każdego ze schematów $\\phi _i(x)$. Wykonaliśmy 10 iteracji w celu jak najlepszego przybliżenia wartości miejsca zerowego. Otrzymane wyniki przedstawiliśmy w tabeli poniżej."
   ]
  },
  {
   "cell_type": "code",
   "id": "f69c56c18dbd5c2f",
   "metadata": {
    "ExecuteTime": {
     "end_time": "2025-05-20T18:07:10.651028Z",
     "start_time": "2025-05-20T18:07:10.637029Z"
    }
   },
   "source": [
    "def test_convergence(x, phi, remaining_iter=10, result=None):\n",
    "    if result is None:\n",
    "        result = []\n",
    "    return test_convergence(phi(x), phi, remaining_iter - 1, result + [x]) if remaining_iter != 0 else result + [x]\n",
    "\n",
    "x0 = 3\n",
    "\n",
    "iterationValues = np.array([test_convergence(x0, phi1), test_convergence(x0, phi2), test_convergence(x0, phi3), test_convergence(x0, phi4)])\n",
    "\n",
    "pd.DataFrame(iterationValues.T, columns=['ϕ1', 'ϕ2', 'ϕ3', \"ϕ4\"])"
   ],
   "outputs": [
    {
     "data": {
      "text/plain": [
       "              ϕ1        ϕ2        ϕ3        ϕ4\n",
       "0   3.000000e+00  3.000000  3.000000  3.000000\n",
       "1   3.666667e+00  2.645751  2.333333  2.333333\n",
       "2   5.148148e+00  2.436648  2.142857  2.066667\n",
       "3   9.501143e+00  2.304332  2.066667  2.003922\n",
       "4   3.075724e+01  2.216528  2.032258  2.000015\n",
       "5   3.160026e+02  2.156289  2.015873  2.000000\n",
       "6   3.328655e+04  2.113970  2.007874  2.000000\n",
       "7   3.693315e+08  2.083725  2.003922  2.000000\n",
       "8   4.546858e+16  2.061838  2.001957  2.000000\n",
       "9   6.891304e+32  2.045853  2.000978  2.000000\n",
       "10  1.583003e+65  2.034099  2.000489  2.000000"
      ],
      "text/html": [
       "<div>\n",
       "<style scoped>\n",
       "    .dataframe tbody tr th:only-of-type {\n",
       "        vertical-align: middle;\n",
       "    }\n",
       "\n",
       "    .dataframe tbody tr th {\n",
       "        vertical-align: top;\n",
       "    }\n",
       "\n",
       "    .dataframe thead th {\n",
       "        text-align: right;\n",
       "    }\n",
       "</style>\n",
       "<table border=\"1\" class=\"dataframe\">\n",
       "  <thead>\n",
       "    <tr style=\"text-align: right;\">\n",
       "      <th></th>\n",
       "      <th>ϕ1</th>\n",
       "      <th>ϕ2</th>\n",
       "      <th>ϕ3</th>\n",
       "      <th>ϕ4</th>\n",
       "    </tr>\n",
       "  </thead>\n",
       "  <tbody>\n",
       "    <tr>\n",
       "      <th>0</th>\n",
       "      <td>3.000000e+00</td>\n",
       "      <td>3.000000</td>\n",
       "      <td>3.000000</td>\n",
       "      <td>3.000000</td>\n",
       "    </tr>\n",
       "    <tr>\n",
       "      <th>1</th>\n",
       "      <td>3.666667e+00</td>\n",
       "      <td>2.645751</td>\n",
       "      <td>2.333333</td>\n",
       "      <td>2.333333</td>\n",
       "    </tr>\n",
       "    <tr>\n",
       "      <th>2</th>\n",
       "      <td>5.148148e+00</td>\n",
       "      <td>2.436648</td>\n",
       "      <td>2.142857</td>\n",
       "      <td>2.066667</td>\n",
       "    </tr>\n",
       "    <tr>\n",
       "      <th>3</th>\n",
       "      <td>9.501143e+00</td>\n",
       "      <td>2.304332</td>\n",
       "      <td>2.066667</td>\n",
       "      <td>2.003922</td>\n",
       "    </tr>\n",
       "    <tr>\n",
       "      <th>4</th>\n",
       "      <td>3.075724e+01</td>\n",
       "      <td>2.216528</td>\n",
       "      <td>2.032258</td>\n",
       "      <td>2.000015</td>\n",
       "    </tr>\n",
       "    <tr>\n",
       "      <th>5</th>\n",
       "      <td>3.160026e+02</td>\n",
       "      <td>2.156289</td>\n",
       "      <td>2.015873</td>\n",
       "      <td>2.000000</td>\n",
       "    </tr>\n",
       "    <tr>\n",
       "      <th>6</th>\n",
       "      <td>3.328655e+04</td>\n",
       "      <td>2.113970</td>\n",
       "      <td>2.007874</td>\n",
       "      <td>2.000000</td>\n",
       "    </tr>\n",
       "    <tr>\n",
       "      <th>7</th>\n",
       "      <td>3.693315e+08</td>\n",
       "      <td>2.083725</td>\n",
       "      <td>2.003922</td>\n",
       "      <td>2.000000</td>\n",
       "    </tr>\n",
       "    <tr>\n",
       "      <th>8</th>\n",
       "      <td>4.546858e+16</td>\n",
       "      <td>2.061838</td>\n",
       "      <td>2.001957</td>\n",
       "      <td>2.000000</td>\n",
       "    </tr>\n",
       "    <tr>\n",
       "      <th>9</th>\n",
       "      <td>6.891304e+32</td>\n",
       "      <td>2.045853</td>\n",
       "      <td>2.000978</td>\n",
       "      <td>2.000000</td>\n",
       "    </tr>\n",
       "    <tr>\n",
       "      <th>10</th>\n",
       "      <td>1.583003e+65</td>\n",
       "      <td>2.034099</td>\n",
       "      <td>2.000489</td>\n",
       "      <td>2.000000</td>\n",
       "    </tr>\n",
       "  </tbody>\n",
       "</table>\n",
       "</div>"
      ]
     },
     "execution_count": 12,
     "metadata": {},
     "output_type": "execute_result"
    }
   ],
   "execution_count": 12
  },
  {
   "cell_type": "markdown",
   "id": "e93e3da66d611ae9",
   "metadata": {},
   "source": [
    "*Tabela 4. Wartości przybliżające miejsce zerowe funkcji w kolejnych iteracjach*\n",
    "\n",
    "Jak widać na powyższej tabeli, wartości miejsc zeorwych są zgodne dla wszystkich funkcji $\\phi$ poza $\\phi _1(x)$, która nie jest zbieżna. Potwierdza to nasze wcześniejsze obliczenia odnośnie zbieżności poszczególnych funkcji $\\phi _i(x)$. Następnie wyznaczyliśmy eksperymetalnie rząd zbieżności każdej metody iteracyjnej ze wzoru\n",
    "$$\n",
    "r = \\frac{\\ln \\frac{\\varepsilon_k}{\\varepsilon_{k+1}}}{\\ln \\frac{\\varepsilon_{k-1}}{\\varepsilon_k}}\n",
    "$$\n",
    "Otrzymane wyniki przedstawiliśmy w tabeli poniżej."
   ]
  },
  {
   "cell_type": "markdown",
   "id": "fa3d86ba2064aedc",
   "metadata": {},
   "source": []
  },
  {
   "cell_type": "code",
   "id": "c994bd903c44f0d0",
   "metadata": {
    "ExecuteTime": {
     "end_time": "2025-05-20T18:07:10.859029Z",
     "start_time": "2025-05-20T18:07:10.845029Z"
    }
   },
   "source": [
    "x_star = alpha \n",
    "r = []\n",
    "\n",
    "for i in range(4):\n",
    "    for k in range(1, iterationValues.shape[1] - 1):\n",
    "        if i == 3 and k > 4:\n",
    "            r.append(np.nan)\n",
    "            continue\n",
    "        vec = iterationValues[i]\n",
    "        eps_vec = np.abs(vec - x_star)\n",
    "        r.append(np.log(eps_vec[k] / eps_vec[k + 1]) / np.log(eps_vec[k - 1] / eps_vec[k]))\n",
    "        \n",
    "r = np.array(r).reshape(4, iterationValues.shape[1] - 2)\n",
    "pd.DataFrame(r.T, columns=['ϕ1', 'ϕ2', 'ϕ3', \"ϕ4\"])"
   ],
   "outputs": [
    {
     "data": {
      "text/plain": [
       "         ϕ1        ϕ2        ϕ3        ϕ4\n",
       "0  1.245021  0.894696  0.771244  1.464974\n",
       "1  1.365183  0.922621  0.899495  1.760374\n",
       "2  1.547766  0.942910  0.952498  1.958580\n",
       "3  1.778874  0.957728  0.976872  1.998598\n",
       "4  1.950815  0.968608  0.988585       NaN\n",
       "5  1.997311  0.976632  0.994329       NaN\n",
       "6  1.999987  0.982574  0.997173       NaN\n",
       "7  2.000000  0.986987  0.998589       NaN\n",
       "8  2.000000  0.990272  0.999295       NaN"
      ],
      "text/html": [
       "<div>\n",
       "<style scoped>\n",
       "    .dataframe tbody tr th:only-of-type {\n",
       "        vertical-align: middle;\n",
       "    }\n",
       "\n",
       "    .dataframe tbody tr th {\n",
       "        vertical-align: top;\n",
       "    }\n",
       "\n",
       "    .dataframe thead th {\n",
       "        text-align: right;\n",
       "    }\n",
       "</style>\n",
       "<table border=\"1\" class=\"dataframe\">\n",
       "  <thead>\n",
       "    <tr style=\"text-align: right;\">\n",
       "      <th></th>\n",
       "      <th>ϕ1</th>\n",
       "      <th>ϕ2</th>\n",
       "      <th>ϕ3</th>\n",
       "      <th>ϕ4</th>\n",
       "    </tr>\n",
       "  </thead>\n",
       "  <tbody>\n",
       "    <tr>\n",
       "      <th>0</th>\n",
       "      <td>1.245021</td>\n",
       "      <td>0.894696</td>\n",
       "      <td>0.771244</td>\n",
       "      <td>1.464974</td>\n",
       "    </tr>\n",
       "    <tr>\n",
       "      <th>1</th>\n",
       "      <td>1.365183</td>\n",
       "      <td>0.922621</td>\n",
       "      <td>0.899495</td>\n",
       "      <td>1.760374</td>\n",
       "    </tr>\n",
       "    <tr>\n",
       "      <th>2</th>\n",
       "      <td>1.547766</td>\n",
       "      <td>0.942910</td>\n",
       "      <td>0.952498</td>\n",
       "      <td>1.958580</td>\n",
       "    </tr>\n",
       "    <tr>\n",
       "      <th>3</th>\n",
       "      <td>1.778874</td>\n",
       "      <td>0.957728</td>\n",
       "      <td>0.976872</td>\n",
       "      <td>1.998598</td>\n",
       "    </tr>\n",
       "    <tr>\n",
       "      <th>4</th>\n",
       "      <td>1.950815</td>\n",
       "      <td>0.968608</td>\n",
       "      <td>0.988585</td>\n",
       "      <td>NaN</td>\n",
       "    </tr>\n",
       "    <tr>\n",
       "      <th>5</th>\n",
       "      <td>1.997311</td>\n",
       "      <td>0.976632</td>\n",
       "      <td>0.994329</td>\n",
       "      <td>NaN</td>\n",
       "    </tr>\n",
       "    <tr>\n",
       "      <th>6</th>\n",
       "      <td>1.999987</td>\n",
       "      <td>0.982574</td>\n",
       "      <td>0.997173</td>\n",
       "      <td>NaN</td>\n",
       "    </tr>\n",
       "    <tr>\n",
       "      <th>7</th>\n",
       "      <td>2.000000</td>\n",
       "      <td>0.986987</td>\n",
       "      <td>0.998589</td>\n",
       "      <td>NaN</td>\n",
       "    </tr>\n",
       "    <tr>\n",
       "      <th>8</th>\n",
       "      <td>2.000000</td>\n",
       "      <td>0.990272</td>\n",
       "      <td>0.999295</td>\n",
       "      <td>NaN</td>\n",
       "    </tr>\n",
       "  </tbody>\n",
       "</table>\n",
       "</div>"
      ]
     },
     "execution_count": 13,
     "metadata": {},
     "output_type": "execute_result"
    }
   ],
   "execution_count": 13
  },
  {
   "cell_type": "markdown",
   "id": "54a49e38e5aabe8f",
   "metadata": {},
   "source": [
    "*Tabela 5. Wartości przybliżające rząd zbieżności schematów iteracyjnych*\n",
    "\n",
    "Dla schematu $ϕ_4$ wyniki od 4 iteracji są równe `NaN`, ponieważ kolejne wartości były bardzo zbliżone, co spowodowało dzielenie przez zero. Dla schematów $ϕ_2$ i $ϕ_3$ otrzymaliśmy liniowy rząd zbieżności, a dla $ϕ_4$ kwadratowy. Dla schematu $ϕ_1$ wynik wskazuje na kwadratowy rząd zbieżności, pomimo tego, że schemat ten nie jest zbieżny.\n",
    "\n",
    "Następnie dla każdej z funkcji $\\phi _i(x)$ obliczyliśmy wartość błędu bezwzględnego. Otrzymane wyniki przedstawiliśmy w postaci wykresu z użyciem skali logarytmicznej na osi y."
   ]
  },
  {
   "cell_type": "code",
   "id": "4d9bf635501885ce",
   "metadata": {
    "ExecuteTime": {
     "end_time": "2025-05-20T18:07:11.049159Z",
     "start_time": "2025-05-20T18:07:11.036157Z"
    }
   },
   "source": [
    "err = []\n",
    "for i in range(4):\n",
    "    for k in range(iterationValues.shape[1]):\n",
    "        err.append((iterationValues[i][k] - x_star) / x_star)\n",
    "        \n",
    "err = np.array(err).reshape(4, iterationValues.shape[1])"
   ],
   "outputs": [],
   "execution_count": 14
  },
  {
   "cell_type": "code",
   "id": "48a2f5429a366876",
   "metadata": {
    "ExecuteTime": {
     "end_time": "2025-05-20T18:07:12.157897Z",
     "start_time": "2025-05-20T18:07:11.272670Z"
    }
   },
   "source": [
    "plt.figure(figsize=(12, 6))\n",
    "plt.title(\"Wykres błędu względnego każdej metody w zależności od numeru iteracji\")\n",
    "\n",
    "labels = ['$ϕ_1$', '$ϕ_2$', '$ϕ_3$', \"$ϕ_4$\"]\n",
    "for i in range(4):\n",
    "    plt.semilogy(range(iterationValues.shape[1]), err[i], label=labels[i])   \n",
    "plt.xlabel('k')\n",
    "plt.ylabel('Błąd bezwzględny')\n",
    "plt.legend()\n",
    "plt.grid(True)\n",
    "plt.show()"
   ],
   "outputs": [
    {
     "data": {
      "text/plain": [
       "<Figure size 1200x600 with 1 Axes>"
      ],
      "image/png": "[encoded data removed]"
     },
     "metadata": {},
     "output_type": "display_data"
    }
   ],
   "execution_count": 15
  },
  {
   "cell_type": "markdown",
   "id": "7d91110e05da4a7c",
   "metadata": {},
   "source": [
    "*Wykres 1. Błąd względny każdej metody w zależności od numeru iteracji*\n",
    "\n",
    "Następnie wykonaliśmy wykres również dla błędu bezwzględnego, ale tylko dla funkcji zbieżnych. Wynik przedstawiliśmy poniżej."
   ]
  },
  {
   "cell_type": "code",
   "id": "8b5d0d90211dead2",
   "metadata": {
    "ExecuteTime": {
     "end_time": "2025-05-20T18:07:12.548082Z",
     "start_time": "2025-05-20T18:07:12.216083Z"
    }
   },
   "source": [
    "plt.figure(figsize=(12, 6))\n",
    "plt.title(\"Wykres błędu względnego zbieżnych metod w zależności od numeru iteracji\")\n",
    "\n",
    "for i in range(1, 4):\n",
    "    plt.semilogy(range(iterationValues.shape[1]), err[i], label=labels[i])   \n",
    "plt.xlabel('k')\n",
    "plt.ylabel('Błąd bezwzględny')\n",
    "plt.legend()\n",
    "plt.grid(True)\n",
    "plt.show()"
   ],
   "outputs": [
    {
     "data": {
      "text/plain": [
       "<Figure size 1200x600 with 1 Axes>"
      ],
      "image/png": "[encoded data removed]"
     },
     "metadata": {},
     "output_type": "display_data"
    }
   ],
   "execution_count": 16
  },
  {
   "cell_type": "markdown",
   "id": "1c58fd57",
   "metadata": {},
   "source": [
    "*Wykres 2. Błąd względny zbieżnych metod w zależności od numeru iteracji*\n",
    "\n",
    "Z pierwszego wykresu można zauważyć, że błąd dla funkcji $\\phi _1(x)$ jest największy, co jest spowodowane tym, że funkcja ta nie jest zbieżna. Potwierdza to nasze wcześniejsze wnioski odnośnie zbieżności tej funkcji. Z drugiego wykresu można wywnioskować, że funkcja $\\phi _4(x)$ daje najlepsze wyniki (posiada najmniejszy błąd), co sprawia, że uwidacznia się fakt, iż funkcja $\\phi _4(x)$ ma rząd zbieżności większy niż liniowy. Funkcje $\\phi _2(x)$ oraz $\\phi _3(x)$ mają podobny rząd zbieżności, jednakże minimalnie lepsze wyniki zwracałą funkcja $\\phi _3(x)$. "
   ]
  },
  {
   "cell_type": "markdown",
   "id": "22c7ab6374dd2c1d",
   "metadata": {},
   "source": [
    "### Zadanie 3\n",
    "W tym zadaniu mieliśmy napisać schematy iteracji wg metody Newtona dla równań nieliniowych: $$ \\begin{aligned}\n",
    "(a) \\quad & x^3 - 2x - 5 = 0 \\\\\n",
    "(b) \\quad & e^{-x} = x \\\\\n",
    "(c) \\quad & x \\sin(x) = 1.\n",
    "\\end{aligned} $$ Następnie trzeba było ustalić ile iteracji należy wykonać, aby osiągnąć 24 i 53-bitową dokładność wyniku, jeśli początkowe przybliżenie pierwiastka $ x_0 $ ma dokładność 4 bitów."
   ]
  },
  {
   "cell_type": "code",
   "id": "4508f6f74ff31c1c",
   "metadata": {
    "collapsed": true,
    "ExecuteTime": {
     "end_time": "2025-05-20T18:07:12.612593Z",
     "start_time": "2025-05-20T18:07:12.594081Z"
    }
   },
   "source": [
    "import numpy as np\n",
    "import pandas as pd"
   ],
   "outputs": [],
   "execution_count": 17
  },
  {
   "cell_type": "markdown",
   "id": "288e0b3b7759a4df",
   "metadata": {},
   "source": [
    "Na początku zdefiniowaliśmy funkcje $f_1(x) = x^3 - 2x - 5$, $f_2(x) = e^{-x} - x$, $f_3(x) = xsin(x) - 1$ oraz ich pochodne. Następnie stworzyliśmy schematy iteracyjne metody Newtona dla każdej z funkcji, zgodnie ze wzorem: $$ x_{k+1} = x_k - \\frac{f(x_k)}{f'(x_k)} $$ Za pomocą tych schematów wyznaczyliśmy najpierw pierwiastki z dokładnością 4 bitów. W celu ustalenia dokładności porównywaliśmy różnicę wartości $x$ w kolejnych iteracjach z $\\epsilon=2^{-4}$:"
   ]
  },
  {
   "cell_type": "code",
   "id": "59380bbdefd8d877",
   "metadata": {
    "ExecuteTime": {
     "end_time": "2025-05-20T18:07:12.647591Z",
     "start_time": "2025-05-20T18:07:12.632594Z"
    }
   },
   "source": [
    "fa = lambda x: x**3 - 2*x - 5\n",
    "dfa = lambda x: 3*x**2 - 2\n",
    "\n",
    "fb = lambda x: np.exp(-x) - x\n",
    "dfb = lambda x: -np.exp(-x) - 1\n",
    "\n",
    "fc = lambda x: x * np.sin(x) - 1\n",
    "dfc = lambda x: np.sin(x) + x * np.cos(x)"
   ],
   "outputs": [],
   "execution_count": 18
  },
  {
   "cell_type": "code",
   "id": "745c116469ff9c86",
   "metadata": {
    "ExecuteTime": {
     "end_time": "2025-05-20T18:07:12.706592Z",
     "start_time": "2025-05-20T18:07:12.692592Z"
    }
   },
   "source": [
    "iter_a = lambda x: x - fa(x) / dfa(x)\n",
    "iter_b = lambda x: x - fb(x) / dfb(x)\n",
    "iter_c = lambda x: x - fc(x) / dfc(x)\n",
    "\n",
    "def solve_iter_with_precision(iter_fun, x0, tolerance=1e-7, max_iter=1000):\n",
    "    x_prev = x0\n",
    "    x_curr = iter_fun(x_prev)\n",
    "    iteration = 1\n",
    "    while abs(x_curr - x_prev) > tolerance and iteration < max_iter:\n",
    "        x_prev = x_curr\n",
    "        x_curr = iter_fun(x_prev)\n",
    "        iteration += 1\n",
    "    return x_curr, iteration\n",
    "\n",
    "solutions4bit = [solve_iter_with_precision(iter_a, np.double(2), np.pow(1/2, 4))[0], \n",
    "    solve_iter_with_precision(iter_b, np.double(0.5), np.pow(1/2, 4))[0],\n",
    "    solve_iter_with_precision(iter_c, np.double(1), np.pow(1/2, 4))[0]]\n",
    "pd.DataFrame(solutions4bit, [\"f1\", \"f2\", \"f3\"], columns=['x0 4bit'])"
   ],
   "outputs": [
    {
     "data": {
      "text/plain": [
       "     x0 4bit\n",
       "f1  2.094568\n",
       "f2  0.567143\n",
       "f3  1.114157"
      ],
      "text/html": [
       "<div>\n",
       "<style scoped>\n",
       "    .dataframe tbody tr th:only-of-type {\n",
       "        vertical-align: middle;\n",
       "    }\n",
       "\n",
       "    .dataframe tbody tr th {\n",
       "        vertical-align: top;\n",
       "    }\n",
       "\n",
       "    .dataframe thead th {\n",
       "        text-align: right;\n",
       "    }\n",
       "</style>\n",
       "<table border=\"1\" class=\"dataframe\">\n",
       "  <thead>\n",
       "    <tr style=\"text-align: right;\">\n",
       "      <th></th>\n",
       "      <th>x0 4bit</th>\n",
       "    </tr>\n",
       "  </thead>\n",
       "  <tbody>\n",
       "    <tr>\n",
       "      <th>f1</th>\n",
       "      <td>2.094568</td>\n",
       "    </tr>\n",
       "    <tr>\n",
       "      <th>f2</th>\n",
       "      <td>0.567143</td>\n",
       "    </tr>\n",
       "    <tr>\n",
       "      <th>f3</th>\n",
       "      <td>1.114157</td>\n",
       "    </tr>\n",
       "  </tbody>\n",
       "</table>\n",
       "</div>"
      ]
     },
     "execution_count": 19,
     "metadata": {},
     "output_type": "execute_result"
    }
   ],
   "execution_count": 19
  },
  {
   "cell_type": "markdown",
   "id": "d075e7d6ab46b81e",
   "metadata": {},
   "source": [
    "*Tabela 6. Miejsca zerowe z 4-bitową dokładnością*\n",
    "\n",
    "Następnie wyznaczyliśmy przybliżenia z 24-bitową dokładnością:"
   ]
  },
  {
   "cell_type": "code",
   "id": "c18d8e17e933ed94",
   "metadata": {
    "ExecuteTime": {
     "end_time": "2025-05-20T18:07:12.802591Z",
     "start_time": "2025-05-20T18:07:12.772592Z"
    }
   },
   "source": [
    "solutions24bit = pd.DataFrame(\n",
    "    [solve_iter_with_precision(iter_a, solutions4bit[0], np.pow(1/2, 24)), \n",
    "    solve_iter_with_precision(iter_b, solutions4bit[1], np.pow(1/2, 24)),\n",
    "    solve_iter_with_precision(iter_c, solutions4bit[2], np.pow(1/2, 24))],\n",
    "    [\"f1\", \"f2\", \"f3\"], columns=['x0 24bit', 'Liczba iteracji']\n",
    ")\n",
    "\n",
    "solutions24bit"
   ],
   "outputs": [
    {
     "data": {
      "text/plain": [
       "    x0 24bit  Liczba iteracji\n",
       "f1  2.094551                2\n",
       "f2  0.567143                2\n",
       "f3  1.114157                1"
      ],
      "text/html": [
       "<div>\n",
       "<style scoped>\n",
       "    .dataframe tbody tr th:only-of-type {\n",
       "        vertical-align: middle;\n",
       "    }\n",
       "\n",
       "    .dataframe tbody tr th {\n",
       "        vertical-align: top;\n",
       "    }\n",
       "\n",
       "    .dataframe thead th {\n",
       "        text-align: right;\n",
       "    }\n",
       "</style>\n",
       "<table border=\"1\" class=\"dataframe\">\n",
       "  <thead>\n",
       "    <tr style=\"text-align: right;\">\n",
       "      <th></th>\n",
       "      <th>x0 24bit</th>\n",
       "      <th>Liczba iteracji</th>\n",
       "    </tr>\n",
       "  </thead>\n",
       "  <tbody>\n",
       "    <tr>\n",
       "      <th>f1</th>\n",
       "      <td>2.094551</td>\n",
       "      <td>2</td>\n",
       "    </tr>\n",
       "    <tr>\n",
       "      <th>f2</th>\n",
       "      <td>0.567143</td>\n",
       "      <td>2</td>\n",
       "    </tr>\n",
       "    <tr>\n",
       "      <th>f3</th>\n",
       "      <td>1.114157</td>\n",
       "      <td>1</td>\n",
       "    </tr>\n",
       "  </tbody>\n",
       "</table>\n",
       "</div>"
      ]
     },
     "execution_count": 20,
     "metadata": {},
     "output_type": "execute_result"
    }
   ],
   "execution_count": 20
  },
  {
   "metadata": {},
   "cell_type": "markdown",
   "source": [
    "*Tabela 7. Miejsca zerowe z 24-bitową dokładnością i liczba iteracji potrzebna do uzyskania ich*\n",
    "\n",
    "Jak widać w zamieszczonej powyżej tabelce, schematy iteracyjne Newtona bardzo szybko otrzymują wynik z wymaganą dokładnością, co pokazuje skuteczność tej metody.\n",
    "\n",
    "Potem wyznaczyliśmy przybliżenia z 53-bitową dokładnością: "
   ],
   "id": "a9518afd47f5bf89"
  },
  {
   "cell_type": "code",
   "id": "8633d42a74b67f0e",
   "metadata": {
    "ExecuteTime": {
     "end_time": "2025-05-20T18:07:12.975591Z",
     "start_time": "2025-05-20T18:07:12.946592Z"
    }
   },
   "source": [
    "solutions53bit = pd.DataFrame(\n",
    "    [solve_iter_with_precision(iter_a, solutions4bit[0], np.pow(1/2, 53)), \n",
    "    solve_iter_with_precision(iter_b, solutions4bit[1], np.pow(1/2, 53)),\n",
    "    solve_iter_with_precision(iter_c, solutions4bit[2], np.pow(1/2, 53))],\n",
    "    [\"f1\", \"f2\", \"f3\"], columns=['x0 53bit', 'Liczba iteracji']\n",
    ")\n",
    "\n",
    "solutions53bit"
   ],
   "outputs": [
    {
     "data": {
      "text/plain": [
       "    x0 53bit  Liczba iteracji\n",
       "f1  2.094551                3\n",
       "f2  0.567143                3\n",
       "f3  1.114157             1000"
      ],
      "text/html": [
       "<div>\n",
       "<style scoped>\n",
       "    .dataframe tbody tr th:only-of-type {\n",
       "        vertical-align: middle;\n",
       "    }\n",
       "\n",
       "    .dataframe tbody tr th {\n",
       "        vertical-align: top;\n",
       "    }\n",
       "\n",
       "    .dataframe thead th {\n",
       "        text-align: right;\n",
       "    }\n",
       "</style>\n",
       "<table border=\"1\" class=\"dataframe\">\n",
       "  <thead>\n",
       "    <tr style=\"text-align: right;\">\n",
       "      <th></th>\n",
       "      <th>x0 53bit</th>\n",
       "      <th>Liczba iteracji</th>\n",
       "    </tr>\n",
       "  </thead>\n",
       "  <tbody>\n",
       "    <tr>\n",
       "      <th>f1</th>\n",
       "      <td>2.094551</td>\n",
       "      <td>3</td>\n",
       "    </tr>\n",
       "    <tr>\n",
       "      <th>f2</th>\n",
       "      <td>0.567143</td>\n",
       "      <td>3</td>\n",
       "    </tr>\n",
       "    <tr>\n",
       "      <th>f3</th>\n",
       "      <td>1.114157</td>\n",
       "      <td>1000</td>\n",
       "    </tr>\n",
       "  </tbody>\n",
       "</table>\n",
       "</div>"
      ]
     },
     "execution_count": 21,
     "metadata": {},
     "output_type": "execute_result"
    }
   ],
   "execution_count": 21
  },
  {
   "cell_type": "markdown",
   "id": "62a75d3faa982291",
   "metadata": {},
   "source": [
    "*Tabela 8. Miejsca zerowe z 53-bitową dokładnością i liczba iteracji potrzebna do uzyskania ich*\n",
    "\n",
    "W tym przypadku liczba iteracji jest wciąż bardzo niska dla funkcji $f_1$ i $f_2$, ale w przypadku $f_3$ nie udało się uzyskać wymaganej dokładności. Funkcja ta prawdopodobnie nie spełnia warunków zbieżności dla metody Newtona.\n",
    "\n",
    "Zgodnie z wytycznymi otrzymanymi podczas konsultacji na zajęciach dodaliśmy teorytyczną analizę liczby iteracji potrzebnej do uzyskania danych dokładności. Metoda Newtona ma kwadratowy rząd zbieżności zatem liczba bitów uzyskanych z iteracji powinna podwajać się z każdą iteracją. Zaczynając z 4-bitowym przybliżeniem pierwiastka, otrzymujemy następujące liczby bitów w kolejnych iterajcach:"
   ]
  },
  {
   "metadata": {
    "ExecuteTime": {
     "end_time": "2025-05-20T18:12:15.725841Z",
     "start_time": "2025-05-20T18:12:15.698843Z"
    }
   },
   "cell_type": "code",
   "source": "pd.DataFrame([4, 8, 16, 32, 64], columns=[\"Liczba bitów\"], index=[\"x0\", \"iteracja 1\", \"iteracja 2\", \"iteracja 3\", \"iteracja 4\"])",
   "id": "d743733dc6462923",
   "outputs": [
    {
     "data": {
      "text/plain": [
       "            Liczba bitów\n",
       "x0                     4\n",
       "iteracja 1             8\n",
       "iteracja 2            16\n",
       "iteracja 3            32\n",
       "iteracja 4            64"
      ],
      "text/html": [
       "<div>\n",
       "<style scoped>\n",
       "    .dataframe tbody tr th:only-of-type {\n",
       "        vertical-align: middle;\n",
       "    }\n",
       "\n",
       "    .dataframe tbody tr th {\n",
       "        vertical-align: top;\n",
       "    }\n",
       "\n",
       "    .dataframe thead th {\n",
       "        text-align: right;\n",
       "    }\n",
       "</style>\n",
       "<table border=\"1\" class=\"dataframe\">\n",
       "  <thead>\n",
       "    <tr style=\"text-align: right;\">\n",
       "      <th></th>\n",
       "      <th>Liczba bitów</th>\n",
       "    </tr>\n",
       "  </thead>\n",
       "  <tbody>\n",
       "    <tr>\n",
       "      <th>x0</th>\n",
       "      <td>4</td>\n",
       "    </tr>\n",
       "    <tr>\n",
       "      <th>iteracja 1</th>\n",
       "      <td>8</td>\n",
       "    </tr>\n",
       "    <tr>\n",
       "      <th>iteracja 2</th>\n",
       "      <td>16</td>\n",
       "    </tr>\n",
       "    <tr>\n",
       "      <th>iteracja 3</th>\n",
       "      <td>32</td>\n",
       "    </tr>\n",
       "    <tr>\n",
       "      <th>iteracja 4</th>\n",
       "      <td>64</td>\n",
       "    </tr>\n",
       "  </tbody>\n",
       "</table>\n",
       "</div>"
      ]
     },
     "execution_count": 33,
     "metadata": {},
     "output_type": "execute_result"
    }
   ],
   "execution_count": 33
  },
  {
   "cell_type": "markdown",
   "id": "6242b19e7e36adb8",
   "metadata": {},
   "source": [
    "*Tabela 9. Teorytyczna liczba bitów w danej iteracji*\n",
    "\n",
    "Dokładność 24-bitową powinniśmy uzyskać po 3 iteracjach, a 53-bitową po 4. Nie zgadza się to z wynikami uzyskanymi eksperymentalnie.\n",
    "\n",
    "### Zadanie 4\n",
    "W tym zadaniu mieliśmy napisać schemat iteracji wg metody Newtona dla układu równań nieliniowych: $$ \\begin{aligned}\n",
    "x_1^2 + x_2^2 &= 1 \\\\\n",
    "x_1^2 - x_2 &= 0.\n",
    "\\end{aligned}$$ Korzystając z podanych wzorów na rozwiązania tego układu równań: $$ \\begin{aligned}\n",
    "x_1 &= \\pm \\sqrt{\\frac{\\sqrt{5}}{2} - \\frac{1}{2}} \\\\\n",
    "x_2 &= \\frac{\\sqrt{5}}{2} - \\frac{1}{2}\n",
    "\\end{aligned} $$ oraz obliczyć błąd względny rozwiązania znalezionego metodą Newtona."
   ]
  },
  {
   "cell_type": "code",
   "id": "ac53ede1c99b8599",
   "metadata": {
    "ExecuteTime": {
     "end_time": "2025-05-20T18:07:13.492833Z",
     "start_time": "2025-05-20T18:07:13.481592Z"
    }
   },
   "source": [
    "from scipy.differentiate import jacobian\n",
    "import numpy as np"
   ],
   "outputs": [],
   "execution_count": 23
  },
  {
   "cell_type": "markdown",
   "id": "d7e2c77c6a667d3e",
   "metadata": {},
   "source": [
    "Najpierw zdefiniowaliśmy funkcje $f_1(x_1, x_2) = x_1^2 + x_2^2 - 1$, $f_2(x_1, x_2)=x_1^2 - x_2$ oraz obliczyliśmy wartości rozwiązań podanych w treści zadania. Nastepnie skorzystaliśmy z Wikipedii, aby znaleźć wzór na wielowymiarowy schemat iteracyjny Newtona: $$ J_{{F}}({x}_n)({x}_{n+1} - {x}_n) = -{F}({x}_n) $$ gdzie ${x}_k$ jest wektorem przybliżającym rozwiązanie $(x_1, x_2)$ w k-tej iteracji, ${F}(x_1, x_2) = (f_1(x_1, x_2), f_2(x_1, x_2))$, $J_{{F}}$ to jakobian funkcji ${F}$. Do wyznaczenia jakobianu wykorzystaliśmy funkcję `scipy.differentiate.jacobian`. Otrzymaliśmy następujące wyniki:"
   ]
  },
  {
   "cell_type": "code",
   "id": "6cd585f04ca09a7",
   "metadata": {
    "ExecuteTime": {
     "end_time": "2025-05-20T18:07:13.963589Z",
     "start_time": "2025-05-20T18:07:13.840592Z"
    }
   },
   "source": [
    "def f1(x):\n",
    "    return x[0]**2 + x[1]**2 - 1\n",
    "def f2(x):\n",
    "    return x[0]**2 - x[1]\n",
    "\n",
    "def F(x):\n",
    "    return np.array([f1(x), f2(x)])\n",
    "\n",
    "def solve_iter_2d(x, max_iterations=100):\n",
    "    for i in range(max_iterations):\n",
    "        fx = F(x)\n",
    "        jx = jacobian(F, x).df\n",
    "        delta_x = np.linalg.solve(jx, -fx)\n",
    "        x = x + delta_x\n",
    "    return x\n",
    "\n",
    "real_x1 = np.sqrt((np.sqrt(5) - 1) / 2)\n",
    "real_x2 = (np.sqrt(5) - 1) / 2\n",
    "real_solution = np.array([real_x1, real_x2])\n",
    "\n",
    "x0 = np.array([1.0, 1.0], dtype=np.double)\n",
    "\n",
    "solution = solve_iter_2d(x0)\n",
    "\n",
    "print(f\"Dokładne rozwiązanie: x1 = {real_solution[0]:.8f}, x2 = {real_solution[1]:.8f}\")\n",
    "print(f\"Rozwiązanie znalezione metodą Newtona: x1 = {solution[0]:.8f}, x2 = {solution[1]:.8f}\")\n",
    "\n",
    "err = np.abs((solution - real_solution) / real_solution)\n",
    "\n",
    "print(f\"Błąd względny dla x1: {err[0]:.8e}\")\n",
    "print(f\"Błąd względny dla x2: {err[1]:.8e}\")"
   ],
   "outputs": [
    {
     "name": "stdout",
     "output_type": "stream",
     "text": [
      "Dokładne rozwiązanie: x1 = 0.78615138, x2 = 0.61803399\n",
      "Rozwiązanie znalezione metodą Newtona: x1 = 0.78615138, x2 = 0.61803399\n",
      "Błąd względny dla x1: 0.00000000e+00\n",
      "Błąd względny dla x2: 1.79637859e-16\n"
     ]
    }
   ],
   "execution_count": 24
  },
  {
   "cell_type": "markdown",
   "id": "4baaae2cc93ddcbf",
   "metadata": {},
   "source": [
    "Rozwiązanie znalezione metodą Newtona dało dokładny wynik dla $x1$ i bardzo zbliżony wynik dla $x2$. Metoda Newtona jest więc skuteczna w przypadku problemów wielowymiarowych.\n",
    "\n",
    "Podsumowując całość labolatorium, metoda Newtona jest bardzo skuteczną metodą rozwiązywania równań nieliniowych. Wymaga ona niewielkiej liczby iteracji i działa też dla przypadków wielowymiarowych. Wadą jest to, że istnieją przypadki, w których metoda zawodzi. Wtedy trzeba użyć innej metody np. bisekcji, lub zmienić punkt startowy."
   ]
  },
  {
   "cell_type": "markdown",
   "id": "668e7081",
   "metadata": {},
   "source": [
    "## Bibliografia\n",
    "\n",
    " - Materiały zamieszczone na platformie Microsoft Teams w zespole $\\textit{MOwNiT 2025}$ w zakładce $\\textit{Materiały z zajęć/lab08/lab8-intro.pdf}$\n",
    " - Metoda Newtona w Wikipedii: https://pl.wikipedia.org/wiki/Metoda_Newtona\n",
    " - Program Geogebra: https://www.geogebra.org/"
   ]
  }
 ],
 "metadata": {
  "kernelspec": {
   "display_name": "base",
   "language": "python",
   "name": "python3"
  },
  "language_info": {
   "codemirror_mode": {
    "name": "ipython",
    "version": 3
   },
   "file_extension": ".py",
   "mimetype": "text/x-python",
   "name": "python",
   "nbconvert_exporter": "python",
   "pygments_lexer": "ipython3",
   "version": "3.12.7"
  }
 },
 "nbformat": 4,
 "nbformat_minor": 5
}
