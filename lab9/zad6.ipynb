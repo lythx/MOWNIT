{
 "cells": [
  {
   "cell_type": "code",
   "id": "initial_id",
   "metadata": {
    "collapsed": true,
    "ExecuteTime": {
     "end_time": "2025-05-19T21:38:22.425461Z",
     "start_time": "2025-05-19T21:38:22.414492Z"
    }
   },
   "source": [
    "import numpy as np\n",
    "import pandas as pd\n",
    "import matplotlib.pyplot as plt"
   ],
   "outputs": [],
   "execution_count": 85
  },
  {
   "metadata": {
    "ExecuteTime": {
     "end_time": "2025-05-19T21:38:22.472461Z",
     "start_time": "2025-05-19T21:38:22.454461Z"
    }
   },
   "cell_type": "code",
   "source": [
    "def get_err_and_order_of_convergence(alpha, h):\n",
    "    dy = lambda t: alpha * np.pow(t, alpha - 1)\n",
    "    y0 = 0\n",
    "    y_exact = lambda t: np.pow(t, alpha)\n",
    "    \n",
    "    t_max = 10\n",
    "    \n",
    "    steps = int(t_max / h)\n",
    "    t_vec = np.linspace(0, t_max, steps + 1)\n",
    "    y_vec = np.zeros(steps + 1)\n",
    "    y_vec[0] = y0\n",
    "    for i in range(steps):\n",
    "        y_vec[i + 1] = y_vec[i] + h * dy(t_vec[i])\n",
    "    y_exact_vec = y_exact(t_vec)\n",
    "    error_vec = np.abs(y_vec - y_exact_vec)\n",
    "    r_vec = np.zeros(error_vec.size - 2)\n",
    "    for i in range(1, steps):\n",
    "        if error_vec[i - 1] == 0 or error_vec[i] == 0 or error_vec[i + 1] == 0:\n",
    "            r_vec[i - 1] = np.nan\n",
    "            continue\n",
    "        denom = np.log(error_vec[i - 1] / error_vec[i])\n",
    "        if denom == 0:\n",
    "            r_vec[i - 1] = np.nan\n",
    "            continue\n",
    "        r_vec[i - 1] = np.log(error_vec[i] / error_vec[i + 1]) / denom\n",
    "    return t_vec, error_vec, r_vec"
   ],
   "id": "18b0d6e3c931e120",
   "outputs": [],
   "execution_count": 86
  },
  {
   "metadata": {
    "ExecuteTime": {
     "end_time": "2025-05-19T21:38:22.800460Z",
     "start_time": "2025-05-19T21:38:22.536460Z"
    }
   },
   "cell_type": "code",
   "source": [
    "alpha_vec = [2.5, 1.5, 1.1]\n",
    "h_vec = [0.2, 0.1, 0.05]\n",
    "\n",
    "for alpha in alpha_vec:\n",
    "    plt.figure(figsize=(12, 6))\n",
    "    plt.title(f\"Wykres dla alpha={alpha}\")\n",
    "    for h in h_vec:\n",
    "        t_vec, error_vec, r_vec = get_err_and_order_of_convergence(alpha, h)\n",
    "        plt.plot(t_vec.resize(error_vec.size), error_vec)\n",
    "        plt.plot(t_vec.resize(r_vec.size), r_vec)\n",
    "    plt.xlabel('k')\n",
    "    plt.ylabel('Błąd bezwzględny')\n",
    "    plt.legend()\n",
    "    plt.grid(True)\n",
    "    plt.show()\n",
    "    \n",
    "\n"
   ],
   "id": "2272c967252aaa8c",
   "outputs": [
    {
     "ename": "ValueError",
     "evalue": "x, y, and format string must not be None",
     "output_type": "error",
     "traceback": [
      "\u001B[1;31m---------------------------------------------------------------------------\u001B[0m",
      "\u001B[1;31mValueError\u001B[0m                                Traceback (most recent call last)",
      "Cell \u001B[1;32mIn[87], line 9\u001B[0m\n\u001B[0;32m      7\u001B[0m \u001B[38;5;28;01mfor\u001B[39;00m h \u001B[38;5;129;01min\u001B[39;00m h_vec:\n\u001B[0;32m      8\u001B[0m     t_vec, error_vec, r_vec \u001B[38;5;241m=\u001B[39m get_err_and_order_of_convergence(alpha, h)\n\u001B[1;32m----> 9\u001B[0m     \u001B[43mplt\u001B[49m\u001B[38;5;241;43m.\u001B[39;49m\u001B[43mplot\u001B[49m\u001B[43m(\u001B[49m\u001B[43mt_vec\u001B[49m\u001B[38;5;241;43m.\u001B[39;49m\u001B[43mresize\u001B[49m\u001B[43m(\u001B[49m\u001B[43merror_vec\u001B[49m\u001B[38;5;241;43m.\u001B[39;49m\u001B[43msize\u001B[49m\u001B[43m)\u001B[49m\u001B[43m,\u001B[49m\u001B[43m \u001B[49m\u001B[43merror_vec\u001B[49m\u001B[43m,\u001B[49m\u001B[43m \u001B[49m\u001B[43mlabel\u001B[49m\u001B[38;5;241;43m=\u001B[39;49m\u001B[38;5;124;43m\"\u001B[39;49m\u001B[38;5;124;43mlol\u001B[39;49m\u001B[38;5;124;43m\"\u001B[39;49m\u001B[43m)\u001B[49m\n\u001B[0;32m     10\u001B[0m     plt\u001B[38;5;241m.\u001B[39mplot(t_vec\u001B[38;5;241m.\u001B[39mresize(r_vec\u001B[38;5;241m.\u001B[39msize), r_vec, label\u001B[38;5;241m=\u001B[39m\u001B[38;5;124m\"\u001B[39m\u001B[38;5;124mlol2\u001B[39m\u001B[38;5;124m\"\u001B[39m)\n\u001B[0;32m     11\u001B[0m plt\u001B[38;5;241m.\u001B[39mxlabel(\u001B[38;5;124m'\u001B[39m\u001B[38;5;124mk\u001B[39m\u001B[38;5;124m'\u001B[39m)\n",
      "File \u001B[1;32m~\\AppData\\Local\\Programs\\Python\\Python310\\lib\\site-packages\\matplotlib\\pyplot.py:3794\u001B[0m, in \u001B[0;36mplot\u001B[1;34m(scalex, scaley, data, *args, **kwargs)\u001B[0m\n\u001B[0;32m   3786\u001B[0m \u001B[38;5;129m@_copy_docstring_and_deprecators\u001B[39m(Axes\u001B[38;5;241m.\u001B[39mplot)\n\u001B[0;32m   3787\u001B[0m \u001B[38;5;28;01mdef\u001B[39;00m \u001B[38;5;21mplot\u001B[39m(\n\u001B[0;32m   3788\u001B[0m     \u001B[38;5;241m*\u001B[39margs: \u001B[38;5;28mfloat\u001B[39m \u001B[38;5;241m|\u001B[39m ArrayLike \u001B[38;5;241m|\u001B[39m \u001B[38;5;28mstr\u001B[39m,\n\u001B[1;32m   (...)\u001B[0m\n\u001B[0;32m   3792\u001B[0m     \u001B[38;5;241m*\u001B[39m\u001B[38;5;241m*\u001B[39mkwargs,\n\u001B[0;32m   3793\u001B[0m ) \u001B[38;5;241m-\u001B[39m\u001B[38;5;241m>\u001B[39m \u001B[38;5;28mlist\u001B[39m[Line2D]:\n\u001B[1;32m-> 3794\u001B[0m     \u001B[38;5;28;01mreturn\u001B[39;00m gca()\u001B[38;5;241m.\u001B[39mplot(\n\u001B[0;32m   3795\u001B[0m         \u001B[38;5;241m*\u001B[39margs,\n\u001B[0;32m   3796\u001B[0m         scalex\u001B[38;5;241m=\u001B[39mscalex,\n\u001B[0;32m   3797\u001B[0m         scaley\u001B[38;5;241m=\u001B[39mscaley,\n\u001B[0;32m   3798\u001B[0m         \u001B[38;5;241m*\u001B[39m\u001B[38;5;241m*\u001B[39m({\u001B[38;5;124m\"\u001B[39m\u001B[38;5;124mdata\u001B[39m\u001B[38;5;124m\"\u001B[39m: data} \u001B[38;5;28;01mif\u001B[39;00m data \u001B[38;5;129;01mis\u001B[39;00m \u001B[38;5;129;01mnot\u001B[39;00m \u001B[38;5;28;01mNone\u001B[39;00m \u001B[38;5;28;01melse\u001B[39;00m {}),\n\u001B[0;32m   3799\u001B[0m         \u001B[38;5;241m*\u001B[39m\u001B[38;5;241m*\u001B[39mkwargs,\n\u001B[0;32m   3800\u001B[0m     )\n",
      "File \u001B[1;32m~\\AppData\\Local\\Programs\\Python\\Python310\\lib\\site-packages\\matplotlib\\axes\\_axes.py:1779\u001B[0m, in \u001B[0;36mAxes.plot\u001B[1;34m(self, scalex, scaley, data, *args, **kwargs)\u001B[0m\n\u001B[0;32m   1536\u001B[0m \u001B[38;5;250m\u001B[39m\u001B[38;5;124;03m\"\"\"\u001B[39;00m\n\u001B[0;32m   1537\u001B[0m \u001B[38;5;124;03mPlot y versus x as lines and/or markers.\u001B[39;00m\n\u001B[0;32m   1538\u001B[0m \n\u001B[1;32m   (...)\u001B[0m\n\u001B[0;32m   1776\u001B[0m \u001B[38;5;124;03m(``'green'``) or hex strings (``'#008000'``).\u001B[39;00m\n\u001B[0;32m   1777\u001B[0m \u001B[38;5;124;03m\"\"\"\u001B[39;00m\n\u001B[0;32m   1778\u001B[0m kwargs \u001B[38;5;241m=\u001B[39m cbook\u001B[38;5;241m.\u001B[39mnormalize_kwargs(kwargs, mlines\u001B[38;5;241m.\u001B[39mLine2D)\n\u001B[1;32m-> 1779\u001B[0m lines \u001B[38;5;241m=\u001B[39m [\u001B[38;5;241m*\u001B[39m\u001B[38;5;28mself\u001B[39m\u001B[38;5;241m.\u001B[39m_get_lines(\u001B[38;5;28mself\u001B[39m, \u001B[38;5;241m*\u001B[39margs, data\u001B[38;5;241m=\u001B[39mdata, \u001B[38;5;241m*\u001B[39m\u001B[38;5;241m*\u001B[39mkwargs)]\n\u001B[0;32m   1780\u001B[0m \u001B[38;5;28;01mfor\u001B[39;00m line \u001B[38;5;129;01min\u001B[39;00m lines:\n\u001B[0;32m   1781\u001B[0m     \u001B[38;5;28mself\u001B[39m\u001B[38;5;241m.\u001B[39madd_line(line)\n",
      "File \u001B[1;32m~\\AppData\\Local\\Programs\\Python\\Python310\\lib\\site-packages\\matplotlib\\axes\\_base.py:296\u001B[0m, in \u001B[0;36m_process_plot_var_args.__call__\u001B[1;34m(self, axes, data, *args, **kwargs)\u001B[0m\n\u001B[0;32m    294\u001B[0m     this \u001B[38;5;241m+\u001B[39m\u001B[38;5;241m=\u001B[39m args[\u001B[38;5;241m0\u001B[39m],\n\u001B[0;32m    295\u001B[0m     args \u001B[38;5;241m=\u001B[39m args[\u001B[38;5;241m1\u001B[39m:]\n\u001B[1;32m--> 296\u001B[0m \u001B[38;5;28;01myield from\u001B[39;00m \u001B[38;5;28;43mself\u001B[39;49m\u001B[38;5;241;43m.\u001B[39;49m\u001B[43m_plot_args\u001B[49m\u001B[43m(\u001B[49m\n\u001B[0;32m    297\u001B[0m \u001B[43m    \u001B[49m\u001B[43maxes\u001B[49m\u001B[43m,\u001B[49m\u001B[43m \u001B[49m\u001B[43mthis\u001B[49m\u001B[43m,\u001B[49m\u001B[43m \u001B[49m\u001B[43mkwargs\u001B[49m\u001B[43m,\u001B[49m\u001B[43m \u001B[49m\u001B[43mambiguous_fmt_datakey\u001B[49m\u001B[38;5;241;43m=\u001B[39;49m\u001B[43mambiguous_fmt_datakey\u001B[49m\u001B[43m)\u001B[49m\n",
      "File \u001B[1;32m~\\AppData\\Local\\Programs\\Python\\Python310\\lib\\site-packages\\matplotlib\\axes\\_base.py:447\u001B[0m, in \u001B[0;36m_process_plot_var_args._plot_args\u001B[1;34m(self, axes, tup, kwargs, return_kwargs, ambiguous_fmt_datakey)\u001B[0m\n\u001B[0;32m    444\u001B[0m \u001B[38;5;66;03m# Don't allow any None value; these would be up-converted to one\u001B[39;00m\n\u001B[0;32m    445\u001B[0m \u001B[38;5;66;03m# element array of None which causes problems downstream.\u001B[39;00m\n\u001B[0;32m    446\u001B[0m \u001B[38;5;28;01mif\u001B[39;00m \u001B[38;5;28many\u001B[39m(v \u001B[38;5;129;01mis\u001B[39;00m \u001B[38;5;28;01mNone\u001B[39;00m \u001B[38;5;28;01mfor\u001B[39;00m v \u001B[38;5;129;01min\u001B[39;00m tup):\n\u001B[1;32m--> 447\u001B[0m     \u001B[38;5;28;01mraise\u001B[39;00m \u001B[38;5;167;01mValueError\u001B[39;00m(\u001B[38;5;124m\"\u001B[39m\u001B[38;5;124mx, y, and format string must not be None\u001B[39m\u001B[38;5;124m\"\u001B[39m)\n\u001B[0;32m    449\u001B[0m kw \u001B[38;5;241m=\u001B[39m {}\n\u001B[0;32m    450\u001B[0m \u001B[38;5;28;01mfor\u001B[39;00m prop_name, val \u001B[38;5;129;01min\u001B[39;00m \u001B[38;5;28mzip\u001B[39m((\u001B[38;5;124m'\u001B[39m\u001B[38;5;124mlinestyle\u001B[39m\u001B[38;5;124m'\u001B[39m, \u001B[38;5;124m'\u001B[39m\u001B[38;5;124mmarker\u001B[39m\u001B[38;5;124m'\u001B[39m, \u001B[38;5;124m'\u001B[39m\u001B[38;5;124mcolor\u001B[39m\u001B[38;5;124m'\u001B[39m),\n\u001B[0;32m    451\u001B[0m                           (linestyle, marker, color)):\n",
      "\u001B[1;31mValueError\u001B[0m: x, y, and format string must not be None"
     ]
    },
    {
     "data": {
      "text/plain": [
       "<Figure size 1200x600 with 1 Axes>"
      ],
      "image/png": "[encoded data removed]"
     },
     "metadata": {},
     "output_type": "display_data"
    }
   ],
   "execution_count": 87
  },
  {
   "metadata": {
    "ExecuteTime": {
     "end_time": "2025-05-19T21:38:22.815460700Z",
     "start_time": "2025-05-19T21:31:13.074637Z"
    }
   },
   "cell_type": "code",
   "source": "",
   "id": "ec3db2760d653da",
   "outputs": [],
   "execution_count": null
  }
 ],
 "metadata": {
  "kernelspec": {
   "display_name": "Python 3",
   "language": "python",
   "name": "python3"
  },
  "language_info": {
   "codemirror_mode": {
    "name": "ipython",
    "version": 2
   },
   "file_extension": ".py",
   "mimetype": "text/x-python",
   "name": "python",
   "nbconvert_exporter": "python",
   "pygments_lexer": "ipython2",
   "version": "2.7.6"
  }
 },
 "nbformat": 4,
 "nbformat_minor": 5
}
