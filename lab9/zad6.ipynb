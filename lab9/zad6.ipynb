{
 "cells": [
  {
   "cell_type": "code",
   "execution_count": null,
   "id": "initial_id",
   "metadata": {
    "collapsed": true
   },
   "outputs": [],
   "source": [
    "import numpy as np\n",
    "import pandas as pd"
   ]
  },
  {
   "metadata": {},
   "cell_type": "code",
   "outputs": [],
   "execution_count": null,
   "source": [
    "dy_alpha = lambda alpha, t: np.pow(alpha * t, alpha - 1)\n",
    "y0 = 0\n",
    "y_solution = lambda alpha, t: np.pow(t, alpha)\n",
    "\n",
    "alpha_vec = [2.5, 1.5, 1.1]\n",
    "h_vec = [0.2, 0.1, 0.05]\n",
    "f = lambda t, y: 0"
   ],
   "id": "18b0d6e3c931e120"
  },
  {
   "metadata": {},
   "cell_type": "code",
   "outputs": [],
   "execution_count": null,
   "source": [
    "def euler_iter(y_n, t_n, h):\n",
    "    return y_n + h * f(t_n, y_n)\n",
    "\n",
    "def euler_solve(y0, t0, h):\n",
    "    y = y0\n",
    "    for i in range(100):\n",
    "        y = euler_iter(y, t0, h)\n",
    "    return y\n"
   ],
   "id": "2272c967252aaa8c"
  },
  {
   "metadata": {},
   "cell_type": "code",
   "outputs": [],
   "execution_count": null,
   "source": [
    "y_i = 0\n",
    "results = []\n",
    "for alpha in alpha_vec:\n",
    "    for h in h_vec:\n",
    "        results.append(euler_solve(y0, y_i, h))\n",
    "\n",
    "results = np.array(results)\n",
    "results = results.reshape(len(alpha_vec), len(h_vec))\n",
    "pd.DataFrame(results, index=[\"a1\", \"a2\", \"a3\", \"a4\"], columns=[\"h1\", \"h2\", \"h3\", \"h4\"])"
   ],
   "id": "ec3db2760d653da"
  }
 ],
 "metadata": {
  "kernelspec": {
   "display_name": "Python 3",
   "language": "python",
   "name": "python3"
  },
  "language_info": {
   "codemirror_mode": {
    "name": "ipython",
    "version": 2
   },
   "file_extension": ".py",
   "mimetype": "text/x-python",
   "name": "python",
   "nbconvert_exporter": "python",
   "pygments_lexer": "ipython2",
   "version": "2.7.6"
  }
 },
 "nbformat": 4,
 "nbformat_minor": 5
}
