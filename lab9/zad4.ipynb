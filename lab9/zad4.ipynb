{
 "cells": [
  {
   "cell_type": "code",
   "id": "initial_id",
   "metadata": {
    "collapsed": true,
    "ExecuteTime": {
     "end_time": "2025-05-20T19:08:48.226395Z",
     "start_time": "2025-05-20T19:08:48.198396Z"
    }
   },
   "source": [
    "import numpy as np\n",
    "\n",
    "dy = lambda t: -5 * t\n",
    "y = lambda t: np.exp(-5 * t)\n",
    "\n",
    "t_max = 0.5\n",
    "y_0 = 1\n",
    "t_0 = 0\n",
    "tol = 0.001\n",
    "y_n_exact = y(t_max)\n",
    "\n",
    "def euler_forward(h):\n",
    "    y_n = y_0\n",
    "    t_n = t_0\n",
    "    while t_n < t_max:\n",
    "        y_n = y_n + h * dy(y_n)\n",
    "        t_n += h\n",
    "    return y_n \n",
    "\n",
    "for n in range(1, 10000):\n",
    "    h = t_max/n\n",
    "    if np.abs(y_n_exact - euler_forward(h)) < tol:\n",
    "        print(f\"Maksymalna dopuszczalna wartość kroku h={h:.5}\")\n",
    "        print(f\"Liczba kroków, które należy wykonać n={n}\")\n",
    "        break"
   ],
   "outputs": [
    {
     "name": "stdout",
     "output_type": "stream",
     "text": [
      "Maksymalna dopuszczalna wartość kroku h=0.001938\n",
      "Liczba kroków, które należy wykonać n=516\n"
     ]
    }
   ],
   "execution_count": 34
  }
 ],
 "metadata": {
  "kernelspec": {
   "display_name": "Python 3",
   "language": "python",
   "name": "python3"
  },
  "language_info": {
   "codemirror_mode": {
    "name": "ipython",
    "version": 2
   },
   "file_extension": ".py",
   "mimetype": "text/x-python",
   "name": "python",
   "nbconvert_exporter": "python",
   "pygments_lexer": "ipython2",
   "version": "2.7.6"
  }
 },
 "nbformat": 4,
 "nbformat_minor": 5
}
