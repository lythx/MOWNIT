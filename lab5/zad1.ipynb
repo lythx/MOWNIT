{
 "cells": [
  {
   "cell_type": "code",
   "execution_count": 1,
   "id": "b2dd1709e7507970",
   "metadata": {
    "ExecuteTime": {
     "end_time": "2025-04-07T18:58:02.968955Z",
     "start_time": "2025-04-07T18:58:02.871957Z"
    }
   },
   "outputs": [],
   "source": [
    "import numpy as np"
   ]
  },
  {
   "cell_type": "code",
   "execution_count": 2,
   "id": "715330fd10e95737",
   "metadata": {
    "ExecuteTime": {
     "end_time": "2025-04-07T18:58:02.983979Z",
     "start_time": "2025-04-07T18:58:02.973957Z"
    }
   },
   "outputs": [],
   "source": [
    "x_vec = np.array([\n",
    "    1900, 1910, 1920, 1930, 1940, 1950, 1960, 1970, 1980\n",
    "], dtype=np.double)\n",
    "y_vec = np.array([\n",
    "    76_212_168,\n",
    "    92_228_496,\n",
    "    106_021_537,\n",
    "    123_202_624,\n",
    "    132_164_569,\n",
    "    151_325_798,\n",
    "    179_323_175,\n",
    "    203_302_031,\n",
    "    226_542_199,\n",
    "], dtype=np.double)"
   ]
  },
  {
   "cell_type": "code",
   "execution_count": 3,
   "id": "bd7dd0bcac4f0006",
   "metadata": {
    "ExecuteTime": {
     "end_time": "2025-04-07T18:58:03.231955Z",
     "start_time": "2025-04-07T18:58:03.217956Z"
    }
   },
   "outputs": [],
   "source": [
    "c_vec = []\n",
    "for m in range(7):\n",
    "    A = np.vander(x_vec, m + 1, increasing = True)\n",
    "    c = np.linalg.solve(A.T @ A, A.T @ y_vec)\n",
    "    c_vec.append(c)"
   ]
  },
  {
   "cell_type": "code",
   "execution_count": 4,
   "id": "8a6e6b41ca27100b",
   "metadata": {
    "ExecuteTime": {
     "end_time": "2025-04-07T18:58:03.262955Z",
     "start_time": "2025-04-07T18:58:03.250958Z"
    }
   },
   "outputs": [
    {
     "name": "stdout",
     "output_type": "stream",
     "text": [
      "Wartości z ekstrapolacji:\n",
      "143369177, m=0\n",
      "235808109, m=1\n",
      "254712944, m=2\n",
      "261439962, m=3\n",
      "263612280, m=4\n",
      "274500666, m=5\n",
      "240280933, m=6\n",
      "Błędy ekstrapolacji:\n",
      "0.4235, m=0\n",
      "0.0519, m=1\n",
      "0.0241, m=2\n",
      "0.0512, m=3\n",
      "0.0599, m=4\n",
      "0.1037, m=5\n",
      "0.0339, m=6\n"
     ]
    }
   ],
   "source": [
    "correct_1990 = 248709873\n",
    "\n",
    "def approx(x, m):\n",
    "    return sum([c_vec[m][i] * x**i for i in range(m + 1)])\n",
    "\n",
    "extrapolated_values = [approx(1990, m) for m in range(7)]\n",
    "\n",
    "print(\"Wartości z ekstrapolacji:\\n\" + '\\n'.join([f'{int(x)}, m={m}' for m, x in enumerate(extrapolated_values)]))\n",
    "print(\"Błędy ekstrapolacji:\\n\" + '\\n'.join([f'{abs(float((x - correct_1990) / correct_1990)):.4f}, m={m}' for m, x in enumerate(extrapolated_values)]))"
   ]
  },
  {
   "cell_type": "code",
   "execution_count": 5,
   "id": "4e81b0c69f5657f3",
   "metadata": {
    "ExecuteTime": {
     "end_time": "2025-04-07T18:58:03.357365Z",
     "start_time": "2025-04-07T18:58:03.348335Z"
    }
   },
   "outputs": [
    {
     "name": "stdout",
     "output_type": "stream",
     "text": [
      "Wartości AICc:\n",
      "321.01, m=0\n",
      "289.06, m=1\n",
      "279.45, m=2\n",
      "284.88, m=3\n",
      "297.93, m=4\n",
      "326.84, m=5\n",
      "387.01, m=6\n"
     ]
    }
   ],
   "source": [
    "aic_c_vec = []\n",
    "n = len(x_vec)\n",
    "for m in range(7):\n",
    "    k = m + 1\n",
    "    s = sum([(y - approx(x, m))**2 for (x, y) in zip(x_vec, y_vec)])\n",
    "    aic = 2 * k + n * np.log(s / n)\n",
    "    aic_c = aic + (2 * k * (k + 1)) / (n - k - 1)\n",
    "    aic_c_vec.append(aic_c)\n",
    "\n",
    "print(\"Wartości AICc:\\n\" + '\\n'.join([f'{float(x):.2f}, m={m}' for m, x in enumerate(aic_c_vec)]))"
   ]
  }
 ],
 "metadata": {
  "kernelspec": {
   "display_name": "base",
   "language": "python",
   "name": "python3"
  },
  "language_info": {
   "codemirror_mode": {
    "name": "ipython",
    "version": 3
   },
   "file_extension": ".py",
   "mimetype": "text/x-python",
   "name": "python",
   "nbconvert_exporter": "python",
   "pygments_lexer": "ipython3",
   "version": "3.12.7"
  }
 },
 "nbformat": 5,
 "nbformat_minor": 9
}
