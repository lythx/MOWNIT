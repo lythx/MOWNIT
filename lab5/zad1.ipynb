{
 "cells": [
  {
   "metadata": {
    "ExecuteTime": {
     "end_time": "2025-04-02T08:46:13.257969Z",
     "start_time": "2025-04-02T08:46:13.245510Z"
    }
   },
   "cell_type": "code",
   "source": "import numpy as np",
   "id": "b2dd1709e7507970",
   "outputs": [],
   "execution_count": 84
  },
  {
   "metadata": {
    "ExecuteTime": {
     "end_time": "2025-04-02T08:46:13.299146Z",
     "start_time": "2025-04-02T08:46:13.282312Z"
    }
   },
   "cell_type": "code",
   "source": [
    "x_vec = np.array([\n",
    "    1900, 1910, 1920, 1930, 1940, 1950, 1960, 1970, 1980\n",
    "], dtype=np.double)\n",
    "y_vec = np.array([\n",
    "    76_212_168,\n",
    "    92_228_496,\n",
    "    106_021_537,\n",
    "    123_202_624,\n",
    "    132_164_569,\n",
    "    151_325_798,\n",
    "    179_323_175,\n",
    "    203_302_031,\n",
    "    226_542_199,\n",
    "], dtype=np.double)"
   ],
   "id": "715330fd10e95737",
   "outputs": [],
   "execution_count": 85
  },
  {
   "metadata": {
    "ExecuteTime": {
     "end_time": "2025-04-02T08:46:13.373449Z",
     "start_time": "2025-04-02T08:46:13.355622Z"
    }
   },
   "cell_type": "code",
   "source": [
    "c_vec = []\n",
    "for m in range(7):\n",
    "    A = np.vander(x_vec, m + 1, increasing = True)\n",
    "    c = np.linalg.solve(A.T @ A, A.T @ y_vec)\n",
    "    c_vec.append(c)"
   ],
   "id": "bd7dd0bcac4f0006",
   "outputs": [],
   "execution_count": 86
  },
  {
   "metadata": {
    "ExecuteTime": {
     "end_time": "2025-04-02T08:46:13.450907Z",
     "start_time": "2025-04-02T08:46:13.422643Z"
    }
   },
   "cell_type": "code",
   "source": [
    "correct_1990 = 248709873\n",
    "\n",
    "def approx(x, m):\n",
    "    return sum([c_vec[m][i] * x**i for i in range(m + 1)])\n",
    "\n",
    "extrapolated_values = [approx(1990, m) for m in range(7)]\n",
    "\n",
    "print(\"Wartości z ekstrapolacji:\\n\", '\\n'.join([f'{int(x)}, m={m}' for m, x in enumerate(extrapolated_values)]))\n",
    "print(\"Błędy ekstrapolacji:\\n\", '\\n'.join([f'{abs(float((x - correct_1990) / correct_1990)):.4f}, m={m}' for m, x in enumerate(extrapolated_values)]))"
   ],
   "id": "8a6e6b41ca27100b",
   "outputs": [
    {
     "name": "stdout",
     "output_type": "stream",
     "text": [
      "Wartości z ekstrapolacji:\n",
      " 143369177, m=0\n",
      "235808109, m=1\n",
      "254712944, m=2\n",
      "261439111, m=3\n",
      "251719359, m=4\n",
      "259115341, m=5\n",
      "249510781, m=6\n",
      "Błędy ekstrapolacji:\n",
      " 0.4235, m=0\n",
      "0.0519, m=1\n",
      "0.0241, m=2\n",
      "0.0512, m=3\n",
      "0.0121, m=4\n",
      "0.0418, m=5\n",
      "0.0032, m=6\n"
     ]
    }
   ],
   "execution_count": 87
  },
  {
   "metadata": {
    "ExecuteTime": {
     "end_time": "2025-04-02T08:46:13.596592Z",
     "start_time": "2025-04-02T08:46:13.572474Z"
    }
   },
   "cell_type": "code",
   "source": [
    "aic_c_vec = []\n",
    "n = len(x_vec)\n",
    "for m in range(7):\n",
    "    k = m + 1\n",
    "    s = sum([(y - approx(x, m))**2 for (x, y) in zip(x_vec, y_vec)])\n",
    "    aic = 2 * k + n * np.log(s / n)\n",
    "    aic_c = aic + (2 * k * (k + 1)) / (n - k - 1)\n",
    "    aic_c_vec.append(aic_c)\n",
    "\n",
    "print(\"Wartości AICc:\\n\", '\\n'.join([f'{float(x):.2f}, m={m}' for m, x in enumerate(aic_c_vec)]))"
   ],
   "id": "4e81b0c69f5657f3",
   "outputs": [
    {
     "name": "stdout",
     "output_type": "stream",
     "text": [
      "Wartości AICc:\n",
      " 321.01, m=0\n",
      "289.06, m=1\n",
      "279.45, m=2\n",
      "284.88, m=3\n",
      "292.67, m=4\n",
      "319.83, m=5\n",
      "387.93, m=6\n"
     ]
    }
   ],
   "execution_count": 88
  }
 ],
 "metadata": {
  "kernelspec": {
   "name": "python3",
   "language": "python",
   "display_name": "Python 3 (ipykernel)"
  }
 },
 "nbformat": 5,
 "nbformat_minor": 9
}
