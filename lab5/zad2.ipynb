{
 "cells": [
  {
   "metadata": {
    "ExecuteTime": {
     "end_time": "2025-04-02T09:13:50.260014Z",
     "start_time": "2025-04-02T09:13:50.248062Z"
    }
   },
   "cell_type": "code",
   "source": [
    "import numpy as np\n",
    "import matplotlib.pyplot as plt\n",
    "from scipy import integrate"
   ],
   "id": "aef12172fd4f5784",
   "outputs": [],
   "execution_count": 11
  },
  {
   "metadata": {
    "ExecuteTime": {
     "end_time": "2025-04-02T09:13:50.297646Z",
     "start_time": "2025-04-02T09:13:50.285045Z"
    }
   },
   "cell_type": "code",
   "source": [
    "f = lambda x: np.sqrt(x)\n",
    "domain = (0, 2)\n",
    "m = 2\n",
    "T = lambda k, x: np.cos(k * np.arccos(x))\n",
    "w = lambda t: (1 - t**2)**(-1 / 2)\n",
    "TjTj = lambda j: np.pi if j == 0 else np.pi / 2"
   ],
   "id": "2850905b7dcdd03c",
   "outputs": [],
   "execution_count": 12
  },
  {
   "metadata": {
    "ExecuteTime": {
     "end_time": "2025-04-02T09:13:50.760705Z",
     "start_time": "2025-04-02T09:13:50.331761Z"
    }
   },
   "cell_type": "code",
   "source": [
    "c_vec = [integrate.quad(lambda x: w(x) * f(x) * T(j, x), 0.00001, 2) / TjTj(j) for j in range(m + 1)]\n",
    "c_vec"
   ],
   "id": "e454e76215dc91f8",
   "outputs": [
    {
     "name": "stderr",
     "output_type": "stream",
     "text": [
      "C:\\Users\\Szymon\\AppData\\Local\\Temp\\ipykernel_22700\\921848904.py:4: RuntimeWarning: invalid value encountered in arccos\n",
      "  T = lambda k, x: np.cos(k * np.arccos(x))\n"
     ]
    },
    {
     "ename": "TypeError",
     "evalue": "must be real number, not complex",
     "output_type": "error",
     "traceback": [
      "\u001B[31m---------------------------------------------------------------------------\u001B[39m",
      "\u001B[31mTypeError\u001B[39m                                 Traceback (most recent call last)",
      "\u001B[36mCell\u001B[39m\u001B[36m \u001B[39m\u001B[32mIn[13]\u001B[39m\u001B[32m, line 1\u001B[39m\n\u001B[32m----> \u001B[39m\u001B[32m1\u001B[39m c_vec = [\u001B[43mintegrate\u001B[49m\u001B[43m.\u001B[49m\u001B[43mquad\u001B[49m\u001B[43m(\u001B[49m\u001B[38;5;28;43;01mlambda\u001B[39;49;00m\u001B[43m \u001B[49m\u001B[43mx\u001B[49m\u001B[43m:\u001B[49m\u001B[43m \u001B[49m\u001B[43mw\u001B[49m\u001B[43m(\u001B[49m\u001B[43mx\u001B[49m\u001B[43m)\u001B[49m\u001B[43m \u001B[49m\u001B[43m*\u001B[49m\u001B[43m \u001B[49m\u001B[43mf\u001B[49m\u001B[43m(\u001B[49m\u001B[43mx\u001B[49m\u001B[43m)\u001B[49m\u001B[43m \u001B[49m\u001B[43m*\u001B[49m\u001B[43m \u001B[49m\u001B[43mT\u001B[49m\u001B[43m(\u001B[49m\u001B[43mj\u001B[49m\u001B[43m,\u001B[49m\u001B[43m \u001B[49m\u001B[43mx\u001B[49m\u001B[43m)\u001B[49m\u001B[43m,\u001B[49m\u001B[43m \u001B[49m\u001B[32;43m0.00001\u001B[39;49m\u001B[43m,\u001B[49m\u001B[43m \u001B[49m\u001B[32;43m2\u001B[39;49m\u001B[43m)\u001B[49m / TjTj(j) \u001B[38;5;28;01mfor\u001B[39;00m j \u001B[38;5;129;01min\u001B[39;00m \u001B[38;5;28mrange\u001B[39m(m + \u001B[32m1\u001B[39m)]\n\u001B[32m      2\u001B[39m c_vec\n",
      "\u001B[36mFile \u001B[39m\u001B[32mC:\\agh\\MOWNIT\\.venv\\Lib\\site-packages\\scipy\\integrate\\_quadpack_py.py:459\u001B[39m, in \u001B[36mquad\u001B[39m\u001B[34m(func, a, b, args, full_output, epsabs, epsrel, limit, points, weight, wvar, wopts, maxp1, limlst, complex_func)\u001B[39m\n\u001B[32m    456\u001B[39m     \u001B[38;5;28;01mreturn\u001B[39;00m retval\n\u001B[32m    458\u001B[39m \u001B[38;5;28;01mif\u001B[39;00m weight \u001B[38;5;129;01mis\u001B[39;00m \u001B[38;5;28;01mNone\u001B[39;00m:\n\u001B[32m--> \u001B[39m\u001B[32m459\u001B[39m     retval = \u001B[43m_quad\u001B[49m\u001B[43m(\u001B[49m\u001B[43mfunc\u001B[49m\u001B[43m,\u001B[49m\u001B[43m \u001B[49m\u001B[43ma\u001B[49m\u001B[43m,\u001B[49m\u001B[43m \u001B[49m\u001B[43mb\u001B[49m\u001B[43m,\u001B[49m\u001B[43m \u001B[49m\u001B[43margs\u001B[49m\u001B[43m,\u001B[49m\u001B[43m \u001B[49m\u001B[43mfull_output\u001B[49m\u001B[43m,\u001B[49m\u001B[43m \u001B[49m\u001B[43mepsabs\u001B[49m\u001B[43m,\u001B[49m\u001B[43m \u001B[49m\u001B[43mepsrel\u001B[49m\u001B[43m,\u001B[49m\u001B[43m \u001B[49m\u001B[43mlimit\u001B[49m\u001B[43m,\u001B[49m\n\u001B[32m    460\u001B[39m \u001B[43m                   \u001B[49m\u001B[43mpoints\u001B[49m\u001B[43m)\u001B[49m\n\u001B[32m    461\u001B[39m \u001B[38;5;28;01melse\u001B[39;00m:\n\u001B[32m    462\u001B[39m     \u001B[38;5;28;01mif\u001B[39;00m points \u001B[38;5;129;01mis\u001B[39;00m \u001B[38;5;129;01mnot\u001B[39;00m \u001B[38;5;28;01mNone\u001B[39;00m:\n",
      "\u001B[36mFile \u001B[39m\u001B[32mC:\\agh\\MOWNIT\\.venv\\Lib\\site-packages\\scipy\\integrate\\_quadpack_py.py:606\u001B[39m, in \u001B[36m_quad\u001B[39m\u001B[34m(func, a, b, args, full_output, epsabs, epsrel, limit, points)\u001B[39m\n\u001B[32m    604\u001B[39m \u001B[38;5;28;01mif\u001B[39;00m points \u001B[38;5;129;01mis\u001B[39;00m \u001B[38;5;28;01mNone\u001B[39;00m:\n\u001B[32m    605\u001B[39m     \u001B[38;5;28;01mif\u001B[39;00m infbounds == \u001B[32m0\u001B[39m:\n\u001B[32m--> \u001B[39m\u001B[32m606\u001B[39m         \u001B[38;5;28;01mreturn\u001B[39;00m \u001B[43m_quadpack\u001B[49m\u001B[43m.\u001B[49m\u001B[43m_qagse\u001B[49m\u001B[43m(\u001B[49m\u001B[43mfunc\u001B[49m\u001B[43m,\u001B[49m\u001B[43ma\u001B[49m\u001B[43m,\u001B[49m\u001B[43mb\u001B[49m\u001B[43m,\u001B[49m\u001B[43margs\u001B[49m\u001B[43m,\u001B[49m\u001B[43mfull_output\u001B[49m\u001B[43m,\u001B[49m\u001B[43mepsabs\u001B[49m\u001B[43m,\u001B[49m\u001B[43mepsrel\u001B[49m\u001B[43m,\u001B[49m\u001B[43mlimit\u001B[49m\u001B[43m)\u001B[49m\n\u001B[32m    607\u001B[39m     \u001B[38;5;28;01melse\u001B[39;00m:\n\u001B[32m    608\u001B[39m         \u001B[38;5;28;01mreturn\u001B[39;00m _quadpack._qagie(func, bound, infbounds, args, full_output, \n\u001B[32m    609\u001B[39m                                 epsabs, epsrel, limit)\n",
      "\u001B[31mTypeError\u001B[39m: must be real number, not complex"
     ]
    }
   ],
   "execution_count": 13
  }
 ],
 "metadata": {
  "kernelspec": {
   "name": "python3",
   "language": "python",
   "display_name": "Python 3 (ipykernel)"
  }
 },
 "nbformat": 5,
 "nbformat_minor": 9
}
