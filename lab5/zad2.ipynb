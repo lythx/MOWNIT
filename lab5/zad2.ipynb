{
 "cells": [
  {
   "metadata": {},
   "cell_type": "code",
   "source": [
    "import numpy as np\n",
    "import matplotlib.pyplot as plt\n",
    "from scipy import integrate"
   ],
   "id": "aef12172fd4f5784",
   "outputs": [],
   "execution_count": null
  },
  {
   "metadata": {},
   "cell_type": "code",
   "source": [
    "f = lambda x: np.sqrt(x)\n",
    "domain = (0, 2)\n",
    "m = 2\n",
    "T = lambda k, x: (1, x, 2 * x**2 - 1)[k]\n",
    "w = lambda t: (1 - t**2)**(-1 / 2)\n",
    "TjTj = lambda j: np.pi if j == 0 else np.pi / 2"
   ],
   "id": "2850905b7dcdd03c",
   "outputs": [],
   "execution_count": null
  },
  {
   "metadata": {},
   "cell_type": "markdown",
   "source": "",
   "id": "ceb388350ac75d54"
  },
  {
   "metadata": {},
   "cell_type": "code",
   "source": [
    "c_vec = [integrate.quad(lambda x: w(x - 1) * f(x) * T(j, x - 1), 0, 2)[0] / TjTj(j) for j in range(m + 1)]\n",
    "p = lambda x: np.sum([c_vec[k] * T(k, x - 1) for k in range(m + 1)])"
   ],
   "id": "e454e76215dc91f8",
   "outputs": [],
   "execution_count": null
  },
  {
   "metadata": {},
   "cell_type": "code",
   "source": [
    "xs = np.linspace(0, 2, 100)\n",
    "\n",
    "plt.figure(figsize=(12, 6))\n",
    "\n",
    "plt.plot(xs, f(xs), label='f(x)')\n",
    "plt.plot(xs, [p(x) for x in xs], label='Aproksymacja wielomianem 2 stopnia')\n",
    "\n",
    "plt.xlabel('x')\n",
    "plt.ylabel('y')\n",
    "plt.title('Wykres funkcji f(x) i jej aproksymacji')\n",
    "plt.legend()\n",
    "plt.grid(True)\n",
    "plt.show()"
   ],
   "id": "487f541cc4267c8d",
   "outputs": [],
   "execution_count": null
  }
 ],
 "metadata": {
  "kernelspec": {
   "name": "python3",
   "language": "python",
   "display_name": "Python 3 (ipykernel)"
  }
 },
 "nbformat": 5,
 "nbformat_minor": 9
}
