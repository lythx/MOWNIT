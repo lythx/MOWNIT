{
 "cells": [
  {
   "cell_type": "code",
   "execution_count": null,
   "id": "initial_id",
   "metadata": {
    "collapsed": true
   },
   "outputs": [],
   "source": ""
  },
  {
   "metadata": {},
   "cell_type": "markdown",
   "source": [
    "# Laboratorium 10 - Równania różniczkowe część II\n",
    "## Błażej Naziemiec i Szymon Żuk\n",
    "### 4 czerwca 2025\n",
    "## Wstęp\n",
    "W ramach tego laboratorium będziemy kontynuować równania różniczkowe, ale tym razem skupimy się na ich zastosowaniu numerycznym. W tym celu wykorzystując model Lotki-Vollery oraz różne metody rozwiązywania równań różniczkowych przeprowadzimy symulację układu oraz sprawdzimy dodatkowe rzeczy, takie jak niezmiennik i portret fazowy. Potem na podstawie przykładowych danych oszacujemy wartości parametrów modelu."
   ],
   "id": "e80b3b9c0a5e3806"
  },
  {
   "metadata": {},
   "cell_type": "code",
   "outputs": [],
   "execution_count": null,
   "source": [
    "import numpy as np\n",
    "from matplotlib import pyplot as plt\n",
    "import pandas as pd\n",
    "from scipy.optimize import minimize, fsolve"
   ],
   "id": "279702a3757d2f13"
  },
  {
   "metadata": {},
   "cell_type": "markdown",
   "source": [
    "## Zadanie 1\n",
    "$a)$\n",
    "Na początku otrzymaliśmy wzór z modelu Lotki-Vollery, który wygląda następująco:\n",
    "$$\n",
    "x` = x(\\alpha_1 - \\beta_1 y)\n",
    "$$\n",
    "$$\n",
    "y` = y(-\\alpha_2+ \\beta_2x)\n",
    "$$"
   ],
   "id": "95610ac6f95160f4"
  },
  {
   "metadata": {},
   "cell_type": "markdown",
   "source": [
    "Następnie przekształciliśmy równania do postaci, w których można było użyć poszczególnych wariantów metody Eulera. Dla jawnej metody Eulera otrzymaliśmy\n",
    "$$x_{k+1} = x_k + h \\cdot x_k (\\alpha_1 - \\beta_1 y_k)$$\n",
    "$$y_{k+1} = y_k + h \\cdot y_k (-\\alpha_2 + \\beta_2 x_k)$$\n",
    "Dla niejawnej metody Eulera użyliśmy funkcji `scipy.optimize.fsolve`\n",
    "\n",
    "Dla półjawnej metody Eulera\n",
    "$$x_{k+1} = \\frac{x_k}{1 + h \\cdot (-\\alpha_1 + \\beta_1 y_k)}$$\n",
    "$$y_{k+1} = y_k + h \\cdot y_k (-\\alpha_2 + \\beta_2 x_{k+1})$$"
   ],
   "id": "863349fea800dd05"
  },
  {
   "metadata": {},
   "cell_type": "code",
   "outputs": [],
   "execution_count": null,
   "source": [
    "x0 = 20\n",
    "y0 = 20\n",
    "alpha1 = 1\n",
    "beta1 = 0.1\n",
    "alpha2 = 0.5\n",
    "beta2 = 0.02\n",
    "t0 = 0\n",
    "tmax = 80\n",
    "n = 8000\n",
    "h = (tmax - t0) / n\n",
    "\n",
    "def dx(x, y):\n",
    "    return x * (alpha1 - beta1 * y)\n",
    "\n",
    "def dy(x, y):\n",
    "    return y * (-alpha2 + beta2 * x)\n",
    "\n",
    "def calc_H(x, y):\n",
    "    if x <= 0 or y <= 0:\n",
    "        return np.nan\n",
    "    return beta2 * x + beta1 * y - alpha2 * np.log(x) - alpha1 * np.log(y)\n",
    "\n",
    "def init_vars():\n",
    "    nsteps = int((tmax - t0) / h)\n",
    "    t = np.linspace(t0, tmax, nsteps + 1)\n",
    "    x = np.zeros(nsteps + 1)\n",
    "    x[0] = x0\n",
    "    y = np.zeros(nsteps + 1)\n",
    "    y[0] = y0\n",
    "    H = np.zeros(nsteps + 1)\n",
    "    H[0] = calc_H(x0, y0)\n",
    "    return t, x, y, H"
   ],
   "id": "3c83c0e2d39ea30c"
  },
  {
   "metadata": {},
   "cell_type": "markdown",
   "source": [
    "Następnie, używając wyznaczonych wzorów, zaimplementowaliśmy te metody w Pythonie. Potem zaimplementowaliśmy metodę Rungego-Kutty 4-go rzędu\n",
    "$$y_{k+1} = y_k + \\frac{h_k}{6}(k_1 + 2k_2 + 2k_3 + k_4)$$\n",
    "$$k_1 = f(t_k, y_k)$$\n",
    "$$k_2 = f(t_k + h_k k_1/2, y_k + h_k k_1/2)$$\n",
    "$$k_3 = f(t_k + h_k k_2/2, y_k + h_k k_2/2)$$\n",
    "$$k_4 = f(t_k + h_k k_3, y_k + h_k k_3)$$\n",
    "Przyjęliśmy $f=x'$ dla x-ów i $f=y'$ dla y-ów.\n",
    "\n",
    "Otrzymane rozwiązania układu równań uzyskane różnymi metodami nanieśliśmy na wspólny wykres."
   ],
   "id": "e9e8b92c73bf1378"
  },
  {
   "metadata": {},
   "cell_type": "code",
   "outputs": [],
   "execution_count": null,
   "source": [
    "def euler_explicit():\n",
    "    t, x, y, H = init_vars()\n",
    "    for k in range(len(t) - 1):\n",
    "        x[k + 1] = x[k] + h * x[k] * (alpha1 - beta1 * y[k])\n",
    "        y[k + 1] = y[k] + h * y[k] * (-alpha2 + beta2 * x[k])\n",
    "        H[k + 1] = calc_H(x[k + 1], y[k + 1])\n",
    "    return t, x, y, H\n",
    "\n",
    "def euler_implicit():\n",
    "    t, x, y, H = init_vars()\n",
    "    \n",
    "    def lotka_volterra_f(x_val, y_val):\n",
    "        return np.array([dx(x_val, y_val), dy(x_val, y_val)])\n",
    "        \n",
    "    for k in range(len(t) - 1):\n",
    "        def equations_to_solve(p):\n",
    "            X_next, Y_next = p\n",
    "            f_vals = lotka_volterra_f(X_next, Y_next)\n",
    "            return [X_next - x[k] - h * f_vals[0],\n",
    "                    Y_next - y[k] - h * f_vals[1]]\n",
    "\n",
    "        initial_guess = [x[k], y[k]] \n",
    "        \n",
    "        solution = fsolve(equations_to_solve, initial_guess)\n",
    "        x[k + 1], y[k + 1] = solution[0], solution[1]\n",
    "\n",
    "        if x[k+1] < 0: x[k+1] = 1e-9\n",
    "        if y[k+1] < 0: y[k+1] = 1e-9\n",
    "\n",
    "        H[k + 1] = calc_H(x[k + 1], y[k + 1])\n",
    "    return t, x, y, H\n",
    "\n",
    "def euler_half_explicit():\n",
    "    t, x, y, H = init_vars()\n",
    "    for k in range(len(t) - 1):\n",
    "        x[k + 1] = x[k] / (1 + h * (-alpha1 + beta1 * y[k]))\n",
    "        y[k + 1] = y[k] + h * y[k] * (-alpha2 + beta2 * x[k + 1])\n",
    "        H[k + 1] = calc_H(x[k + 1], y[k + 1])\n",
    "    return t, x, y, H\n",
    "\n",
    "def runge_kutta_4():\n",
    "    t, x, y, H = init_vars()\n",
    "    for k in range(len(t) - 1):\n",
    "        kx1 = dx(x[k], y[k])\n",
    "        ky1 = dy(x[k], y[k])\n",
    "        \n",
    "        kx2 = dx(x[k] + h * kx1 / 2, y[k] + h * ky1 / 2)\n",
    "        ky2 = dy(x[k] + h * kx1 / 2, y[k] + h * ky1 / 2)\n",
    "        \n",
    "        kx3 = dx(x[k] + h * kx2 / 2, y[k] + h * ky2 / 2)\n",
    "        ky3 = dy(x[k] + h * kx2 / 2, y[k] + h * ky2 / 2)\n",
    "        \n",
    "        kx4 = dx(x[k] + h * kx3, y[k] + h * ky3)\n",
    "        ky4 = dy(x[k] + h * kx3, y[k] + h * ky3)\n",
    "        \n",
    "        x[k + 1] = x[k] + (h / 6) * (kx1 + 2 * kx2 + 2 * kx3 + kx4)\n",
    "        y[k + 1] = y[k] + (h / 6) * (ky1 + 2 * ky2 + 2 * ky3 + ky4)\n",
    "\n",
    "        H[k + 1] = calc_H(x[k + 1], y[k + 1])\n",
    "    return t, x, y, H"
   ],
   "id": "ae01ae2f65efb6e0"
  },
  {
   "metadata": {},
   "cell_type": "code",
   "outputs": [],
   "execution_count": null,
   "source": [
    "def plot(function, label_x, label_y, color=None, victims=False):\n",
    "    t_vec, x_vec, y_vec, _ = function()\n",
    "    if not victims: plt.plot(t_vec, x_vec, label=label_x, color=color)\n",
    "    if victims: plt.plot(t_vec, y_vec, label=label_y, color=color)\n"
   ],
   "id": "c0a9bab9e10e979d"
  },
  {
   "metadata": {},
   "cell_type": "code",
   "outputs": [],
   "execution_count": null,
   "source": [
    "print(euler_half_explicit()[1])\n",
    "\n",
    "plt.figure(figsize=(12, 6))\n",
    "plt.title(\"Wykresy liczebności populacji dla poszczególnych metod\")\n",
    "plot(euler_explicit, \"Populacja ofiar, jawna metoda Eulera\", \"Populacja drapieżców, jawna metoda Eulera\")\n",
    "plot(euler_implicit, \"Populacja ofiar, niejawna metoda Eulera\", \"Populacja drapieżców, niejawna metoda Eulera\")\n",
    "plot(euler_half_explicit, \"Populacja ofiar, półjawna metoda Eulera\", \"Populacja drapieżców, półjawna metoda Eulera\")\n",
    "plot(runge_kutta_4, \"Populacja ofiar, metoda RK4\", \"Populacja drapieżców, metoda RK4\")\n",
    "plt.xlabel('Czas')\n",
    "plt.ylabel('Liczebność Populacji')\n",
    "plt.legend()\n",
    "plt.grid(True)\n",
    "plt.show()"
   ],
   "id": "881a40b75bf0f4b2"
  },
  {
   "metadata": {},
   "cell_type": "markdown",
   "source": "*Wykres 1. Liczebności populacji ofiar dla poszczególnych metod rozwiązywania równań w zależności od czasu*",
   "id": "8ef2f761ff0c7202"
  },
  {
   "metadata": {},
   "cell_type": "code",
   "outputs": [],
   "execution_count": null,
   "source": [
    "plt.figure(figsize=(12, 6))\n",
    "plt.title(\"Wykresy liczebności populacji dla poszczególnych metod\")\n",
    "plot(euler_explicit, \"Populacja ofiar, jawna metoda Eulera\", \"Populacja drapieżców, jawna metoda Eulera\", victims=True)\n",
    "plot(euler_implicit, \"Populacja ofiar, niejawna metoda Eulera\", \"Populacja drapieżców, niejawna metoda Eulera\", victims=True)\n",
    "plot(euler_half_explicit, \"Populacja ofiar, półjawna metoda Eulera\", \"Populacja drapieżców, półjawna metoda Eulera\", victims=True)\n",
    "plot(runge_kutta_4, \"Populacja ofiar, metoda RK4\", \"Populacja drapieżców, metoda RK4\", victims=True)\n",
    "plt.xlabel('Czas')\n",
    "plt.ylabel('Liczebność Populacji')\n",
    "plt.legend()\n",
    "plt.grid(True)\n",
    "plt.show()"
   ],
   "id": "5ecbb932ea79542c"
  },
  {
   "metadata": {},
   "cell_type": "markdown",
   "source": [
    "*Wykres 2. Liczebności populacji drapieżców dla poszczególnych metod rozwiązywania równań w zależności od czasu*\n",
    "\n",
    "Widoczne są cykliczne naprzemienne wahania obu populacji. Populacja ofiar dochodzi do wyższych liczebności niż populacja drapieżników. Widać różnice między poszczególnymi liniami wskazują na wpływ wybranej metody numerycznej na dokładność symulacji. Różnice w dokładności zwiększają się z czasem.\n",
    "\n",
    "Następnie stworzyliśmy wspólny wykres portretów fazowych układów dla poszczególnych metod."
   ],
   "id": "8980a655ad148e1a"
  },
  {
   "metadata": {},
   "cell_type": "code",
   "outputs": [],
   "execution_count": null,
   "source": [
    "def plot_phase(function, label, color=None):\n",
    "    _, x_vec, y_vec, _ = function()\n",
    "    plt.plot(x_vec, y_vec, label=label, color=color)"
   ],
   "id": "cfec6d6f7ebb1747"
  },
  {
   "metadata": {},
   "cell_type": "code",
   "outputs": [],
   "execution_count": null,
   "source": [
    "plt.figure(figsize=(12, 6))\n",
    "plt.title(\"Portret fazowy układu dla poszczególnych metod\")\n",
    "plot_phase(euler_explicit, \"Jawna metoda Eulera\")\n",
    "plot_phase(euler_implicit, \"Niejawna metoda Eulera\")\n",
    "plot_phase(euler_half_explicit, \"Półjawna metoda Eulera\")\n",
    "plot_phase(runge_kutta_4, \"Metoda RK4\")\n",
    "plt.xlabel('Populacja ofiar')\n",
    "plt.ylabel('Populacja drapieżców')\n",
    "plt.legend()\n",
    "plt.grid(True)\n",
    "plt.show()"
   ],
   "id": "36ff91e7c0c15fc7"
  },
  {
   "metadata": {},
   "cell_type": "markdown",
   "source": [
    "*Wykres 3. Portret fazowy układu dla poszczególnych metod rozwiązywania równań*\n",
    "\n",
    "Widoczne są pętle, co oznacza, że układ jest cykliczny. Fizyczna interpretacja jest taka, że populacje ofiar i drapieżników współistnieją w dynamicznej równowadze: wzrost populacji ofiar prowadzi do wzrostu populacji drapieżników, co z kolei powoduje spadek populacji ofiar, a następnie spadek populacji drapieżników, cykl ten się powtarza. Dla metod RK4 i pójawnej cykle mają bardzo małe różnice. Dla metody jawnej cykle coraz badziej odbiegają na zewnątrz, a dla niejawnej do wewnątrz."
   ],
   "id": "9a9e3add7a3f4301"
  },
  {
   "metadata": {},
   "cell_type": "markdown",
   "source": [
    "$b)$ \n",
    "Następnym naszym zadaniem było wyznaczenie warunktów początkowych liczebności, dla których populacja nie ulegnie zmianie. W tym celu ręcznie rozwiązaliśmy układ równań\n",
    "$$\n",
    "x` = x(\\alpha_1 - \\beta_1 y) = 0\n",
    "$$\n",
    "$$\n",
    "y` = y(-\\alpha_2+ \\beta_2x) = 0\n",
    "$$\n",
    "\n",
    "Układ ten ma cztery przypadki do rozważenia:\n",
    "1. $x=0$ i $y=0$ - wtedy to układ ma rozwiązanie $(0,0)$\n",
    "2. $x=0$ i $-\\alpha_2+ \\beta_2x=0$ - wtedy z racji, że $x=0$ otrzymujemy, że $\\alpha_2=0$, co jest sprzeczne z założeniem, że $\\alpha_2>0$\n",
    "3. $-\\alpha_1 + \\beta_1 y=0$ i $y=0$ - wtedy z racji, że $y=0$ otrzymujemy, że $\\alpha_1=0$, co jest sprzeczne z założeniem, że $\\alpha_1>0$\n",
    "4. $-\\alpha_1 + \\beta_1 y=0$ i $-\\alpha_2+ \\beta_2x=0$ - wtedy otrzymujemy, że rozwiązaniem układu jest $(\\frac{\\alpha_2}{\\beta_2}, \\frac{\\alpha_1}{\\beta_1})$\n",
    "\n",
    "Zatem finalnie wynika, że liczebność populacji nie ulegnie zmianie, gdy wartości początkowe będą wynosiły $(0,0)$ lub $(\\frac{\\alpha_2}{\\beta_2}, \\frac{\\alpha_1}{\\beta_1})$."
   ],
   "id": "749fbafdc97def90"
  },
  {
   "metadata": {},
   "cell_type": "markdown",
   "source": "Podpunkt $c)$ polegał na wyznaczeniu wartości niezmiennika dla poszczególnych metod. Wzór na jego wartość to $$H(x, y) = \\beta_2 x + \\beta_1 y - \\alpha_2 \\ln(x) - \\alpha_1 \\ln(y)$$ Otrzymane wartości nanieśliśmy na poniższy wykres",
   "id": "283c6f33f7ed692d"
  },
  {
   "metadata": {},
   "cell_type": "code",
   "outputs": [],
   "execution_count": null,
   "source": [
    "t_vec, _, _, H_euler_explicit = euler_explicit()\n",
    "H_euler_implicit = euler_implicit()[3]\n",
    "H_euler_half_explicit = euler_half_explicit()[3]\n",
    "H_runge_kutta_4 = runge_kutta_4()[3]\n",
    "\n",
    "plt.figure(figsize=(12, 6))\n",
    "plt.title(\"Wartości niezmiennika H dla poszczególnych metod\")\n",
    "plt.plot(t_vec, H_euler_explicit, label=\"Jawna metoda Eulera\")\n",
    "plt.plot(t_vec, H_euler_implicit, label=\"Niejawna metoda Eulera\")\n",
    "plt.plot(t_vec, H_euler_half_explicit, label=\"Półjawna metoda Eulera\")\n",
    "plt.plot(t_vec, H_runge_kutta_4, label=\"Metoda RK4\")\n",
    "plt.xlabel('Czas')\n",
    "plt.ylabel('H')\n",
    "plt.legend()\n",
    "plt.grid(True)\n",
    "plt.show()"
   ],
   "id": "4eee4677188c9757"
  },
  {
   "metadata": {},
   "cell_type": "markdown",
   "source": [
    "*Wykres 4. Wartości niezmiennika H dla poszczególnych metod rozwiązywania równań w zależności od czasu*\n",
    "\n",
    "Niezmiennik jest zachowany dla metod RK4 i pójawnej metody Eulera, dla metody jawnej rośnie, a niejawnej maleje. Pokazuje to dokładność metody RK4 i pójawnej.\n",
    "\n",
    "$d)$ W ostatnim podpunkcie załadowaliśmy dane z załączonego pliku `LynxHare.txt`. Do szacowania współczynników $\\theta = [\\alpha_1, \\alpha_2, \\beta_1, \\beta_2]$ użyliśmy półjawnej metody Eulera. Zaimplementowaliśmy obie podane funkcje kosztu\n",
    "$$L_1(\\theta) = \\sum_{i=0}^{T} ((l_i - \\hat{l}_i)^2 + (h_i - \\hat{h}_i)^2),$$\n",
    "$$L_2(\\theta) = -\\sum_{i=0}^{T} l_i \\ln \\hat{l}_i - \\sum_{i=0}^{T} h_i \\ln \\hat{h}_i + \\sum_{i=0}^{T} \\hat{l}_i + \\sum_{i=0}^{T} \\hat{h}_i.$$\n",
    "Następnie oszacowaliśmy współczynniki używając funkcji `scipy.optimize.minimize`, z parametrem `method='Nelder-Mead'` i argumantami początkowymi takimi jak w poprzednim zadaniu $[\\alpha_1, \\alpha_2, \\beta_1, \\beta_2] = [1, 0.5, 0.1, 0.02]$"
   ],
   "id": "53e235a4967ed7a7"
  },
  {
   "metadata": {},
   "cell_type": "code",
   "outputs": [],
   "execution_count": null,
   "source": [
    "column_names = ['Year', 'Lynx', 'Hare']\n",
    "\n",
    "df = pd.read_csv(\n",
    "    \"LynxHare.txt\",\n",
    "    sep=r'\\s+',\n",
    "    header=None,\n",
    "    names=column_names,\n",
    "    index_col=False,\n",
    ")\n",
    "\n",
    "year = np.array(df['Year'])\n",
    "lynx = np.array(df['Lynx'], dtype=np.float64)\n",
    "hare = np.array(df['Hare'], dtype=np.float64)"
   ],
   "id": "b929cde49e800fb9"
  },
  {
   "metadata": {},
   "cell_type": "code",
   "outputs": [],
   "execution_count": null,
   "source": [
    "nsteps = year[-1] - year[0]\n",
    "t = np.arange(year[0], year[-1] + 1)\n",
    "lynx_sim_init = np.zeros(nsteps + 1)\n",
    "lynx_sim_init[0] = lynx[0]\n",
    "hare_sim_init = np.zeros(nsteps + 1)\n",
    "hare_sim_init[0] = hare[0]\n",
    "\n",
    "def euler_half_implicit_lynx_hare(lynx_sim, hare_sim, a1, b1, a2, b2):\n",
    "    for k in range(len(t) - 1):\n",
    "        hare_sim[k + 1] = hare_sim[k] / (1 + h * (-a1 + b1 * lynx_sim[k]))\n",
    "        lynx_sim[k + 1] = lynx_sim[k] + h * lynx_sim[k] * (-a2 + b2 * hare_sim[k])\n",
    "    return lynx_sim, hare_sim\n",
    "\n",
    "def runge_kutta_4_lynx_hare(lynx_sim, hare_sim, a1, b1, a2, b2):\n",
    "\n",
    "    def dx(x, y):\n",
    "        return x * (a1 - b1 * y)\n",
    "\n",
    "    def dy(x, y):\n",
    "        return y * (-a2 + b2 * x)\n",
    "\n",
    "\n",
    "    for k in range(len(t) - 1):\n",
    "        kx1 = dx(hare_sim[k], lynx_sim[k])\n",
    "        kx2 = dx(hare_sim[k] + h / 2, lynx_sim[k] + h * kx1 / 2)\n",
    "        kx3 = dx(hare_sim[k] + h / 2, lynx_sim[k] + h * kx2 / 2)\n",
    "        kx4 = dx(hare_sim[k] + h, lynx_sim[k] + h * kx3)\n",
    "        hare_sim[k + 1] = hare_sim[k] + (h / 6) * (kx1 + 2 * kx2 + 2 * kx3 + kx4)\n",
    "\n",
    "        ky1 = dy(hare_sim[k], lynx_sim[k])\n",
    "        ky2 = dy(hare_sim[k] + h / 2, lynx_sim[k] + h * ky1 / 2)\n",
    "        ky3 = dy(hare_sim[k] + h / 2, lynx_sim[k] + h * ky2 / 2)\n",
    "        ky4 = dy(hare_sim[k] + h, lynx_sim[k] + h * ky3)\n",
    "        lynx_sim[k + 1] = lynx_sim[k] + (h / 6) * (ky1 + 2 * ky2 + 2 * ky3 + ky4)\n",
    "    return lynx_sim, hare_sim\n",
    "\n",
    "def L1(theta):\n",
    "    a1, a2, b1, b2 = theta\n",
    "    if any(theta < 0):\n",
    "        return np.inf\n",
    "    lynx_sim, hare_sim = euler_half_implicit_lynx_hare(\n",
    "        np.copy(lynx_sim_init), np.copy(hare_sim_init), a1, b1, a2, b2)\n",
    "\n",
    "    if any(lynx_sim <= 0) or any(hare_sim <= 0):\n",
    "        return np.inf\n",
    "\n",
    "    rss = np.sum((lynx - lynx_sim)**2) + \\\n",
    "          np.sum((hare - hare_sim)**2)\n",
    "    return rss\n",
    "\n",
    "def L2(theta):\n",
    "    a1, a2, b1, b2 = theta\n",
    "    if any(theta < 0):\n",
    "        return np.inf\n",
    "    lynx_sim, hare_sim = euler_half_implicit_lynx_hare(\n",
    "        np.copy(lynx_sim_init), np.copy(hare_sim_init), a1, b1, a2, b2)\n",
    "    \n",
    "    if any(lynx_sim <= 0) or any(hare_sim <= 0):\n",
    "        return np.inf\n",
    "    \n",
    "    rss = -np.sum(lynx * np.log(lynx_sim)) - \\\n",
    "            np.sum(hare * np.log(hare_sim)) + \\\n",
    "            np.sum(lynx_sim) + np.sum(hare_sim)\n",
    "    \n",
    "    return rss\n",
    "\n",
    "x0 = [1, 0.5, 0.1, 0.02]"
   ],
   "id": "8c31b21b01910988"
  },
  {
   "metadata": {},
   "cell_type": "code",
   "outputs": [],
   "execution_count": null,
   "source": [
    "result1 = minimize(\n",
    "    L1,\n",
    "    np.array(x0, dtype=np.float64).copy(),\n",
    "    method='Nelder-Mead',\n",
    "    options={'disp': True, 'maxiter': 10000}\n",
    ")\n",
    "print(result1.x)"
   ],
   "id": "d1c138939d4dd2c8"
  },
  {
   "metadata": {},
   "cell_type": "code",
   "outputs": [],
   "execution_count": null,
   "source": [
    "result2 = minimize(\n",
    "    L2,\n",
    "    np.array(x0, dtype=np.float64).copy(),\n",
    "    method='Nelder-Mead',\n",
    "    options={'disp': True, 'maxiter': 10000}\n",
    ")\n",
    "print(result2.x)"
   ],
   "id": "a1e87a91196fd22a"
  },
  {
   "metadata": {},
   "cell_type": "markdown",
   "source": "Otrzymaliśmy wyniki $[\\alpha_1, \\alpha_2, \\beta_1, \\beta_2] = [2.85357928^{-13}, 51.5984032, 0.00425899443, 1.84599446]$ dla $L_1$ i $[\\alpha_1, \\alpha_2, \\beta_1, \\beta_2] = [1.43146198^{-11}, 50.1665882, 0.00396088255, 1.79383283]$ dla $L_2$. Wszystkie parametry oprócz $\\alpha_1$ są bardzo zbliżone w obu przypadkach. $\\alpha_1$ w obu przypadkach jest bardzo małe.",
   "id": "6489ee6dd15ec83a"
  },
  {
   "metadata": {},
   "cell_type": "markdown",
   "source": [
    "## Podusmowanie\n",
    "W ramach laboratorium przeprowadziliśmy analizę numeryczną modelu drapieżnik-ofiara (Lotki-Volterry). Najpierw zaimplementowano rozwiązania równań różniczkowych metodą Eulera (jawną, niejawną i półjawną) oraz metodą RK4, a następnie przeprowadzono symulacje układu dla podanych parametrów i warunków początkowych. Sporządzono wykresy liczby drapieżników oraz portret fazowy. Sprawdzono również zachowanie niezmiennika układu. Następnie wyestymowano parametry modelu na podstawie rzeczywistych danych populacyjnych, wykorzystując metody optymalizacji numerycznej. Otrzymane wyniki potwierdziły poprawność modelu i dobrane parametry."
   ],
   "id": "68460b467cb35345"
  },
  {
   "metadata": {},
   "cell_type": "markdown",
   "source": [
    "## Bibliografia\n",
    "\n",
    " - Materiały zamieszczone na platformie Microsoft Teams w zespole $\\textit{MOwNiT 2025}$ w zakładce $\\textit{Materiały z zajęć/lab09/lab9-intro.pdf}$"
   ],
   "id": "be2a2d947e51123b"
  }
 ],
 "metadata": {
  "kernelspec": {
   "display_name": "Python 3",
   "language": "python",
   "name": "python3"
  },
  "language_info": {
   "codemirror_mode": {
    "name": "ipython",
    "version": 2
   },
   "file_extension": ".py",
   "mimetype": "text/x-python",
   "name": "python",
   "nbconvert_exporter": "python",
   "pygments_lexer": "ipython2",
   "version": "2.7.6"
  }
 },
 "nbformat": 4,
 "nbformat_minor": 5
}
