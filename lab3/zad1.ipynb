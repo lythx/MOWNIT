{
 "cells": [
  {
   "cell_type": "code",
   "metadata": {},
   "source": [
    "import numpy as np\n",
    "import matplotlib.pyplot as plt"
   ],
   "outputs": [],
   "execution_count": null
  },
  {
   "cell_type": "code",
   "metadata": {},
   "source": [
    "x_vec = np.array([   \n",
    "    1900, 1910, 1920, 1930, 1940, 1950, 1960, 1970, 1980\n",
    "], dtype=np.double) # unikanie overflow przy interpolacji Lagrange'a\n",
    "y_vec = np.array([   \n",
    "    76_212_168,\n",
    "    92_228_496,\n",
    "    106_021_537,\n",
    "    123_202_624,\n",
    "    132_164_569,\n",
    "    151_325_798,\n",
    "    179_323_175,\n",
    "    203_302_031,\n",
    "    226_542_199,\n",
    "], dtype=np.double)\n",
    "n = len(x_vec)"
   ],
   "outputs": [],
   "execution_count": null
  },
  {
   "cell_type": "code",
   "metadata": {},
   "source": [
    "vander1 = np.array([x**j for x in x_vec for j in reversed(range(n))]).reshape(n, n)\n",
    "vander2 = np.array([(x - 1900)**j for x in x_vec for j in reversed(range(n))]).reshape(n, n)\n",
    "vander3 = np.array([(x - 1940)**j for x in x_vec for j in reversed(range(n))]).reshape(n, n)\n",
    "vander4 = np.array([((x - 1940) / 40)**j for x in x_vec for j in reversed(range(n))]).reshape(n, n)"
   ],
   "outputs": [],
   "execution_count": null
  },
  {
   "cell_type": "code",
   "metadata": {},
   "source": [
    "cond1 = np.linalg.cond(vander1)\n",
    "cond2 = np.linalg.cond(vander2)\n",
    "cond3 = np.linalg.cond(vander3)\n",
    "cond4 = np.linalg.cond(vander4)\n",
    "print(f\"Cond1: {cond1}\")\n",
    "print(f\"Cond2: {cond2}\")\n",
    "print(f\"Cond3: {cond3}\")\n",
    "print(f\"Cond4: {cond4}\")"
   ],
   "outputs": [],
   "execution_count": null
  },
  {
   "cell_type": "code",
   "metadata": {},
   "source": [
    "vander = vander4\n",
    "a_vec = np.linalg.solve(vander, y_vec)\n",
    "print(f\"a_vec: {a_vec}\")"
   ],
   "outputs": [],
   "execution_count": null
  },
  {
   "cell_type": "code",
   "metadata": {},
   "source": [
    "def horner(a_vec, x):\n",
    "    ret = 0\n",
    "    for a in a_vec: \n",
    "        ret = a + x * ret\n",
    "    return ret\n",
    "\n",
    "x_vec_1y = np.arange(1900, 1991, 1)\n",
    "y_vec_1y = horner(a_vec, np.array([(x - 1940) / 40 for x in x_vec_1y])) \n",
    "plt.plot(x_vec_1y, y_vec_1y, label = 'Wielomian interpolacyjny')\n",
    "plt.scatter(x_vec, y_vec, color = 'red', label = 'Węzły interpolacji')\n",
    "plt.xlabel('Rok')\n",
    "plt.ylabel('Populacja')\n",
    "plt.title('Wykres wielomianu interpolacyjnego')\n",
    "plt.legend()\n",
    "plt.grid(True)\n",
    "plt.show()"
   ],
   "outputs": [],
   "execution_count": null
  },
  {
   "metadata": {},
   "cell_type": "code",
   "source": [
    "real_1990 = 248_709_873\n",
    "extr_1990 = horner(a_vec, (1990 - 1940) / 40)\n",
    "err = abs(real_1990 - extr_1990)\n",
    "print(f\"Wartość z ekstrapolacji: {extr_1990}\")\n",
    "print(f\"Prawdziwa wartość: {real_1990}\")\n",
    "print(f\"Błąd względny: {err / real_1990}\")"
   ],
   "outputs": [],
   "execution_count": null
  },
  {
   "metadata": {},
   "cell_type": "code",
   "source": [
    "y_vec_1y_lagrange = np.zeros(len(x_vec_1y)) \n",
    "den = np.zeros(n)\n",
    "\n",
    "for i in range(n):\n",
    "    den[i] = np.prod(x_vec[:i] - x_vec[i]) * np.prod(x_vec[i + 1:] - x_vec[i])\n",
    "\n",
    "for i in range(n):\n",
    "    term = y_vec[i]\n",
    "    for j in range(n):\n",
    "        if j != i:\n",
    "            term *= (x_vec_1y - x_vec[j])\n",
    "    y_vec_1y_lagrange += term / den[i]\n",
    "\n",
    "plt.plot(x_vec_1y, y_vec_1y_lagrange, label = 'Wielomian interpolacyjny')\n",
    "plt.scatter(x_vec, y_vec, color = 'red', label = 'Węzły interpolacji')\n",
    "plt.xlabel('Rok')\n",
    "plt.ylabel('Populacja')\n",
    "plt.title(\"Wykres wielomianu interpolacyjnego Lagrange'a\")\n",
    "plt.legend()\n",
    "plt.grid(True)\n",
    "plt.show()"
   ],
   "outputs": [],
   "execution_count": null
  },
  {
   "metadata": {},
   "cell_type": "code",
   "source": [
    "a_vec_newton = np.array(y_vec, copy = True, dtype = np.double)\n",
    "\n",
    "for i in range(1, n):\n",
    "    a_vec_newton[i:n] = (a_vec_newton[i:n] - a_vec_newton[i - 1]) / (x_vec[i:n] - x_vec[i - 1])\n",
    "\n",
    "p_vec_newton = np.ones(shape = (n, len(x_vec_1y)))\n",
    "\n",
    "for i in range(1, n):\n",
    "    for j in range(i):\n",
    "        p_vec_newton[i] *= (x_vec_1y - x_vec[j])\n",
    "\n",
    "y_vec_1y_newton = np.dot(a_vec_newton, p_vec_newton)\n",
    "\n",
    "plt.plot(x_vec_1y, y_vec_1y_newton, label = 'Wielomian interpolacyjny')\n",
    "plt.scatter(x_vec, y_vec, color = 'red', label = 'Węzły interpolacji')\n",
    "plt.xlabel('Rok')\n",
    "plt.ylabel('Populacja')\n",
    "plt.title(\"Wykres wielomianu interpolacyjnego Newtona'a\")\n",
    "plt.legend()\n",
    "plt.grid(True)\n",
    "plt.show()"
   ],
   "outputs": [],
   "execution_count": null
  }
 ],
 "metadata": {
  "kernelspec": {
   "display_name": "base",
   "language": "python",
   "name": "python3"
  },
  "language_info": {
   "codemirror_mode": {
    "name": "ipython",
    "version": 3
   },
   "file_extension": ".py",
   "mimetype": "text/x-python",
   "name": "python",
   "nbconvert_exporter": "python",
   "pygments_lexer": "ipython3",
   "version": "3.12.7"
  }
 },
 "nbformat": 4,
 "nbformat_minor": 2
}
