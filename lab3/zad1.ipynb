{
 "cells": [
  {
   "cell_type": "code",
   "execution_count": 1,
   "metadata": {},
   "outputs": [],
   "source": [
    "import numpy as np\n",
    "import matplotlib.pyplot as plt"
   ]
  },
  {
   "cell_type": "code",
   "execution_count": 10,
   "metadata": {},
   "outputs": [],
   "source": [
    "data = [   \n",
    "    1900, 1910, 1920, 1930, 1940, 1950, 1960, 1970, 1980\n",
    "]\n",
    "y_vec = [   \n",
    "    76_212_168,\n",
    "    92_228_496,\n",
    "    106_021_537,\n",
    "    123_202_624,\n",
    "    132_164_569,\n",
    "    151_325_798,\n",
    "    179_323_175,\n",
    "    203_302_031,\n",
    "    226_542_199,\n",
    "]"
   ]
  },
  {
   "cell_type": "code",
   "execution_count": 7,
   "metadata": {},
   "outputs": [],
   "source": [
    "matrix1 = np.array([data[i]**j for i in range(len(data)) for j in range(len(data))], dtype=float).reshape(len(data), len(data))\n",
    "matrix2 = np.array([(data[i] - 1900)**j for i in range(len(data)) for j in range(len(data))],  dtype=float).reshape(len(data), len(data))\n",
    "matrix3 = np.array([(data[i] - 1940)**j for i in range(len(data)) for j in range(len(data))], dtype=float).reshape(len(data), len(data))\n",
    "matrix4 = np.array([((data[i] - 1940) / 40)**j for i in range(len(data)) for j in range(len(data))], dtype=float).reshape(len(data), len(data))"
   ]
  },
  {
   "cell_type": "code",
   "execution_count": 9,
   "metadata": {},
   "outputs": [
    {
     "name": "stdout",
     "output_type": "stream",
     "text": [
      "Cond1: 1.434489710526478e+37\n",
      "Cond2: 6313911222583060.0\n",
      "Cond3: 9315536039705.943\n",
      "Cond4: 1605.443700478641\n"
     ]
    }
   ],
   "source": [
    "cond1 = np.linalg.cond(matrix1)\n",
    "cond2 = np.linalg.cond(matrix2)\n",
    "cond3 = np.linalg.cond(matrix3)\n",
    "cond4 = np.linalg.cond(matrix4)\n",
    "print(f\"Cond1: {cond1}\")\n",
    "print(f\"Cond2: {cond2}\")\n",
    "print(f\"Cond3: {cond3}\")\n",
    "print(f\"Cond4: {cond4}\")"
   ]
  },
  {
   "cell_type": "code",
   "execution_count": 11,
   "metadata": {},
   "outputs": [
    {
     "name": "stdout",
     "output_type": "stream",
     "text": [
      "a_vec: [ 1.32164569e+08  4.61307656e+07  1.02716315e+08  1.82527130e+08\n",
      " -3.74614715e+08 -3.42668456e+08  6.06291250e+08  1.89175576e+08\n",
      " -3.15180235e+08]\n"
     ]
    }
   ],
   "source": [
    "a_vec = np.linalg.solve(matrix4, y_vec)\n",
    "print(f\"a_vec: {a_vec}\")"
   ]
  },
  {
   "cell_type": "code",
   "execution_count": null,
   "metadata": {},
   "outputs": [],
   "source": []
  }
 ],
 "metadata": {
  "kernelspec": {
   "display_name": "base",
   "language": "python",
   "name": "python3"
  },
  "language_info": {
   "codemirror_mode": {
    "name": "ipython",
    "version": 3
   },
   "file_extension": ".py",
   "mimetype": "text/x-python",
   "name": "python",
   "nbconvert_exporter": "python",
   "pygments_lexer": "ipython3",
   "version": "3.12.7"
  }
 },
 "nbformat": 4,
 "nbformat_minor": 2
}
